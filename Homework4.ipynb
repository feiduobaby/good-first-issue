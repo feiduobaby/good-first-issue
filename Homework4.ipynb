{
  "nbformat": 4,
  "nbformat_minor": 0,
  "metadata": {
    "colab": {
      "provenance": [],
<<<<<<< HEAD
      "authorship_tag": "ABX9TyMlko/ikqkNBNg3KFvh6loF",
=======
      "authorship_tag": "ABX9TyMkcnMeV/u7BYeLw4SlRqG0",
>>>>>>> parent of 32d3ccd (使用 Colab 创建而成)
      "include_colab_link": true
    },
    "kernelspec": {
      "name": "python3",
      "display_name": "Python 3"
    },
    "language_info": {
      "name": "python"
    },
    "widgets": {
      "application/vnd.jupyter.widget-state+json": {
        "9992082ea99f421c8b769c15e051ca84": {
          "model_module": "@jupyter-widgets/controls",
          "model_name": "HBoxModel",
          "model_module_version": "1.5.0",
          "state": {
            "_dom_classes": [],
            "_model_module": "@jupyter-widgets/controls",
            "_model_module_version": "1.5.0",
            "_model_name": "HBoxModel",
            "_view_count": null,
            "_view_module": "@jupyter-widgets/controls",
            "_view_module_version": "1.5.0",
            "_view_name": "HBoxView",
            "box_style": "",
            "children": [
              "IPY_MODEL_7ed1f831595d42b3a74b7994fa74ce26",
              "IPY_MODEL_f1d0530b085e463bbfc05f3493bf1e21",
              "IPY_MODEL_1b96458bbb6a43cdaed6f2a5375c3dbc"
            ],
            "layout": "IPY_MODEL_fc9882eb91f141ddb188c855b82b1037"
          }
        },
        "7ed1f831595d42b3a74b7994fa74ce26": {
          "model_module": "@jupyter-widgets/controls",
          "model_name": "HTMLModel",
          "model_module_version": "1.5.0",
          "state": {
            "_dom_classes": [],
            "_model_module": "@jupyter-widgets/controls",
            "_model_module_version": "1.5.0",
            "_model_name": "HTMLModel",
            "_view_count": null,
            "_view_module": "@jupyter-widgets/controls",
            "_view_module_version": "1.5.0",
            "_view_name": "HTMLView",
            "description": "",
            "description_tooltip": null,
            "layout": "IPY_MODEL_1b7c7ec9365f40858d4899795b71c0c1",
            "placeholder": "​",
            "style": "IPY_MODEL_6a5dc1e49b234439914929e1dd39d445",
            "value": "100%"
          }
        },
        "f1d0530b085e463bbfc05f3493bf1e21": {
          "model_module": "@jupyter-widgets/controls",
          "model_name": "FloatProgressModel",
          "model_module_version": "1.5.0",
          "state": {
            "_dom_classes": [],
            "_model_module": "@jupyter-widgets/controls",
            "_model_module_version": "1.5.0",
            "_model_name": "FloatProgressModel",
            "_view_count": null,
            "_view_module": "@jupyter-widgets/controls",
            "_view_module_version": "1.5.0",
            "_view_name": "ProgressView",
            "bar_style": "success",
            "description": "",
            "description_tooltip": null,
            "layout": "IPY_MODEL_30edd4892f0a4ec8a195c7432b405100",
            "max": 7,
            "min": 0,
            "orientation": "horizontal",
            "style": "IPY_MODEL_413a8cde56544f7ebd7cdd920d51497f",
            "value": 7
          }
        },
        "1b96458bbb6a43cdaed6f2a5375c3dbc": {
          "model_module": "@jupyter-widgets/controls",
          "model_name": "HTMLModel",
          "model_module_version": "1.5.0",
          "state": {
            "_dom_classes": [],
            "_model_module": "@jupyter-widgets/controls",
            "_model_module_version": "1.5.0",
            "_model_name": "HTMLModel",
            "_view_count": null,
            "_view_module": "@jupyter-widgets/controls",
            "_view_module_version": "1.5.0",
            "_view_name": "HTMLView",
            "description": "",
            "description_tooltip": null,
            "layout": "IPY_MODEL_b17c91b6e688480d802732104dd73752",
            "placeholder": "​",
            "style": "IPY_MODEL_d87e0e6ab74f485ba1e8e30620a0c875",
            "value": " 7/7 [00:12&lt;00:00,  1.53s/it]"
          }
        },
        "fc9882eb91f141ddb188c855b82b1037": {
          "model_module": "@jupyter-widgets/base",
          "model_name": "LayoutModel",
          "model_module_version": "1.2.0",
          "state": {
            "_model_module": "@jupyter-widgets/base",
            "_model_module_version": "1.2.0",
            "_model_name": "LayoutModel",
            "_view_count": null,
            "_view_module": "@jupyter-widgets/base",
            "_view_module_version": "1.2.0",
            "_view_name": "LayoutView",
            "align_content": null,
            "align_items": null,
            "align_self": null,
            "border": null,
            "bottom": null,
            "display": null,
            "flex": null,
            "flex_flow": null,
            "grid_area": null,
            "grid_auto_columns": null,
            "grid_auto_flow": null,
            "grid_auto_rows": null,
            "grid_column": null,
            "grid_gap": null,
            "grid_row": null,
            "grid_template_areas": null,
            "grid_template_columns": null,
            "grid_template_rows": null,
            "height": null,
            "justify_content": null,
            "justify_items": null,
            "left": null,
            "margin": null,
            "max_height": null,
            "max_width": null,
            "min_height": null,
            "min_width": null,
            "object_fit": null,
            "object_position": null,
            "order": null,
            "overflow": null,
            "overflow_x": null,
            "overflow_y": null,
            "padding": null,
            "right": null,
            "top": null,
            "visibility": null,
            "width": null
          }
        },
        "1b7c7ec9365f40858d4899795b71c0c1": {
          "model_module": "@jupyter-widgets/base",
          "model_name": "LayoutModel",
          "model_module_version": "1.2.0",
          "state": {
            "_model_module": "@jupyter-widgets/base",
            "_model_module_version": "1.2.0",
            "_model_name": "LayoutModel",
            "_view_count": null,
            "_view_module": "@jupyter-widgets/base",
            "_view_module_version": "1.2.0",
            "_view_name": "LayoutView",
            "align_content": null,
            "align_items": null,
            "align_self": null,
            "border": null,
            "bottom": null,
            "display": null,
            "flex": null,
            "flex_flow": null,
            "grid_area": null,
            "grid_auto_columns": null,
            "grid_auto_flow": null,
            "grid_auto_rows": null,
            "grid_column": null,
            "grid_gap": null,
            "grid_row": null,
            "grid_template_areas": null,
            "grid_template_columns": null,
            "grid_template_rows": null,
            "height": null,
            "justify_content": null,
            "justify_items": null,
            "left": null,
            "margin": null,
            "max_height": null,
            "max_width": null,
            "min_height": null,
            "min_width": null,
            "object_fit": null,
            "object_position": null,
            "order": null,
            "overflow": null,
            "overflow_x": null,
            "overflow_y": null,
            "padding": null,
            "right": null,
            "top": null,
            "visibility": null,
            "width": null
          }
        },
        "6a5dc1e49b234439914929e1dd39d445": {
          "model_module": "@jupyter-widgets/controls",
          "model_name": "DescriptionStyleModel",
          "model_module_version": "1.5.0",
          "state": {
            "_model_module": "@jupyter-widgets/controls",
            "_model_module_version": "1.5.0",
            "_model_name": "DescriptionStyleModel",
            "_view_count": null,
            "_view_module": "@jupyter-widgets/base",
            "_view_module_version": "1.2.0",
            "_view_name": "StyleView",
            "description_width": ""
          }
        },
        "30edd4892f0a4ec8a195c7432b405100": {
          "model_module": "@jupyter-widgets/base",
          "model_name": "LayoutModel",
          "model_module_version": "1.2.0",
          "state": {
            "_model_module": "@jupyter-widgets/base",
            "_model_module_version": "1.2.0",
            "_model_name": "LayoutModel",
            "_view_count": null,
            "_view_module": "@jupyter-widgets/base",
            "_view_module_version": "1.2.0",
            "_view_name": "LayoutView",
            "align_content": null,
            "align_items": null,
            "align_self": null,
            "border": null,
            "bottom": null,
            "display": null,
            "flex": null,
            "flex_flow": null,
            "grid_area": null,
            "grid_auto_columns": null,
            "grid_auto_flow": null,
            "grid_auto_rows": null,
            "grid_column": null,
            "grid_gap": null,
            "grid_row": null,
            "grid_template_areas": null,
            "grid_template_columns": null,
            "grid_template_rows": null,
            "height": null,
            "justify_content": null,
            "justify_items": null,
            "left": null,
            "margin": null,
            "max_height": null,
            "max_width": null,
            "min_height": null,
            "min_width": null,
            "object_fit": null,
            "object_position": null,
            "order": null,
            "overflow": null,
            "overflow_x": null,
            "overflow_y": null,
            "padding": null,
            "right": null,
            "top": null,
            "visibility": null,
            "width": null
          }
        },
        "413a8cde56544f7ebd7cdd920d51497f": {
          "model_module": "@jupyter-widgets/controls",
          "model_name": "ProgressStyleModel",
          "model_module_version": "1.5.0",
          "state": {
            "_model_module": "@jupyter-widgets/controls",
            "_model_module_version": "1.5.0",
            "_model_name": "ProgressStyleModel",
            "_view_count": null,
            "_view_module": "@jupyter-widgets/base",
            "_view_module_version": "1.2.0",
            "_view_name": "StyleView",
            "bar_color": null,
            "description_width": ""
          }
        },
        "b17c91b6e688480d802732104dd73752": {
          "model_module": "@jupyter-widgets/base",
          "model_name": "LayoutModel",
          "model_module_version": "1.2.0",
          "state": {
            "_model_module": "@jupyter-widgets/base",
            "_model_module_version": "1.2.0",
            "_model_name": "LayoutModel",
            "_view_count": null,
            "_view_module": "@jupyter-widgets/base",
            "_view_module_version": "1.2.0",
            "_view_name": "LayoutView",
            "align_content": null,
            "align_items": null,
            "align_self": null,
            "border": null,
            "bottom": null,
            "display": null,
            "flex": null,
            "flex_flow": null,
            "grid_area": null,
            "grid_auto_columns": null,
            "grid_auto_flow": null,
            "grid_auto_rows": null,
            "grid_column": null,
            "grid_gap": null,
            "grid_row": null,
            "grid_template_areas": null,
            "grid_template_columns": null,
            "grid_template_rows": null,
            "height": null,
            "justify_content": null,
            "justify_items": null,
            "left": null,
            "margin": null,
            "max_height": null,
            "max_width": null,
            "min_height": null,
            "min_width": null,
            "object_fit": null,
            "object_position": null,
            "order": null,
            "overflow": null,
            "overflow_x": null,
            "overflow_y": null,
            "padding": null,
            "right": null,
            "top": null,
            "visibility": null,
            "width": null
          }
        },
        "d87e0e6ab74f485ba1e8e30620a0c875": {
          "model_module": "@jupyter-widgets/controls",
          "model_name": "DescriptionStyleModel",
          "model_module_version": "1.5.0",
          "state": {
            "_model_module": "@jupyter-widgets/controls",
            "_model_module_version": "1.5.0",
            "_model_name": "DescriptionStyleModel",
            "_view_count": null,
            "_view_module": "@jupyter-widgets/base",
            "_view_module_version": "1.2.0",
            "_view_name": "StyleView",
            "description_width": ""
          }
        }
      }
    }
  },
  "cells": [
    {
      "cell_type": "markdown",
      "metadata": {
        "id": "view-in-github",
        "colab_type": "text"
      },
      "source": [
        "<a href=\"https://colab.research.google.com/github/feiduobaby/good-first-issue/blob/main/Homework4.ipynb\" target=\"_parent\"><img src=\"https://colab.research.google.com/assets/colab-badge.svg\" alt=\"Open In Colab\"/></a>"
      ]
    },
    {
      "cell_type": "code",
      "execution_count": 32,
      "metadata": {
        "id": "rr0JSKB8qCmT"
      },
      "outputs": [],
      "source": [
        "import pandas as pd\n",
        "import numpy as np\n",
        "\n",
        "import matplotlib.pyplot as plt\n",
        "from sklearn.model_selection import train_test_split\n",
        "from sklearn.feature_extraction import DictVectorizer\n",
        "from sklearn.linear_model import LogisticRegression"
      ]
    },
    {
      "cell_type": "markdown",
      "source": [
        "# 1 Data Prepatation"
      ],
      "metadata": {
        "id": "xzumKaz4E_a2"
      }
    },
    {
      "cell_type": "code",
      "source": [
        "!wget $'https://raw.githubusercontent.com/alexeygrigorev/datasets/master/course_lead_scoring.csv'"
      ],
      "metadata": {
        "colab": {
          "base_uri": "https://localhost:8080/"
        },
        "id": "jNV-Z7TdqqJ7",
        "outputId": "87dc630e-70c7-458d-8ae3-43d1d33a8f4b"
      },
      "execution_count": 33,
      "outputs": [
        {
          "output_type": "stream",
          "name": "stdout",
          "text": [
            "--2025-10-15 08:54:28--  https://raw.githubusercontent.com/alexeygrigorev/datasets/master/course_lead_scoring.csv\n",
            "Resolving raw.githubusercontent.com (raw.githubusercontent.com)... 185.199.108.133, 185.199.109.133, 185.199.110.133, ...\n",
            "Connecting to raw.githubusercontent.com (raw.githubusercontent.com)|185.199.108.133|:443... connected.\n",
            "HTTP request sent, awaiting response... 200 OK\n",
            "Length: 80876 (79K) [text/plain]\n",
            "Saving to: ‘course_lead_scoring.csv.1’\n",
            "\n",
            "\r          course_le   0%[                    ]       0  --.-KB/s               \rcourse_lead_scoring 100%[===================>]  78.98K  --.-KB/s    in 0.02s   \n",
            "\n",
            "2025-10-15 08:54:29 (3.55 MB/s) - ‘course_lead_scoring.csv.1’ saved [80876/80876]\n",
            "\n"
          ]
        }
      ]
    },
    {
      "cell_type": "code",
      "source": [
        "df = pd.read_csv('course_lead_scoring.csv')\n",
        "\n",
        "df.columns = df.columns.str.lower().str.replace(' ', '_')\n",
        "\n",
        "categorical = ['lead_source', 'industry', 'employment_status', 'location']\n",
        "numerical = ['number_of_courses_viewed', 'annual_income', 'interaction_count', 'lead_score']\n",
        "\n",
        "for c in categorical:\n",
        "    df[c] = df[c].fillna('NA')\n",
        "\n",
        "for c in numerical:\n",
        "    df[c] = df[c].fillna(0)\n"
      ],
      "metadata": {
        "id": "eB2WBwgHrFop"
      },
      "execution_count": 34,
      "outputs": []
    },
    {
      "cell_type": "code",
      "source": [
        "df"
      ],
      "metadata": {
        "colab": {
          "base_uri": "https://localhost:8080/",
          "height": 424
        },
        "id": "pq6KOLuBDDsL",
        "outputId": "4f643b19-dcf6-41ab-f1ac-165a0298ed65"
      },
      "execution_count": 35,
      "outputs": [
        {
          "output_type": "execute_result",
          "data": {
            "text/plain": [
              "         lead_source       industry  number_of_courses_viewed  annual_income  \\\n",
              "0           paid_ads             NA                         1        79450.0   \n",
              "1       social_media         retail                         1        46992.0   \n",
              "2             events     healthcare                         5        78796.0   \n",
              "3           paid_ads         retail                         2        83843.0   \n",
              "4           referral      education                         3        85012.0   \n",
              "...              ...            ...                       ...            ...   \n",
              "1457        referral  manufacturing                         1            0.0   \n",
              "1458        referral     technology                         3        65259.0   \n",
              "1459        paid_ads     technology                         1        45688.0   \n",
              "1460        referral             NA                         5        71016.0   \n",
              "1461  organic_search        finance                         3        92855.0   \n",
              "\n",
              "     employment_status       location  interaction_count  lead_score  \\\n",
              "0           unemployed  south_america                  4        0.94   \n",
              "1             employed  south_america                  1        0.80   \n",
              "2           unemployed      australia                  3        0.69   \n",
              "3                   NA      australia                  1        0.87   \n",
              "4        self_employed         europe                  3        0.62   \n",
              "...                ...            ...                ...         ...   \n",
              "1457     self_employed  north_america                  4        0.53   \n",
              "1458           student         europe                  2        0.24   \n",
              "1459           student  north_america                  3        0.02   \n",
              "1460     self_employed  north_america                  0        0.25   \n",
              "1461           student  north_america                  3        0.41   \n",
              "\n",
              "      converted  \n",
              "0             1  \n",
              "1             0  \n",
              "2             1  \n",
              "3             0  \n",
              "4             1  \n",
              "...         ...  \n",
              "1457          1  \n",
              "1458          1  \n",
              "1459          1  \n",
              "1460          1  \n",
              "1461          1  \n",
              "\n",
              "[1462 rows x 9 columns]"
            ],
            "text/html": [
              "\n",
              "  <div id=\"df-12064c20-1891-4ee2-87ad-f2e6c799e4df\" class=\"colab-df-container\">\n",
              "    <div>\n",
              "<style scoped>\n",
              "    .dataframe tbody tr th:only-of-type {\n",
              "        vertical-align: middle;\n",
              "    }\n",
              "\n",
              "    .dataframe tbody tr th {\n",
              "        vertical-align: top;\n",
              "    }\n",
              "\n",
              "    .dataframe thead th {\n",
              "        text-align: right;\n",
              "    }\n",
              "</style>\n",
              "<table border=\"1\" class=\"dataframe\">\n",
              "  <thead>\n",
              "    <tr style=\"text-align: right;\">\n",
              "      <th></th>\n",
              "      <th>lead_source</th>\n",
              "      <th>industry</th>\n",
              "      <th>number_of_courses_viewed</th>\n",
              "      <th>annual_income</th>\n",
              "      <th>employment_status</th>\n",
              "      <th>location</th>\n",
              "      <th>interaction_count</th>\n",
              "      <th>lead_score</th>\n",
              "      <th>converted</th>\n",
              "    </tr>\n",
              "  </thead>\n",
              "  <tbody>\n",
              "    <tr>\n",
              "      <th>0</th>\n",
              "      <td>paid_ads</td>\n",
              "      <td>NA</td>\n",
              "      <td>1</td>\n",
              "      <td>79450.0</td>\n",
              "      <td>unemployed</td>\n",
              "      <td>south_america</td>\n",
              "      <td>4</td>\n",
              "      <td>0.94</td>\n",
              "      <td>1</td>\n",
              "    </tr>\n",
              "    <tr>\n",
              "      <th>1</th>\n",
              "      <td>social_media</td>\n",
              "      <td>retail</td>\n",
              "      <td>1</td>\n",
              "      <td>46992.0</td>\n",
              "      <td>employed</td>\n",
              "      <td>south_america</td>\n",
              "      <td>1</td>\n",
              "      <td>0.80</td>\n",
              "      <td>0</td>\n",
              "    </tr>\n",
              "    <tr>\n",
              "      <th>2</th>\n",
              "      <td>events</td>\n",
              "      <td>healthcare</td>\n",
              "      <td>5</td>\n",
              "      <td>78796.0</td>\n",
              "      <td>unemployed</td>\n",
              "      <td>australia</td>\n",
              "      <td>3</td>\n",
              "      <td>0.69</td>\n",
              "      <td>1</td>\n",
              "    </tr>\n",
              "    <tr>\n",
              "      <th>3</th>\n",
              "      <td>paid_ads</td>\n",
              "      <td>retail</td>\n",
              "      <td>2</td>\n",
              "      <td>83843.0</td>\n",
              "      <td>NA</td>\n",
              "      <td>australia</td>\n",
              "      <td>1</td>\n",
              "      <td>0.87</td>\n",
              "      <td>0</td>\n",
              "    </tr>\n",
              "    <tr>\n",
              "      <th>4</th>\n",
              "      <td>referral</td>\n",
              "      <td>education</td>\n",
              "      <td>3</td>\n",
              "      <td>85012.0</td>\n",
              "      <td>self_employed</td>\n",
              "      <td>europe</td>\n",
              "      <td>3</td>\n",
              "      <td>0.62</td>\n",
              "      <td>1</td>\n",
              "    </tr>\n",
              "    <tr>\n",
              "      <th>...</th>\n",
              "      <td>...</td>\n",
              "      <td>...</td>\n",
              "      <td>...</td>\n",
              "      <td>...</td>\n",
              "      <td>...</td>\n",
              "      <td>...</td>\n",
              "      <td>...</td>\n",
              "      <td>...</td>\n",
              "      <td>...</td>\n",
              "    </tr>\n",
              "    <tr>\n",
              "      <th>1457</th>\n",
              "      <td>referral</td>\n",
              "      <td>manufacturing</td>\n",
              "      <td>1</td>\n",
              "      <td>0.0</td>\n",
              "      <td>self_employed</td>\n",
              "      <td>north_america</td>\n",
              "      <td>4</td>\n",
              "      <td>0.53</td>\n",
              "      <td>1</td>\n",
              "    </tr>\n",
              "    <tr>\n",
              "      <th>1458</th>\n",
              "      <td>referral</td>\n",
              "      <td>technology</td>\n",
              "      <td>3</td>\n",
              "      <td>65259.0</td>\n",
              "      <td>student</td>\n",
              "      <td>europe</td>\n",
              "      <td>2</td>\n",
              "      <td>0.24</td>\n",
              "      <td>1</td>\n",
              "    </tr>\n",
              "    <tr>\n",
              "      <th>1459</th>\n",
              "      <td>paid_ads</td>\n",
              "      <td>technology</td>\n",
              "      <td>1</td>\n",
              "      <td>45688.0</td>\n",
              "      <td>student</td>\n",
              "      <td>north_america</td>\n",
              "      <td>3</td>\n",
              "      <td>0.02</td>\n",
              "      <td>1</td>\n",
              "    </tr>\n",
              "    <tr>\n",
              "      <th>1460</th>\n",
              "      <td>referral</td>\n",
              "      <td>NA</td>\n",
              "      <td>5</td>\n",
              "      <td>71016.0</td>\n",
              "      <td>self_employed</td>\n",
              "      <td>north_america</td>\n",
              "      <td>0</td>\n",
              "      <td>0.25</td>\n",
              "      <td>1</td>\n",
              "    </tr>\n",
              "    <tr>\n",
              "      <th>1461</th>\n",
              "      <td>organic_search</td>\n",
              "      <td>finance</td>\n",
              "      <td>3</td>\n",
              "      <td>92855.0</td>\n",
              "      <td>student</td>\n",
              "      <td>north_america</td>\n",
              "      <td>3</td>\n",
              "      <td>0.41</td>\n",
              "      <td>1</td>\n",
              "    </tr>\n",
              "  </tbody>\n",
              "</table>\n",
              "<p>1462 rows × 9 columns</p>\n",
              "</div>\n",
              "    <div class=\"colab-df-buttons\">\n",
              "\n",
              "  <div class=\"colab-df-container\">\n",
              "    <button class=\"colab-df-convert\" onclick=\"convertToInteractive('df-12064c20-1891-4ee2-87ad-f2e6c799e4df')\"\n",
              "            title=\"Convert this dataframe to an interactive table.\"\n",
              "            style=\"display:none;\">\n",
              "\n",
              "  <svg xmlns=\"http://www.w3.org/2000/svg\" height=\"24px\" viewBox=\"0 -960 960 960\">\n",
              "    <path d=\"M120-120v-720h720v720H120Zm60-500h600v-160H180v160Zm220 220h160v-160H400v160Zm0 220h160v-160H400v160ZM180-400h160v-160H180v160Zm440 0h160v-160H620v160ZM180-180h160v-160H180v160Zm440 0h160v-160H620v160Z\"/>\n",
              "  </svg>\n",
              "    </button>\n",
              "\n",
              "  <style>\n",
              "    .colab-df-container {\n",
              "      display:flex;\n",
              "      gap: 12px;\n",
              "    }\n",
              "\n",
              "    .colab-df-convert {\n",
              "      background-color: #E8F0FE;\n",
              "      border: none;\n",
              "      border-radius: 50%;\n",
              "      cursor: pointer;\n",
              "      display: none;\n",
              "      fill: #1967D2;\n",
              "      height: 32px;\n",
              "      padding: 0 0 0 0;\n",
              "      width: 32px;\n",
              "    }\n",
              "\n",
              "    .colab-df-convert:hover {\n",
              "      background-color: #E2EBFA;\n",
              "      box-shadow: 0px 1px 2px rgba(60, 64, 67, 0.3), 0px 1px 3px 1px rgba(60, 64, 67, 0.15);\n",
              "      fill: #174EA6;\n",
              "    }\n",
              "\n",
              "    .colab-df-buttons div {\n",
              "      margin-bottom: 4px;\n",
              "    }\n",
              "\n",
              "    [theme=dark] .colab-df-convert {\n",
              "      background-color: #3B4455;\n",
              "      fill: #D2E3FC;\n",
              "    }\n",
              "\n",
              "    [theme=dark] .colab-df-convert:hover {\n",
              "      background-color: #434B5C;\n",
              "      box-shadow: 0px 1px 3px 1px rgba(0, 0, 0, 0.15);\n",
              "      filter: drop-shadow(0px 1px 2px rgba(0, 0, 0, 0.3));\n",
              "      fill: #FFFFFF;\n",
              "    }\n",
              "  </style>\n",
              "\n",
              "    <script>\n",
              "      const buttonEl =\n",
              "        document.querySelector('#df-12064c20-1891-4ee2-87ad-f2e6c799e4df button.colab-df-convert');\n",
              "      buttonEl.style.display =\n",
              "        google.colab.kernel.accessAllowed ? 'block' : 'none';\n",
              "\n",
              "      async function convertToInteractive(key) {\n",
              "        const element = document.querySelector('#df-12064c20-1891-4ee2-87ad-f2e6c799e4df');\n",
              "        const dataTable =\n",
              "          await google.colab.kernel.invokeFunction('convertToInteractive',\n",
              "                                                    [key], {});\n",
              "        if (!dataTable) return;\n",
              "\n",
              "        const docLinkHtml = 'Like what you see? Visit the ' +\n",
              "          '<a target=\"_blank\" href=https://colab.research.google.com/notebooks/data_table.ipynb>data table notebook</a>'\n",
              "          + ' to learn more about interactive tables.';\n",
              "        element.innerHTML = '';\n",
              "        dataTable['output_type'] = 'display_data';\n",
              "        await google.colab.output.renderOutput(dataTable, element);\n",
              "        const docLink = document.createElement('div');\n",
              "        docLink.innerHTML = docLinkHtml;\n",
              "        element.appendChild(docLink);\n",
              "      }\n",
              "    </script>\n",
              "  </div>\n",
              "\n",
              "\n",
              "    <div id=\"df-22506357-8c42-42d7-b8f1-05f46e6c0b52\">\n",
              "      <button class=\"colab-df-quickchart\" onclick=\"quickchart('df-22506357-8c42-42d7-b8f1-05f46e6c0b52')\"\n",
              "                title=\"Suggest charts\"\n",
              "                style=\"display:none;\">\n",
              "\n",
              "<svg xmlns=\"http://www.w3.org/2000/svg\" height=\"24px\"viewBox=\"0 0 24 24\"\n",
              "     width=\"24px\">\n",
              "    <g>\n",
              "        <path d=\"M19 3H5c-1.1 0-2 .9-2 2v14c0 1.1.9 2 2 2h14c1.1 0 2-.9 2-2V5c0-1.1-.9-2-2-2zM9 17H7v-7h2v7zm4 0h-2V7h2v10zm4 0h-2v-4h2v4z\"/>\n",
              "    </g>\n",
              "</svg>\n",
              "      </button>\n",
              "\n",
              "<style>\n",
              "  .colab-df-quickchart {\n",
              "      --bg-color: #E8F0FE;\n",
              "      --fill-color: #1967D2;\n",
              "      --hover-bg-color: #E2EBFA;\n",
              "      --hover-fill-color: #174EA6;\n",
              "      --disabled-fill-color: #AAA;\n",
              "      --disabled-bg-color: #DDD;\n",
              "  }\n",
              "\n",
              "  [theme=dark] .colab-df-quickchart {\n",
              "      --bg-color: #3B4455;\n",
              "      --fill-color: #D2E3FC;\n",
              "      --hover-bg-color: #434B5C;\n",
              "      --hover-fill-color: #FFFFFF;\n",
              "      --disabled-bg-color: #3B4455;\n",
              "      --disabled-fill-color: #666;\n",
              "  }\n",
              "\n",
              "  .colab-df-quickchart {\n",
              "    background-color: var(--bg-color);\n",
              "    border: none;\n",
              "    border-radius: 50%;\n",
              "    cursor: pointer;\n",
              "    display: none;\n",
              "    fill: var(--fill-color);\n",
              "    height: 32px;\n",
              "    padding: 0;\n",
              "    width: 32px;\n",
              "  }\n",
              "\n",
              "  .colab-df-quickchart:hover {\n",
              "    background-color: var(--hover-bg-color);\n",
              "    box-shadow: 0 1px 2px rgba(60, 64, 67, 0.3), 0 1px 3px 1px rgba(60, 64, 67, 0.15);\n",
              "    fill: var(--button-hover-fill-color);\n",
              "  }\n",
              "\n",
              "  .colab-df-quickchart-complete:disabled,\n",
              "  .colab-df-quickchart-complete:disabled:hover {\n",
              "    background-color: var(--disabled-bg-color);\n",
              "    fill: var(--disabled-fill-color);\n",
              "    box-shadow: none;\n",
              "  }\n",
              "\n",
              "  .colab-df-spinner {\n",
              "    border: 2px solid var(--fill-color);\n",
              "    border-color: transparent;\n",
              "    border-bottom-color: var(--fill-color);\n",
              "    animation:\n",
              "      spin 1s steps(1) infinite;\n",
              "  }\n",
              "\n",
              "  @keyframes spin {\n",
              "    0% {\n",
              "      border-color: transparent;\n",
              "      border-bottom-color: var(--fill-color);\n",
              "      border-left-color: var(--fill-color);\n",
              "    }\n",
              "    20% {\n",
              "      border-color: transparent;\n",
              "      border-left-color: var(--fill-color);\n",
              "      border-top-color: var(--fill-color);\n",
              "    }\n",
              "    30% {\n",
              "      border-color: transparent;\n",
              "      border-left-color: var(--fill-color);\n",
              "      border-top-color: var(--fill-color);\n",
              "      border-right-color: var(--fill-color);\n",
              "    }\n",
              "    40% {\n",
              "      border-color: transparent;\n",
              "      border-right-color: var(--fill-color);\n",
              "      border-top-color: var(--fill-color);\n",
              "    }\n",
              "    60% {\n",
              "      border-color: transparent;\n",
              "      border-right-color: var(--fill-color);\n",
              "    }\n",
              "    80% {\n",
              "      border-color: transparent;\n",
              "      border-right-color: var(--fill-color);\n",
              "      border-bottom-color: var(--fill-color);\n",
              "    }\n",
              "    90% {\n",
              "      border-color: transparent;\n",
              "      border-bottom-color: var(--fill-color);\n",
              "    }\n",
              "  }\n",
              "</style>\n",
              "\n",
              "      <script>\n",
              "        async function quickchart(key) {\n",
              "          const quickchartButtonEl =\n",
              "            document.querySelector('#' + key + ' button');\n",
              "          quickchartButtonEl.disabled = true;  // To prevent multiple clicks.\n",
              "          quickchartButtonEl.classList.add('colab-df-spinner');\n",
              "          try {\n",
              "            const charts = await google.colab.kernel.invokeFunction(\n",
              "                'suggestCharts', [key], {});\n",
              "          } catch (error) {\n",
              "            console.error('Error during call to suggestCharts:', error);\n",
              "          }\n",
              "          quickchartButtonEl.classList.remove('colab-df-spinner');\n",
              "          quickchartButtonEl.classList.add('colab-df-quickchart-complete');\n",
              "        }\n",
              "        (() => {\n",
              "          let quickchartButtonEl =\n",
              "            document.querySelector('#df-22506357-8c42-42d7-b8f1-05f46e6c0b52 button');\n",
              "          quickchartButtonEl.style.display =\n",
              "            google.colab.kernel.accessAllowed ? 'block' : 'none';\n",
              "        })();\n",
              "      </script>\n",
              "    </div>\n",
              "\n",
              "  <div id=\"id_83505cb5-ffab-4bb2-b44d-24c45118f153\">\n",
              "    <style>\n",
              "      .colab-df-generate {\n",
              "        background-color: #E8F0FE;\n",
              "        border: none;\n",
              "        border-radius: 50%;\n",
              "        cursor: pointer;\n",
              "        display: none;\n",
              "        fill: #1967D2;\n",
              "        height: 32px;\n",
              "        padding: 0 0 0 0;\n",
              "        width: 32px;\n",
              "      }\n",
              "\n",
              "      .colab-df-generate:hover {\n",
              "        background-color: #E2EBFA;\n",
              "        box-shadow: 0px 1px 2px rgba(60, 64, 67, 0.3), 0px 1px 3px 1px rgba(60, 64, 67, 0.15);\n",
              "        fill: #174EA6;\n",
              "      }\n",
              "\n",
              "      [theme=dark] .colab-df-generate {\n",
              "        background-color: #3B4455;\n",
              "        fill: #D2E3FC;\n",
              "      }\n",
              "\n",
              "      [theme=dark] .colab-df-generate:hover {\n",
              "        background-color: #434B5C;\n",
              "        box-shadow: 0px 1px 3px 1px rgba(0, 0, 0, 0.15);\n",
              "        filter: drop-shadow(0px 1px 2px rgba(0, 0, 0, 0.3));\n",
              "        fill: #FFFFFF;\n",
              "      }\n",
              "    </style>\n",
              "    <button class=\"colab-df-generate\" onclick=\"generateWithVariable('df')\"\n",
              "            title=\"Generate code using this dataframe.\"\n",
              "            style=\"display:none;\">\n",
              "\n",
              "  <svg xmlns=\"http://www.w3.org/2000/svg\" height=\"24px\"viewBox=\"0 0 24 24\"\n",
              "       width=\"24px\">\n",
              "    <path d=\"M7,19H8.4L18.45,9,17,7.55,7,17.6ZM5,21V16.75L18.45,3.32a2,2,0,0,1,2.83,0l1.4,1.43a1.91,1.91,0,0,1,.58,1.4,1.91,1.91,0,0,1-.58,1.4L9.25,21ZM18.45,9,17,7.55Zm-12,3A5.31,5.31,0,0,0,4.9,8.1,5.31,5.31,0,0,0,1,6.5,5.31,5.31,0,0,0,4.9,4.9,5.31,5.31,0,0,0,6.5,1,5.31,5.31,0,0,0,8.1,4.9,5.31,5.31,0,0,0,12,6.5,5.46,5.46,0,0,0,6.5,12Z\"/>\n",
              "  </svg>\n",
              "    </button>\n",
              "    <script>\n",
              "      (() => {\n",
              "      const buttonEl =\n",
              "        document.querySelector('#id_83505cb5-ffab-4bb2-b44d-24c45118f153 button.colab-df-generate');\n",
              "      buttonEl.style.display =\n",
              "        google.colab.kernel.accessAllowed ? 'block' : 'none';\n",
              "\n",
              "      buttonEl.onclick = () => {\n",
              "        google.colab.notebook.generateWithVariable('df');\n",
              "      }\n",
              "      })();\n",
              "    </script>\n",
              "  </div>\n",
              "\n",
              "    </div>\n",
              "  </div>\n"
            ],
            "application/vnd.google.colaboratory.intrinsic+json": {
              "type": "dataframe",
              "variable_name": "df",
              "summary": "{\n  \"name\": \"df\",\n  \"rows\": 1462,\n  \"fields\": [\n    {\n      \"column\": \"lead_source\",\n      \"properties\": {\n        \"dtype\": \"category\",\n        \"num_unique_values\": 6,\n        \"samples\": [\n          \"paid_ads\",\n          \"social_media\",\n          \"NA\"\n        ],\n        \"semantic_type\": \"\",\n        \"description\": \"\"\n      }\n    },\n    {\n      \"column\": \"industry\",\n      \"properties\": {\n        \"dtype\": \"category\",\n        \"num_unique_values\": 8,\n        \"samples\": [\n          \"retail\",\n          \"technology\",\n          \"NA\"\n        ],\n        \"semantic_type\": \"\",\n        \"description\": \"\"\n      }\n    },\n    {\n      \"column\": \"number_of_courses_viewed\",\n      \"properties\": {\n        \"dtype\": \"number\",\n        \"std\": 1,\n        \"min\": 0,\n        \"max\": 9,\n        \"num_unique_values\": 10,\n        \"samples\": [\n          7,\n          5,\n          4\n        ],\n        \"semantic_type\": \"\",\n        \"description\": \"\"\n      }\n    },\n    {\n      \"column\": \"annual_income\",\n      \"properties\": {\n        \"dtype\": \"number\",\n        \"std\": 24254.34703032844,\n        \"min\": 0.0,\n        \"max\": 109899.0,\n        \"num_unique_values\": 1268,\n        \"samples\": [\n          35832.0,\n          53644.0,\n          59357.0\n        ],\n        \"semantic_type\": \"\",\n        \"description\": \"\"\n      }\n    },\n    {\n      \"column\": \"employment_status\",\n      \"properties\": {\n        \"dtype\": \"category\",\n        \"num_unique_values\": 5,\n        \"samples\": [\n          \"employed\",\n          \"student\",\n          \"NA\"\n        ],\n        \"semantic_type\": \"\",\n        \"description\": \"\"\n      }\n    },\n    {\n      \"column\": \"location\",\n      \"properties\": {\n        \"dtype\": \"category\",\n        \"num_unique_values\": 8,\n        \"samples\": [\n          \"australia\",\n          \"NA\",\n          \"south_america\"\n        ],\n        \"semantic_type\": \"\",\n        \"description\": \"\"\n      }\n    },\n    {\n      \"column\": \"interaction_count\",\n      \"properties\": {\n        \"dtype\": \"number\",\n        \"std\": 1,\n        \"min\": 0,\n        \"max\": 11,\n        \"num_unique_values\": 12,\n        \"samples\": [\n          10,\n          8,\n          4\n        ],\n        \"semantic_type\": \"\",\n        \"description\": \"\"\n      }\n    },\n    {\n      \"column\": \"lead_score\",\n      \"properties\": {\n        \"dtype\": \"number\",\n        \"std\": 0.28846540429698403,\n        \"min\": 0.0,\n        \"max\": 1.0,\n        \"num_unique_values\": 101,\n        \"samples\": [\n          0.09,\n          0.72,\n          0.58\n        ],\n        \"semantic_type\": \"\",\n        \"description\": \"\"\n      }\n    },\n    {\n      \"column\": \"converted\",\n      \"properties\": {\n        \"dtype\": \"number\",\n        \"std\": 0,\n        \"min\": 0,\n        \"max\": 1,\n        \"num_unique_values\": 2,\n        \"samples\": [\n          0,\n          1\n        ],\n        \"semantic_type\": \"\",\n        \"description\": \"\"\n      }\n    }\n  ]\n}"
            }
          },
          "metadata": {},
          "execution_count": 35
        }
      ]
    },
    {
      "cell_type": "code",
      "source": [
        "df_full_train, df_test = train_test_split(df, test_size=0.2, random_state=1)\n",
        "df_train, df_val = train_test_split(df_full_train, test_size=0.25, random_state=1)\n",
        "\n",
        "df_train = df_train.reset_index(drop=True)\n",
        "df_val = df_val.reset_index(drop=True)\n",
        "df_test = df_test.reset_index(drop=True)\n",
        "\n",
        "y_train = df_train.converted.values\n",
        "y_val = df_val.converted.values\n",
        "y_test = df_test.converted.values\n",
        "\n",
        "del df_train['converted']\n",
        "del df_val['converted']\n",
        "del df_test['converted']"
      ],
      "metadata": {
        "id": "P8gG5OOsu0gx"
      },
      "execution_count": 36,
      "outputs": []
    },
    {
      "cell_type": "code",
      "source": [
        "y_train"
      ],
      "metadata": {
        "colab": {
          "base_uri": "https://localhost:8080/"
        },
        "id": "c-J9U6mjC6Lo",
        "outputId": "83af5bf3-fae7-4fef-fbc2-cf89f49f80ce"
      },
      "execution_count": 37,
      "outputs": [
        {
          "output_type": "execute_result",
          "data": {
            "text/plain": [
              "array([0, 1, 0, 0, 0, 0, 0, 0, 0, 0, 1, 0, 0, 1, 0, 0, 1, 0, 1, 1, 0, 0,\n",
              "       1, 1, 0, 0, 1, 0, 1, 1, 0, 0, 1, 0, 0, 1, 1, 1, 1, 1, 0, 1, 1, 1,\n",
              "       0, 1, 1, 1, 1, 1, 1, 1, 1, 1, 1, 1, 1, 1, 0, 1, 1, 1, 1, 1, 0, 1,\n",
              "       0, 1, 0, 1, 0, 0, 0, 1, 1, 1, 1, 0, 0, 1, 1, 1, 1, 1, 0, 1, 1, 1,\n",
              "       1, 0, 1, 0, 1, 0, 1, 0, 0, 1, 0, 1, 1, 1, 0, 0, 1, 1, 0, 0, 1, 1,\n",
              "       1, 1, 1, 1, 0, 0, 1, 0, 1, 1, 1, 1, 0, 1, 1, 1, 0, 1, 1, 0, 1, 1,\n",
              "       0, 1, 1, 0, 0, 0, 1, 0, 1, 1, 1, 0, 1, 0, 0, 1, 0, 0, 1, 1, 1, 1,\n",
              "       1, 1, 1, 1, 1, 1, 1, 1, 1, 1, 1, 0, 1, 1, 1, 0, 1, 0, 1, 0, 0, 1,\n",
              "       1, 0, 1, 0, 1, 0, 1, 0, 0, 0, 1, 1, 1, 1, 0, 0, 1, 1, 1, 0, 1, 0,\n",
              "       1, 1, 0, 1, 1, 1, 0, 1, 1, 1, 1, 1, 0, 1, 0, 1, 0, 0, 1, 1, 0, 1,\n",
              "       0, 0, 0, 0, 1, 1, 1, 0, 1, 0, 1, 1, 1, 1, 1, 0, 0, 0, 0, 0, 0, 1,\n",
              "       0, 1, 1, 1, 0, 0, 1, 0, 1, 1, 1, 0, 1, 1, 1, 1, 1, 1, 1, 0, 0, 1,\n",
              "       0, 0, 0, 1, 1, 0, 1, 1, 1, 1, 1, 1, 1, 0, 0, 0, 1, 1, 1, 1, 1, 0,\n",
              "       0, 0, 0, 1, 1, 0, 1, 0, 1, 1, 0, 1, 1, 1, 1, 0, 1, 1, 0, 0, 1, 1,\n",
              "       0, 1, 1, 1, 1, 0, 1, 1, 1, 1, 1, 1, 1, 1, 0, 1, 0, 1, 0, 0, 0, 1,\n",
              "       1, 0, 0, 1, 1, 0, 0, 1, 1, 1, 1, 1, 0, 1, 1, 0, 1, 1, 1, 1, 1, 1,\n",
              "       1, 1, 0, 1, 1, 0, 1, 1, 0, 0, 0, 1, 1, 1, 1, 0, 1, 0, 1, 0, 1, 1,\n",
              "       1, 1, 1, 0, 1, 1, 0, 0, 0, 1, 0, 1, 1, 1, 1, 1, 1, 1, 1, 1, 0, 1,\n",
              "       0, 1, 1, 0, 0, 0, 0, 1, 1, 0, 1, 0, 1, 0, 1, 0, 0, 1, 1, 0, 0, 0,\n",
              "       0, 0, 1, 0, 0, 1, 0, 1, 1, 1, 1, 1, 0, 1, 0, 1, 1, 1, 1, 1, 0, 0,\n",
              "       1, 0, 1, 1, 1, 1, 0, 0, 1, 0, 0, 1, 1, 0, 1, 0, 1, 1, 1, 0, 1, 1,\n",
              "       1, 1, 0, 0, 0, 1, 0, 0, 1, 0, 1, 1, 1, 1, 1, 0, 0, 0, 0, 1, 0, 1,\n",
              "       0, 0, 1, 0, 1, 1, 1, 1, 1, 1, 1, 1, 1, 0, 1, 1, 1, 0, 0, 1, 1, 0,\n",
              "       1, 1, 0, 1, 1, 1, 1, 0, 1, 1, 1, 0, 1, 1, 1, 1, 1, 1, 0, 1, 1, 0,\n",
              "       1, 0, 0, 0, 1, 0, 1, 1, 1, 1, 0, 0, 1, 0, 0, 1, 0, 1, 1, 0, 1, 0,\n",
              "       1, 1, 1, 1, 1, 0, 0, 0, 0, 1, 1, 1, 1, 1, 0, 1, 0, 0, 1, 1, 1, 0,\n",
              "       1, 0, 1, 1, 0, 1, 1, 1, 1, 1, 1, 1, 0, 1, 0, 1, 1, 1, 1, 1, 1, 1,\n",
              "       1, 1, 1, 0, 0, 0, 1, 0, 1, 1, 0, 1, 0, 1, 0, 0, 0, 1, 0, 1, 0, 1,\n",
              "       1, 1, 0, 1, 0, 1, 1, 0, 1, 0, 1, 0, 1, 0, 1, 1, 0, 0, 1, 1, 1, 1,\n",
              "       1, 1, 1, 1, 1, 0, 1, 0, 0, 0, 0, 1, 1, 0, 1, 1, 1, 1, 1, 0, 1, 0,\n",
              "       0, 1, 1, 1, 1, 1, 1, 0, 1, 1, 1, 1, 0, 1, 0, 0, 1, 1, 0, 1, 0, 0,\n",
              "       0, 0, 1, 0, 0, 1, 0, 0, 1, 0, 0, 1, 1, 1, 0, 0, 0, 1, 1, 1, 0, 0,\n",
              "       1, 0, 0, 0, 1, 1, 1, 1, 1, 1, 1, 1, 0, 1, 0, 0, 1, 0, 1, 0, 1, 1,\n",
              "       1, 1, 0, 0, 1, 1, 1, 1, 1, 0, 1, 0, 0, 0, 1, 1, 1, 0, 1, 0, 1, 1,\n",
              "       0, 1, 0, 1, 1, 1, 1, 0, 1, 0, 1, 1, 1, 1, 0, 0, 0, 1, 1, 1, 1, 1,\n",
              "       1, 0, 1, 1, 1, 1, 1, 1, 0, 1, 1, 1, 1, 0, 0, 1, 0, 1, 1, 1, 0, 0,\n",
              "       1, 1, 0, 0, 0, 0, 1, 1, 0, 1, 1, 0, 1, 1, 1, 1, 0, 0, 1, 1, 1, 1,\n",
              "       1, 1, 1, 0, 0, 1, 1, 1, 1, 1, 1, 0, 1, 0, 0, 0, 0, 1, 0, 0, 1, 1,\n",
              "       0, 1, 1, 0, 0, 1, 1, 1, 0, 1, 1, 0, 1, 1, 0, 1, 1, 0, 0, 0, 1, 1,\n",
              "       1, 1, 0, 1, 0, 0, 1, 1, 1, 1, 1, 1, 1, 1, 1, 0, 0, 0])"
            ]
          },
          "metadata": {},
          "execution_count": 37
        }
      ]
    },
    {
      "cell_type": "code",
      "source": [
        "dv = DictVectorizer(sparse=False)\n",
        "\n",
        "train_dict = df_train[categorical + numerical].to_dict(orient='records')\n",
        "X_train = dv.fit_transform(train_dict)\n",
        "\n",
        "model = LogisticRegression()\n",
        "model.fit(X_train, y_train)"
      ],
      "metadata": {
        "colab": {
          "base_uri": "https://localhost:8080/",
          "height": 223
        },
        "id": "xMGXwpSlwkj7",
        "outputId": "bd18b182-9c2e-4db0-e5b3-c481273725be"
      },
      "execution_count": 38,
      "outputs": [
        {
          "output_type": "stream",
          "name": "stderr",
          "text": [
            "/usr/local/lib/python3.12/dist-packages/sklearn/linear_model/_logistic.py:465: ConvergenceWarning: lbfgs failed to converge (status=1):\n",
            "STOP: TOTAL NO. OF ITERATIONS REACHED LIMIT.\n",
            "\n",
            "Increase the number of iterations (max_iter) or scale the data as shown in:\n",
            "    https://scikit-learn.org/stable/modules/preprocessing.html\n",
            "Please also refer to the documentation for alternative solver options:\n",
            "    https://scikit-learn.org/stable/modules/linear_model.html#logistic-regression\n",
            "  n_iter_i = _check_optimize_result(\n"
          ]
        },
        {
          "output_type": "execute_result",
          "data": {
            "text/plain": [
              "LogisticRegression()"
            ],
            "text/html": [
              "<style>#sk-container-id-2 {\n",
              "  /* Definition of color scheme common for light and dark mode */\n",
              "  --sklearn-color-text: #000;\n",
              "  --sklearn-color-text-muted: #666;\n",
              "  --sklearn-color-line: gray;\n",
              "  /* Definition of color scheme for unfitted estimators */\n",
              "  --sklearn-color-unfitted-level-0: #fff5e6;\n",
              "  --sklearn-color-unfitted-level-1: #f6e4d2;\n",
              "  --sklearn-color-unfitted-level-2: #ffe0b3;\n",
              "  --sklearn-color-unfitted-level-3: chocolate;\n",
              "  /* Definition of color scheme for fitted estimators */\n",
              "  --sklearn-color-fitted-level-0: #f0f8ff;\n",
              "  --sklearn-color-fitted-level-1: #d4ebff;\n",
              "  --sklearn-color-fitted-level-2: #b3dbfd;\n",
              "  --sklearn-color-fitted-level-3: cornflowerblue;\n",
              "\n",
              "  /* Specific color for light theme */\n",
              "  --sklearn-color-text-on-default-background: var(--sg-text-color, var(--theme-code-foreground, var(--jp-content-font-color1, black)));\n",
              "  --sklearn-color-background: var(--sg-background-color, var(--theme-background, var(--jp-layout-color0, white)));\n",
              "  --sklearn-color-border-box: var(--sg-text-color, var(--theme-code-foreground, var(--jp-content-font-color1, black)));\n",
              "  --sklearn-color-icon: #696969;\n",
              "\n",
              "  @media (prefers-color-scheme: dark) {\n",
              "    /* Redefinition of color scheme for dark theme */\n",
              "    --sklearn-color-text-on-default-background: var(--sg-text-color, var(--theme-code-foreground, var(--jp-content-font-color1, white)));\n",
              "    --sklearn-color-background: var(--sg-background-color, var(--theme-background, var(--jp-layout-color0, #111)));\n",
              "    --sklearn-color-border-box: var(--sg-text-color, var(--theme-code-foreground, var(--jp-content-font-color1, white)));\n",
              "    --sklearn-color-icon: #878787;\n",
              "  }\n",
              "}\n",
              "\n",
              "#sk-container-id-2 {\n",
              "  color: var(--sklearn-color-text);\n",
              "}\n",
              "\n",
              "#sk-container-id-2 pre {\n",
              "  padding: 0;\n",
              "}\n",
              "\n",
              "#sk-container-id-2 input.sk-hidden--visually {\n",
              "  border: 0;\n",
              "  clip: rect(1px 1px 1px 1px);\n",
              "  clip: rect(1px, 1px, 1px, 1px);\n",
              "  height: 1px;\n",
              "  margin: -1px;\n",
              "  overflow: hidden;\n",
              "  padding: 0;\n",
              "  position: absolute;\n",
              "  width: 1px;\n",
              "}\n",
              "\n",
              "#sk-container-id-2 div.sk-dashed-wrapped {\n",
              "  border: 1px dashed var(--sklearn-color-line);\n",
              "  margin: 0 0.4em 0.5em 0.4em;\n",
              "  box-sizing: border-box;\n",
              "  padding-bottom: 0.4em;\n",
              "  background-color: var(--sklearn-color-background);\n",
              "}\n",
              "\n",
              "#sk-container-id-2 div.sk-container {\n",
              "  /* jupyter's `normalize.less` sets `[hidden] { display: none; }`\n",
              "     but bootstrap.min.css set `[hidden] { display: none !important; }`\n",
              "     so we also need the `!important` here to be able to override the\n",
              "     default hidden behavior on the sphinx rendered scikit-learn.org.\n",
              "     See: https://github.com/scikit-learn/scikit-learn/issues/21755 */\n",
              "  display: inline-block !important;\n",
              "  position: relative;\n",
              "}\n",
              "\n",
              "#sk-container-id-2 div.sk-text-repr-fallback {\n",
              "  display: none;\n",
              "}\n",
              "\n",
              "div.sk-parallel-item,\n",
              "div.sk-serial,\n",
              "div.sk-item {\n",
              "  /* draw centered vertical line to link estimators */\n",
              "  background-image: linear-gradient(var(--sklearn-color-text-on-default-background), var(--sklearn-color-text-on-default-background));\n",
              "  background-size: 2px 100%;\n",
              "  background-repeat: no-repeat;\n",
              "  background-position: center center;\n",
              "}\n",
              "\n",
              "/* Parallel-specific style estimator block */\n",
              "\n",
              "#sk-container-id-2 div.sk-parallel-item::after {\n",
              "  content: \"\";\n",
              "  width: 100%;\n",
              "  border-bottom: 2px solid var(--sklearn-color-text-on-default-background);\n",
              "  flex-grow: 1;\n",
              "}\n",
              "\n",
              "#sk-container-id-2 div.sk-parallel {\n",
              "  display: flex;\n",
              "  align-items: stretch;\n",
              "  justify-content: center;\n",
              "  background-color: var(--sklearn-color-background);\n",
              "  position: relative;\n",
              "}\n",
              "\n",
              "#sk-container-id-2 div.sk-parallel-item {\n",
              "  display: flex;\n",
              "  flex-direction: column;\n",
              "}\n",
              "\n",
              "#sk-container-id-2 div.sk-parallel-item:first-child::after {\n",
              "  align-self: flex-end;\n",
              "  width: 50%;\n",
              "}\n",
              "\n",
              "#sk-container-id-2 div.sk-parallel-item:last-child::after {\n",
              "  align-self: flex-start;\n",
              "  width: 50%;\n",
              "}\n",
              "\n",
              "#sk-container-id-2 div.sk-parallel-item:only-child::after {\n",
              "  width: 0;\n",
              "}\n",
              "\n",
              "/* Serial-specific style estimator block */\n",
              "\n",
              "#sk-container-id-2 div.sk-serial {\n",
              "  display: flex;\n",
              "  flex-direction: column;\n",
              "  align-items: center;\n",
              "  background-color: var(--sklearn-color-background);\n",
              "  padding-right: 1em;\n",
              "  padding-left: 1em;\n",
              "}\n",
              "\n",
              "\n",
              "/* Toggleable style: style used for estimator/Pipeline/ColumnTransformer box that is\n",
              "clickable and can be expanded/collapsed.\n",
              "- Pipeline and ColumnTransformer use this feature and define the default style\n",
              "- Estimators will overwrite some part of the style using the `sk-estimator` class\n",
              "*/\n",
              "\n",
              "/* Pipeline and ColumnTransformer style (default) */\n",
              "\n",
              "#sk-container-id-2 div.sk-toggleable {\n",
              "  /* Default theme specific background. It is overwritten whether we have a\n",
              "  specific estimator or a Pipeline/ColumnTransformer */\n",
              "  background-color: var(--sklearn-color-background);\n",
              "}\n",
              "\n",
              "/* Toggleable label */\n",
              "#sk-container-id-2 label.sk-toggleable__label {\n",
              "  cursor: pointer;\n",
              "  display: flex;\n",
              "  width: 100%;\n",
              "  margin-bottom: 0;\n",
              "  padding: 0.5em;\n",
              "  box-sizing: border-box;\n",
              "  text-align: center;\n",
              "  align-items: start;\n",
              "  justify-content: space-between;\n",
              "  gap: 0.5em;\n",
              "}\n",
              "\n",
              "#sk-container-id-2 label.sk-toggleable__label .caption {\n",
              "  font-size: 0.6rem;\n",
              "  font-weight: lighter;\n",
              "  color: var(--sklearn-color-text-muted);\n",
              "}\n",
              "\n",
              "#sk-container-id-2 label.sk-toggleable__label-arrow:before {\n",
              "  /* Arrow on the left of the label */\n",
              "  content: \"▸\";\n",
              "  float: left;\n",
              "  margin-right: 0.25em;\n",
              "  color: var(--sklearn-color-icon);\n",
              "}\n",
              "\n",
              "#sk-container-id-2 label.sk-toggleable__label-arrow:hover:before {\n",
              "  color: var(--sklearn-color-text);\n",
              "}\n",
              "\n",
              "/* Toggleable content - dropdown */\n",
              "\n",
              "#sk-container-id-2 div.sk-toggleable__content {\n",
              "  max-height: 0;\n",
              "  max-width: 0;\n",
              "  overflow: hidden;\n",
              "  text-align: left;\n",
              "  /* unfitted */\n",
              "  background-color: var(--sklearn-color-unfitted-level-0);\n",
              "}\n",
              "\n",
              "#sk-container-id-2 div.sk-toggleable__content.fitted {\n",
              "  /* fitted */\n",
              "  background-color: var(--sklearn-color-fitted-level-0);\n",
              "}\n",
              "\n",
              "#sk-container-id-2 div.sk-toggleable__content pre {\n",
              "  margin: 0.2em;\n",
              "  border-radius: 0.25em;\n",
              "  color: var(--sklearn-color-text);\n",
              "  /* unfitted */\n",
              "  background-color: var(--sklearn-color-unfitted-level-0);\n",
              "}\n",
              "\n",
              "#sk-container-id-2 div.sk-toggleable__content.fitted pre {\n",
              "  /* unfitted */\n",
              "  background-color: var(--sklearn-color-fitted-level-0);\n",
              "}\n",
              "\n",
              "#sk-container-id-2 input.sk-toggleable__control:checked~div.sk-toggleable__content {\n",
              "  /* Expand drop-down */\n",
              "  max-height: 200px;\n",
              "  max-width: 100%;\n",
              "  overflow: auto;\n",
              "}\n",
              "\n",
              "#sk-container-id-2 input.sk-toggleable__control:checked~label.sk-toggleable__label-arrow:before {\n",
              "  content: \"▾\";\n",
              "}\n",
              "\n",
              "/* Pipeline/ColumnTransformer-specific style */\n",
              "\n",
              "#sk-container-id-2 div.sk-label input.sk-toggleable__control:checked~label.sk-toggleable__label {\n",
              "  color: var(--sklearn-color-text);\n",
              "  background-color: var(--sklearn-color-unfitted-level-2);\n",
              "}\n",
              "\n",
              "#sk-container-id-2 div.sk-label.fitted input.sk-toggleable__control:checked~label.sk-toggleable__label {\n",
              "  background-color: var(--sklearn-color-fitted-level-2);\n",
              "}\n",
              "\n",
              "/* Estimator-specific style */\n",
              "\n",
              "/* Colorize estimator box */\n",
              "#sk-container-id-2 div.sk-estimator input.sk-toggleable__control:checked~label.sk-toggleable__label {\n",
              "  /* unfitted */\n",
              "  background-color: var(--sklearn-color-unfitted-level-2);\n",
              "}\n",
              "\n",
              "#sk-container-id-2 div.sk-estimator.fitted input.sk-toggleable__control:checked~label.sk-toggleable__label {\n",
              "  /* fitted */\n",
              "  background-color: var(--sklearn-color-fitted-level-2);\n",
              "}\n",
              "\n",
              "#sk-container-id-2 div.sk-label label.sk-toggleable__label,\n",
              "#sk-container-id-2 div.sk-label label {\n",
              "  /* The background is the default theme color */\n",
              "  color: var(--sklearn-color-text-on-default-background);\n",
              "}\n",
              "\n",
              "/* On hover, darken the color of the background */\n",
              "#sk-container-id-2 div.sk-label:hover label.sk-toggleable__label {\n",
              "  color: var(--sklearn-color-text);\n",
              "  background-color: var(--sklearn-color-unfitted-level-2);\n",
              "}\n",
              "\n",
              "/* Label box, darken color on hover, fitted */\n",
              "#sk-container-id-2 div.sk-label.fitted:hover label.sk-toggleable__label.fitted {\n",
              "  color: var(--sklearn-color-text);\n",
              "  background-color: var(--sklearn-color-fitted-level-2);\n",
              "}\n",
              "\n",
              "/* Estimator label */\n",
              "\n",
              "#sk-container-id-2 div.sk-label label {\n",
              "  font-family: monospace;\n",
              "  font-weight: bold;\n",
              "  display: inline-block;\n",
              "  line-height: 1.2em;\n",
              "}\n",
              "\n",
              "#sk-container-id-2 div.sk-label-container {\n",
              "  text-align: center;\n",
              "}\n",
              "\n",
              "/* Estimator-specific */\n",
              "#sk-container-id-2 div.sk-estimator {\n",
              "  font-family: monospace;\n",
              "  border: 1px dotted var(--sklearn-color-border-box);\n",
              "  border-radius: 0.25em;\n",
              "  box-sizing: border-box;\n",
              "  margin-bottom: 0.5em;\n",
              "  /* unfitted */\n",
              "  background-color: var(--sklearn-color-unfitted-level-0);\n",
              "}\n",
              "\n",
              "#sk-container-id-2 div.sk-estimator.fitted {\n",
              "  /* fitted */\n",
              "  background-color: var(--sklearn-color-fitted-level-0);\n",
              "}\n",
              "\n",
              "/* on hover */\n",
              "#sk-container-id-2 div.sk-estimator:hover {\n",
              "  /* unfitted */\n",
              "  background-color: var(--sklearn-color-unfitted-level-2);\n",
              "}\n",
              "\n",
              "#sk-container-id-2 div.sk-estimator.fitted:hover {\n",
              "  /* fitted */\n",
              "  background-color: var(--sklearn-color-fitted-level-2);\n",
              "}\n",
              "\n",
              "/* Specification for estimator info (e.g. \"i\" and \"?\") */\n",
              "\n",
              "/* Common style for \"i\" and \"?\" */\n",
              "\n",
              ".sk-estimator-doc-link,\n",
              "a:link.sk-estimator-doc-link,\n",
              "a:visited.sk-estimator-doc-link {\n",
              "  float: right;\n",
              "  font-size: smaller;\n",
              "  line-height: 1em;\n",
              "  font-family: monospace;\n",
              "  background-color: var(--sklearn-color-background);\n",
              "  border-radius: 1em;\n",
              "  height: 1em;\n",
              "  width: 1em;\n",
              "  text-decoration: none !important;\n",
              "  margin-left: 0.5em;\n",
              "  text-align: center;\n",
              "  /* unfitted */\n",
              "  border: var(--sklearn-color-unfitted-level-1) 1pt solid;\n",
              "  color: var(--sklearn-color-unfitted-level-1);\n",
              "}\n",
              "\n",
              ".sk-estimator-doc-link.fitted,\n",
              "a:link.sk-estimator-doc-link.fitted,\n",
              "a:visited.sk-estimator-doc-link.fitted {\n",
              "  /* fitted */\n",
              "  border: var(--sklearn-color-fitted-level-1) 1pt solid;\n",
              "  color: var(--sklearn-color-fitted-level-1);\n",
              "}\n",
              "\n",
              "/* On hover */\n",
              "div.sk-estimator:hover .sk-estimator-doc-link:hover,\n",
              ".sk-estimator-doc-link:hover,\n",
              "div.sk-label-container:hover .sk-estimator-doc-link:hover,\n",
              ".sk-estimator-doc-link:hover {\n",
              "  /* unfitted */\n",
              "  background-color: var(--sklearn-color-unfitted-level-3);\n",
              "  color: var(--sklearn-color-background);\n",
              "  text-decoration: none;\n",
              "}\n",
              "\n",
              "div.sk-estimator.fitted:hover .sk-estimator-doc-link.fitted:hover,\n",
              ".sk-estimator-doc-link.fitted:hover,\n",
              "div.sk-label-container:hover .sk-estimator-doc-link.fitted:hover,\n",
              ".sk-estimator-doc-link.fitted:hover {\n",
              "  /* fitted */\n",
              "  background-color: var(--sklearn-color-fitted-level-3);\n",
              "  color: var(--sklearn-color-background);\n",
              "  text-decoration: none;\n",
              "}\n",
              "\n",
              "/* Span, style for the box shown on hovering the info icon */\n",
              ".sk-estimator-doc-link span {\n",
              "  display: none;\n",
              "  z-index: 9999;\n",
              "  position: relative;\n",
              "  font-weight: normal;\n",
              "  right: .2ex;\n",
              "  padding: .5ex;\n",
              "  margin: .5ex;\n",
              "  width: min-content;\n",
              "  min-width: 20ex;\n",
              "  max-width: 50ex;\n",
              "  color: var(--sklearn-color-text);\n",
              "  box-shadow: 2pt 2pt 4pt #999;\n",
              "  /* unfitted */\n",
              "  background: var(--sklearn-color-unfitted-level-0);\n",
              "  border: .5pt solid var(--sklearn-color-unfitted-level-3);\n",
              "}\n",
              "\n",
              ".sk-estimator-doc-link.fitted span {\n",
              "  /* fitted */\n",
              "  background: var(--sklearn-color-fitted-level-0);\n",
              "  border: var(--sklearn-color-fitted-level-3);\n",
              "}\n",
              "\n",
              ".sk-estimator-doc-link:hover span {\n",
              "  display: block;\n",
              "}\n",
              "\n",
              "/* \"?\"-specific style due to the `<a>` HTML tag */\n",
              "\n",
              "#sk-container-id-2 a.estimator_doc_link {\n",
              "  float: right;\n",
              "  font-size: 1rem;\n",
              "  line-height: 1em;\n",
              "  font-family: monospace;\n",
              "  background-color: var(--sklearn-color-background);\n",
              "  border-radius: 1rem;\n",
              "  height: 1rem;\n",
              "  width: 1rem;\n",
              "  text-decoration: none;\n",
              "  /* unfitted */\n",
              "  color: var(--sklearn-color-unfitted-level-1);\n",
              "  border: var(--sklearn-color-unfitted-level-1) 1pt solid;\n",
              "}\n",
              "\n",
              "#sk-container-id-2 a.estimator_doc_link.fitted {\n",
              "  /* fitted */\n",
              "  border: var(--sklearn-color-fitted-level-1) 1pt solid;\n",
              "  color: var(--sklearn-color-fitted-level-1);\n",
              "}\n",
              "\n",
              "/* On hover */\n",
              "#sk-container-id-2 a.estimator_doc_link:hover {\n",
              "  /* unfitted */\n",
              "  background-color: var(--sklearn-color-unfitted-level-3);\n",
              "  color: var(--sklearn-color-background);\n",
              "  text-decoration: none;\n",
              "}\n",
              "\n",
              "#sk-container-id-2 a.estimator_doc_link.fitted:hover {\n",
              "  /* fitted */\n",
              "  background-color: var(--sklearn-color-fitted-level-3);\n",
              "}\n",
              "</style><div id=\"sk-container-id-2\" class=\"sk-top-container\"><div class=\"sk-text-repr-fallback\"><pre>LogisticRegression()</pre><b>In a Jupyter environment, please rerun this cell to show the HTML representation or trust the notebook. <br />On GitHub, the HTML representation is unable to render, please try loading this page with nbviewer.org.</b></div><div class=\"sk-container\" hidden><div class=\"sk-item\"><div class=\"sk-estimator fitted sk-toggleable\"><input class=\"sk-toggleable__control sk-hidden--visually\" id=\"sk-estimator-id-2\" type=\"checkbox\" checked><label for=\"sk-estimator-id-2\" class=\"sk-toggleable__label fitted sk-toggleable__label-arrow\"><div><div>LogisticRegression</div></div><div><a class=\"sk-estimator-doc-link fitted\" rel=\"noreferrer\" target=\"_blank\" href=\"https://scikit-learn.org/1.6/modules/generated/sklearn.linear_model.LogisticRegression.html\">?<span>Documentation for LogisticRegression</span></a><span class=\"sk-estimator-doc-link fitted\">i<span>Fitted</span></span></div></label><div class=\"sk-toggleable__content fitted\"><pre>LogisticRegression()</pre></div> </div></div></div></div>"
            ]
          },
          "metadata": {},
          "execution_count": 38
        }
      ]
    },
    {
      "cell_type": "code",
      "source": [
        "val_dict = df_val[categorical + numerical].to_dict(orient='records')\n",
        "X_val = dv.transform(val_dict)\n",
        "\n",
        "y_pred = model.predict_proba(X_val)[:, 1]\n",
        "churn_decision = (y_pred >= 0.5)\n",
        "(y_val == churn_decision).mean()"
      ],
      "metadata": {
        "colab": {
          "base_uri": "https://localhost:8080/"
        },
        "id": "XlKpE2qBEI0W",
        "outputId": "3bf25b09-a502-4812-ad0e-e8dcbecd6cf5"
      },
      "execution_count": 39,
      "outputs": [
        {
          "output_type": "execute_result",
          "data": {
            "text/plain": [
              "np.float64(0.8054607508532423)"
            ]
          },
          "metadata": {},
          "execution_count": 39
        }
      ]
    },
    {
      "cell_type": "markdown",
      "source": [
        "# 2 Accuracy and dummy model"
      ],
      "metadata": {
        "id": "X1IR1QwgE3-S"
      }
    },
    {
      "cell_type": "code",
      "source": [
        "from sklearn.metrics import accuracy_score"
      ],
      "metadata": {
        "id": "KIf2nU8NpnNT"
      },
      "execution_count": 40,
      "outputs": []
    },
    {
      "cell_type": "code",
      "source": [
        "accuracy_score(y_val, y_pred >= 0.5)"
      ],
      "metadata": {
        "colab": {
          "base_uri": "https://localhost:8080/"
        },
        "id": "5HEAI5dfp0SK",
        "outputId": "79c5d447-7694-4440-abf9-bfd8b2b95d62"
      },
      "execution_count": 41,
      "outputs": [
        {
          "output_type": "execute_result",
          "data": {
            "text/plain": [
              "0.8054607508532423"
            ]
          },
          "metadata": {},
          "execution_count": 41
        }
      ]
    },
    {
      "cell_type": "code",
      "source": [
        "thresholds = np.linspace(0, 1, 21)\n",
        "\n",
        "scores = []\n",
        "\n",
        "for t in thresholds:\n",
        "    score = accuracy_score(y_val, y_pred >= t)\n",
        "    print('%.2f %.3f' % (t, score))\n",
        "    scores.append(score)"
      ],
      "metadata": {
        "colab": {
          "base_uri": "https://localhost:8080/"
        },
        "id": "UPPSt7Kvp4dc",
        "outputId": "23d83b80-62d4-41d8-94dd-be500ace957f"
      },
      "execution_count": 42,
      "outputs": [
        {
          "output_type": "stream",
          "name": "stdout",
          "text": [
            "0.00 0.584\n",
            "0.05 0.628\n",
            "0.10 0.669\n",
            "0.15 0.693\n",
            "0.20 0.706\n",
            "0.25 0.734\n",
            "0.30 0.747\n",
            "0.35 0.775\n",
            "0.40 0.792\n",
            "0.45 0.802\n",
            "0.50 0.805\n",
            "0.55 0.809\n",
            "0.60 0.823\n",
            "0.65 0.816\n",
            "0.70 0.805\n",
            "0.75 0.788\n",
            "0.80 0.758\n",
            "0.85 0.720\n",
            "0.90 0.693\n",
            "0.95 0.614\n",
            "1.00 0.416\n"
          ]
        }
      ]
    },
    {
      "cell_type": "code",
      "source": [
        "plt.plot(thresholds, scores)"
      ],
      "metadata": {
        "colab": {
          "base_uri": "https://localhost:8080/",
          "height": 448
        },
        "id": "l138QZHYp-wJ",
        "outputId": "623dbb16-0e0a-4647-cfc9-168e603ac387"
      },
      "execution_count": 43,
      "outputs": [
        {
          "output_type": "execute_result",
          "data": {
            "text/plain": [
              "[<matplotlib.lines.Line2D at 0x7e01003702c0>]"
            ]
          },
          "metadata": {},
          "execution_count": 43
        },
        {
          "output_type": "display_data",
          "data": {
            "text/plain": [
              "<Figure size 640x480 with 1 Axes>"
            ],
            "image/png": "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\n"
          },
          "metadata": {}
        }
      ]
    },
    {
      "cell_type": "code",
      "source": [
        "from collections import Counter\n",
        "Counter(y_pred >= 1.0)"
      ],
      "metadata": {
        "colab": {
          "base_uri": "https://localhost:8080/"
        },
        "id": "mfDFsdgPqGAi",
        "outputId": "e4ca7cd1-3f7d-43cc-805e-7bea765a283d"
      },
      "execution_count": 44,
      "outputs": [
        {
          "output_type": "execute_result",
          "data": {
            "text/plain": [
              "Counter({np.False_: 293})"
            ]
          },
          "metadata": {},
          "execution_count": 44
        }
      ]
    },
    {
      "cell_type": "code",
      "source": [
        "1 - y_val.mean()"
      ],
      "metadata": {
        "colab": {
          "base_uri": "https://localhost:8080/"
        },
        "id": "qIZqkEizqJwe",
        "outputId": "6e059ce3-3694-42c5-b75e-9ee17e695a53"
      },
      "execution_count": 45,
      "outputs": [
        {
          "output_type": "execute_result",
          "data": {
            "text/plain": [
              "np.float64(0.41638225255972694)"
            ]
          },
          "metadata": {},
          "execution_count": 45
        }
      ]
    },
    {
      "cell_type": "markdown",
      "source": [
        "# 3 Confusion Table"
      ],
      "metadata": {
        "id": "vcFZIkPSrB80"
      }
    },
    {
      "cell_type": "code",
      "source": [
        "actual_positive = (y_val == 1)\n",
        "actual_negative = (y_val == 0)\n",
        "t = 0.5\n",
        "predict_positive = (y_pred >= t)\n",
        "predict_negative = (y_pred < t)\n",
        "tp = (predict_positive & actual_positive).sum()\n",
        "tn = (predict_negative & actual_negative).sum()\n",
        "\n",
        "fp = (predict_positive & actual_negative).sum()\n",
        "fn = (predict_negative & actual_positive).sum()\n",
        "confusion_matrix = np.array([\n",
        "    [tn, fp],\n",
        "    [fn, tp]\n",
        "])\n",
        "confusion_matrix"
      ],
      "metadata": {
        "id": "3-1TZaJWrFpl",
        "outputId": "504e2470-d26f-4062-d371-eb33e3337df0",
        "colab": {
          "base_uri": "https://localhost:8080/"
        }
      },
      "execution_count": 46,
      "outputs": [
        {
          "output_type": "execute_result",
          "data": {
            "text/plain": [
              "array([[ 86,  36],\n",
              "       [ 21, 150]])"
            ]
          },
          "metadata": {},
          "execution_count": 46
        }
      ]
    },
    {
      "cell_type": "code",
      "source": [
        "(confusion_matrix / confusion_matrix.sum()).round(2)"
      ],
      "metadata": {
        "id": "f_CFBtt3rM0u",
        "outputId": "3c394afd-f9d2-4ba7-a8cc-ff16e330fddf",
        "colab": {
          "base_uri": "https://localhost:8080/"
        }
      },
      "execution_count": 47,
      "outputs": [
        {
          "output_type": "execute_result",
          "data": {
            "text/plain": [
              "array([[0.29, 0.12],\n",
              "       [0.07, 0.51]])"
            ]
          },
          "metadata": {},
          "execution_count": 47
        }
      ]
    },
    {
      "cell_type": "markdown",
      "source": [
        "# 4 Precision and Recall"
      ],
      "metadata": {
        "id": "BWVYEPjUrS6o"
      }
    },
    {
      "cell_type": "code",
      "source": [
        "p = tp / (tp + fp)\n",
        "p"
      ],
      "metadata": {
        "id": "LlWqNNnfFHMz",
        "outputId": "964bc4cd-2196-4f00-99f8-28a02b4cb8c7",
        "colab": {
          "base_uri": "https://localhost:8080/"
        }
      },
      "execution_count": 48,
      "outputs": [
        {
          "output_type": "execute_result",
          "data": {
            "text/plain": [
              "np.float64(0.8064516129032258)"
            ]
          },
          "metadata": {},
          "execution_count": 48
        }
      ]
    },
    {
      "cell_type": "code",
      "source": [
        "r = tp / (tp + fn)\n",
        "r"
      ],
      "metadata": {
        "id": "9ZwV-CbxFPai",
        "outputId": "3ee6b8ff-e183-4d12-944a-d3a547ceea60",
        "colab": {
          "base_uri": "https://localhost:8080/"
        }
      },
      "execution_count": 49,
      "outputs": [
        {
          "output_type": "execute_result",
          "data": {
            "text/plain": [
              "np.float64(0.8771929824561403)"
            ]
          },
          "metadata": {},
          "execution_count": 49
        }
      ]
    },
    {
      "cell_type": "markdown",
      "source": [
        "# 5 ROC Curves"
      ],
      "metadata": {
        "id": "TcWZKkCpFS1l"
      }
    },
    {
      "cell_type": "markdown",
      "source": [
        "TPR and FRP"
      ],
      "metadata": {
        "id": "gbrEemw1FVVB"
      }
    },
    {
      "cell_type": "code",
      "source": [
        "tpr = tp / (tp + fn)\n",
        "tpr"
      ],
      "metadata": {
        "id": "I_0QvlFFFY5K",
        "outputId": "d1f6a742-0444-4ca5-f8db-c21d5fa8ae0c",
        "colab": {
          "base_uri": "https://localhost:8080/"
        }
      },
      "execution_count": 50,
      "outputs": [
        {
          "output_type": "execute_result",
          "data": {
            "text/plain": [
              "np.float64(0.8771929824561403)"
            ]
          },
          "metadata": {},
          "execution_count": 50
        }
      ]
    },
    {
      "cell_type": "code",
      "source": [
        "fpr = fp / (fp + tn)\n",
        "fpr"
      ],
      "metadata": {
        "id": "_kgsI2N7FcvC",
        "outputId": "6ed1873a-3f8d-47e1-e56a-21d33a7d1717",
        "colab": {
          "base_uri": "https://localhost:8080/"
        }
      },
      "execution_count": 51,
      "outputs": [
        {
          "output_type": "execute_result",
          "data": {
            "text/plain": [
              "np.float64(0.29508196721311475)"
            ]
          },
          "metadata": {},
          "execution_count": 51
        }
      ]
    },
    {
      "cell_type": "code",
      "source": [
        "scores = []\n",
        "\n",
        "thresholds = np.linspace(0, 1, 101)\n",
        "\n",
        "for t in thresholds:\n",
        "    actual_positive = (y_val == 1)\n",
        "    actual_negative = (y_val == 0)\n",
        "\n",
        "    predict_positive = (y_pred >= t)\n",
        "    predict_negative = (y_pred < t)\n",
        "\n",
        "    tp = (predict_positive & actual_positive).sum()\n",
        "    tn = (predict_negative & actual_negative).sum()\n",
        "\n",
        "    fp = (predict_positive & actual_negative).sum()\n",
        "    fn = (predict_negative & actual_positive).sum()\n",
        "\n",
        "    scores.append((t, tp, fp, fn, tn))\n",
        "columns = ['threshold', 'tp', 'fp', 'fn', 'tn']\n",
        "df_scores = pd.DataFrame(scores, columns=columns)\n",
        "\n",
        "df_scores['tpr'] = df_scores.tp / (df_scores.tp + df_scores.fn)\n",
        "df_scores['fpr'] = df_scores.fp / (df_scores.fp + df_scores.tn)\n",
        "plt.plot(df_scores.threshold, df_scores['tpr'], label='TPR')\n",
        "plt.plot(df_scores.threshold, df_scores['fpr'], label='FPR')\n",
        "plt.legend()"
      ],
      "metadata": {
        "id": "2OC0QjoJFfd7",
        "outputId": "ce013d22-d093-48dc-995a-0a3910a1ac28",
        "colab": {
          "base_uri": "https://localhost:8080/",
          "height": 448
        }
      },
      "execution_count": 52,
      "outputs": [
        {
          "output_type": "execute_result",
          "data": {
            "text/plain": [
              "<matplotlib.legend.Legend at 0x7e00fc13cfb0>"
            ]
          },
          "metadata": {},
          "execution_count": 52
        },
        {
          "output_type": "display_data",
          "data": {
            "text/plain": [
              "<Figure size 640x480 with 1 Axes>"
            ],
            "image/png": "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\n"
          },
          "metadata": {}
        }
      ]
<<<<<<< HEAD
    },
    {
      "cell_type": "markdown",
      "source": [
        "Random model"
      ],
      "metadata": {
        "id": "Hs8DnyVwFvMI"
      }
    },
    {
      "cell_type": "code",
      "source": [
        "np.random.seed(1)\n",
        "y_rand = np.random.uniform(0, 1, size=len(y_val))\n",
        "((y_rand >= 0.5) == y_val).mean()"
      ],
      "metadata": {
        "colab": {
          "base_uri": "https://localhost:8080/"
        },
        "id": "UbZWqKocFx75",
        "outputId": "bbde8ab3-bff4-4f98-e46d-21a79192adfd"
      },
      "execution_count": 53,
      "outputs": [
        {
          "output_type": "execute_result",
          "data": {
            "text/plain": [
              "np.float64(0.48464163822525597)"
            ]
          },
          "metadata": {},
          "execution_count": 53
        }
      ]
    },
    {
      "cell_type": "code",
      "source": [
        "def tpr_fpr_dataframe(y_val, y_pred):\n",
        "    scores = []\n",
        "\n",
        "    thresholds = np.linspace(0, 1, 101)\n",
        "\n",
        "    for t in thresholds:\n",
        "        actual_positive = (y_val == 1)\n",
        "        actual_negative = (y_val == 0)\n",
        "\n",
        "        predict_positive = (y_pred >= t)\n",
        "        predict_negative = (y_pred < t)\n",
        "\n",
        "        tp = (predict_positive & actual_positive).sum()\n",
        "        tn = (predict_negative & actual_negative).sum()\n",
        "\n",
        "        fp = (predict_positive & actual_negative).sum()\n",
        "        fn = (predict_negative & actual_positive).sum()\n",
        "\n",
        "        scores.append((t, tp, fp, fn, tn))\n",
        "\n",
        "    columns = ['threshold', 'tp', 'fp', 'fn', 'tn']\n",
        "    df_scores = pd.DataFrame(scores, columns=columns)\n",
        "\n",
        "    df_scores['tpr'] = df_scores.tp / (df_scores.tp + df_scores.fn)\n",
        "    df_scores['fpr'] = df_scores.fp / (df_scores.fp + df_scores.tn)\n",
        "\n",
        "    return df_scores"
      ],
      "metadata": {
        "id": "56F451SRF1Da"
      },
      "execution_count": 54,
      "outputs": []
    },
    {
      "cell_type": "code",
      "source": [
        "df_rand = tpr_fpr_dataframe(y_val, y_rand)\n",
        "plt.plot(df_rand.threshold, df_rand['tpr'], label='TPR')\n",
        "plt.plot(df_rand.threshold, df_rand['fpr'], label='FPR')\n",
        "plt.legend()"
      ],
      "metadata": {
        "colab": {
          "base_uri": "https://localhost:8080/",
          "height": 448
        },
        "id": "WvhSijWtF-_Z",
        "outputId": "6b91da65-ba45-4f9c-cdd7-e6bdd853086f"
      },
      "execution_count": 55,
      "outputs": [
        {
          "output_type": "execute_result",
          "data": {
            "text/plain": [
              "<matplotlib.legend.Legend at 0x7e0100b9f380>"
            ]
          },
          "metadata": {},
          "execution_count": 55
        },
        {
          "output_type": "display_data",
          "data": {
            "text/plain": [
              "<Figure size 640x480 with 1 Axes>"
            ],
            "image/png": "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\n"
          },
          "metadata": {}
        }
      ]
    },
    {
      "cell_type": "markdown",
      "source": [
        "Ideal model"
      ],
      "metadata": {
        "id": "IsfsngTgF70C"
      }
    },
    {
      "cell_type": "code",
      "source": [
        "num_neg = (y_val == 0).sum()\n",
        "num_pos = (y_val == 1).sum()\n",
        "num_neg, num_pos"
      ],
      "metadata": {
        "colab": {
          "base_uri": "https://localhost:8080/"
        },
        "id": "vWGchuesGRXj",
        "outputId": "3e699b58-15c1-4aa7-8776-1bda258cc521"
      },
      "execution_count": 56,
      "outputs": [
        {
          "output_type": "execute_result",
          "data": {
            "text/plain": [
              "(np.int64(122), np.int64(171))"
            ]
          },
          "metadata": {},
          "execution_count": 56
        }
      ]
    },
    {
      "cell_type": "code",
      "source": [
        "y_ideal = np.repeat([0, 1], [num_neg, num_pos])\n",
        "y_ideal\n",
        "\n",
        "y_ideal_pred = np.linspace(0, 1, len(y_val))\n",
        "1 - y_val.mean()"
      ],
      "metadata": {
        "colab": {
          "base_uri": "https://localhost:8080/"
        },
        "id": "ciu6lpylGS2g",
        "outputId": "b436eb39-3709-41aa-bc82-97245edad77d"
      },
      "execution_count": 57,
      "outputs": [
        {
          "output_type": "execute_result",
          "data": {
            "text/plain": [
              "np.float64(0.41638225255972694)"
            ]
          },
          "metadata": {},
          "execution_count": 57
        }
      ]
    },
    {
      "cell_type": "code",
      "source": [
        "accuracy_score(y_ideal, y_ideal_pred >= 0.726)"
      ],
      "metadata": {
        "colab": {
          "base_uri": "https://localhost:8080/"
        },
        "id": "Cr_4aoCKGV2a",
        "outputId": "db1dce47-20a5-4aa9-b9d6-fb87e41f380b"
      },
      "execution_count": 58,
      "outputs": [
        {
          "output_type": "execute_result",
          "data": {
            "text/plain": [
              "0.6928327645051194"
            ]
          },
          "metadata": {},
          "execution_count": 58
        }
      ]
    },
    {
      "cell_type": "code",
      "source": [
        "df_ideal = tpr_fpr_dataframe(y_ideal, y_ideal_pred)\n",
        "df_ideal[::10]"
      ],
      "metadata": {
        "colab": {
          "base_uri": "https://localhost:8080/",
          "height": 394
        },
        "id": "XbI2t4QpGZOH",
        "outputId": "2c758e37-e07f-49bc-e720-90cc4410276b"
      },
      "execution_count": 59,
      "outputs": [
        {
          "output_type": "execute_result",
          "data": {
            "text/plain": [
              "     threshold   tp   fp   fn   tn       tpr       fpr\n",
              "0          0.0  171  122    0    0  1.000000  1.000000\n",
              "10         0.1  171   92    0   30  1.000000  0.754098\n",
              "20         0.2  171   63    0   59  1.000000  0.516393\n",
              "30         0.3  171   34    0   88  1.000000  0.278689\n",
              "40         0.4  171    5    0  117  1.000000  0.040984\n",
              "50         0.5  147    0   24  122  0.859649  0.000000\n",
              "60         0.6  117    0   54  122  0.684211  0.000000\n",
              "70         0.7   88    0   83  122  0.514620  0.000000\n",
              "80         0.8   59    0  112  122  0.345029  0.000000\n",
              "90         0.9   30    0  141  122  0.175439  0.000000\n",
              "100        1.0    1    0  170  122  0.005848  0.000000"
            ],
            "text/html": [
              "\n",
              "  <div id=\"df-aaebf72e-fa39-4cae-88a5-1f19513e5536\" class=\"colab-df-container\">\n",
              "    <div>\n",
              "<style scoped>\n",
              "    .dataframe tbody tr th:only-of-type {\n",
              "        vertical-align: middle;\n",
              "    }\n",
              "\n",
              "    .dataframe tbody tr th {\n",
              "        vertical-align: top;\n",
              "    }\n",
              "\n",
              "    .dataframe thead th {\n",
              "        text-align: right;\n",
              "    }\n",
              "</style>\n",
              "<table border=\"1\" class=\"dataframe\">\n",
              "  <thead>\n",
              "    <tr style=\"text-align: right;\">\n",
              "      <th></th>\n",
              "      <th>threshold</th>\n",
              "      <th>tp</th>\n",
              "      <th>fp</th>\n",
              "      <th>fn</th>\n",
              "      <th>tn</th>\n",
              "      <th>tpr</th>\n",
              "      <th>fpr</th>\n",
              "    </tr>\n",
              "  </thead>\n",
              "  <tbody>\n",
              "    <tr>\n",
              "      <th>0</th>\n",
              "      <td>0.0</td>\n",
              "      <td>171</td>\n",
              "      <td>122</td>\n",
              "      <td>0</td>\n",
              "      <td>0</td>\n",
              "      <td>1.000000</td>\n",
              "      <td>1.000000</td>\n",
              "    </tr>\n",
              "    <tr>\n",
              "      <th>10</th>\n",
              "      <td>0.1</td>\n",
              "      <td>171</td>\n",
              "      <td>92</td>\n",
              "      <td>0</td>\n",
              "      <td>30</td>\n",
              "      <td>1.000000</td>\n",
              "      <td>0.754098</td>\n",
              "    </tr>\n",
              "    <tr>\n",
              "      <th>20</th>\n",
              "      <td>0.2</td>\n",
              "      <td>171</td>\n",
              "      <td>63</td>\n",
              "      <td>0</td>\n",
              "      <td>59</td>\n",
              "      <td>1.000000</td>\n",
              "      <td>0.516393</td>\n",
              "    </tr>\n",
              "    <tr>\n",
              "      <th>30</th>\n",
              "      <td>0.3</td>\n",
              "      <td>171</td>\n",
              "      <td>34</td>\n",
              "      <td>0</td>\n",
              "      <td>88</td>\n",
              "      <td>1.000000</td>\n",
              "      <td>0.278689</td>\n",
              "    </tr>\n",
              "    <tr>\n",
              "      <th>40</th>\n",
              "      <td>0.4</td>\n",
              "      <td>171</td>\n",
              "      <td>5</td>\n",
              "      <td>0</td>\n",
              "      <td>117</td>\n",
              "      <td>1.000000</td>\n",
              "      <td>0.040984</td>\n",
              "    </tr>\n",
              "    <tr>\n",
              "      <th>50</th>\n",
              "      <td>0.5</td>\n",
              "      <td>147</td>\n",
              "      <td>0</td>\n",
              "      <td>24</td>\n",
              "      <td>122</td>\n",
              "      <td>0.859649</td>\n",
              "      <td>0.000000</td>\n",
              "    </tr>\n",
              "    <tr>\n",
              "      <th>60</th>\n",
              "      <td>0.6</td>\n",
              "      <td>117</td>\n",
              "      <td>0</td>\n",
              "      <td>54</td>\n",
              "      <td>122</td>\n",
              "      <td>0.684211</td>\n",
              "      <td>0.000000</td>\n",
              "    </tr>\n",
              "    <tr>\n",
              "      <th>70</th>\n",
              "      <td>0.7</td>\n",
              "      <td>88</td>\n",
              "      <td>0</td>\n",
              "      <td>83</td>\n",
              "      <td>122</td>\n",
              "      <td>0.514620</td>\n",
              "      <td>0.000000</td>\n",
              "    </tr>\n",
              "    <tr>\n",
              "      <th>80</th>\n",
              "      <td>0.8</td>\n",
              "      <td>59</td>\n",
              "      <td>0</td>\n",
              "      <td>112</td>\n",
              "      <td>122</td>\n",
              "      <td>0.345029</td>\n",
              "      <td>0.000000</td>\n",
              "    </tr>\n",
              "    <tr>\n",
              "      <th>90</th>\n",
              "      <td>0.9</td>\n",
              "      <td>30</td>\n",
              "      <td>0</td>\n",
              "      <td>141</td>\n",
              "      <td>122</td>\n",
              "      <td>0.175439</td>\n",
              "      <td>0.000000</td>\n",
              "    </tr>\n",
              "    <tr>\n",
              "      <th>100</th>\n",
              "      <td>1.0</td>\n",
              "      <td>1</td>\n",
              "      <td>0</td>\n",
              "      <td>170</td>\n",
              "      <td>122</td>\n",
              "      <td>0.005848</td>\n",
              "      <td>0.000000</td>\n",
              "    </tr>\n",
              "  </tbody>\n",
              "</table>\n",
              "</div>\n",
              "    <div class=\"colab-df-buttons\">\n",
              "\n",
              "  <div class=\"colab-df-container\">\n",
              "    <button class=\"colab-df-convert\" onclick=\"convertToInteractive('df-aaebf72e-fa39-4cae-88a5-1f19513e5536')\"\n",
              "            title=\"Convert this dataframe to an interactive table.\"\n",
              "            style=\"display:none;\">\n",
              "\n",
              "  <svg xmlns=\"http://www.w3.org/2000/svg\" height=\"24px\" viewBox=\"0 -960 960 960\">\n",
              "    <path d=\"M120-120v-720h720v720H120Zm60-500h600v-160H180v160Zm220 220h160v-160H400v160Zm0 220h160v-160H400v160ZM180-400h160v-160H180v160Zm440 0h160v-160H620v160ZM180-180h160v-160H180v160Zm440 0h160v-160H620v160Z\"/>\n",
              "  </svg>\n",
              "    </button>\n",
              "\n",
              "  <style>\n",
              "    .colab-df-container {\n",
              "      display:flex;\n",
              "      gap: 12px;\n",
              "    }\n",
              "\n",
              "    .colab-df-convert {\n",
              "      background-color: #E8F0FE;\n",
              "      border: none;\n",
              "      border-radius: 50%;\n",
              "      cursor: pointer;\n",
              "      display: none;\n",
              "      fill: #1967D2;\n",
              "      height: 32px;\n",
              "      padding: 0 0 0 0;\n",
              "      width: 32px;\n",
              "    }\n",
              "\n",
              "    .colab-df-convert:hover {\n",
              "      background-color: #E2EBFA;\n",
              "      box-shadow: 0px 1px 2px rgba(60, 64, 67, 0.3), 0px 1px 3px 1px rgba(60, 64, 67, 0.15);\n",
              "      fill: #174EA6;\n",
              "    }\n",
              "\n",
              "    .colab-df-buttons div {\n",
              "      margin-bottom: 4px;\n",
              "    }\n",
              "\n",
              "    [theme=dark] .colab-df-convert {\n",
              "      background-color: #3B4455;\n",
              "      fill: #D2E3FC;\n",
              "    }\n",
              "\n",
              "    [theme=dark] .colab-df-convert:hover {\n",
              "      background-color: #434B5C;\n",
              "      box-shadow: 0px 1px 3px 1px rgba(0, 0, 0, 0.15);\n",
              "      filter: drop-shadow(0px 1px 2px rgba(0, 0, 0, 0.3));\n",
              "      fill: #FFFFFF;\n",
              "    }\n",
              "  </style>\n",
              "\n",
              "    <script>\n",
              "      const buttonEl =\n",
              "        document.querySelector('#df-aaebf72e-fa39-4cae-88a5-1f19513e5536 button.colab-df-convert');\n",
              "      buttonEl.style.display =\n",
              "        google.colab.kernel.accessAllowed ? 'block' : 'none';\n",
              "\n",
              "      async function convertToInteractive(key) {\n",
              "        const element = document.querySelector('#df-aaebf72e-fa39-4cae-88a5-1f19513e5536');\n",
              "        const dataTable =\n",
              "          await google.colab.kernel.invokeFunction('convertToInteractive',\n",
              "                                                    [key], {});\n",
              "        if (!dataTable) return;\n",
              "\n",
              "        const docLinkHtml = 'Like what you see? Visit the ' +\n",
              "          '<a target=\"_blank\" href=https://colab.research.google.com/notebooks/data_table.ipynb>data table notebook</a>'\n",
              "          + ' to learn more about interactive tables.';\n",
              "        element.innerHTML = '';\n",
              "        dataTable['output_type'] = 'display_data';\n",
              "        await google.colab.output.renderOutput(dataTable, element);\n",
              "        const docLink = document.createElement('div');\n",
              "        docLink.innerHTML = docLinkHtml;\n",
              "        element.appendChild(docLink);\n",
              "      }\n",
              "    </script>\n",
              "  </div>\n",
              "\n",
              "\n",
              "    <div id=\"df-b836a8da-c8c2-44f7-b78c-d6c76b6040ec\">\n",
              "      <button class=\"colab-df-quickchart\" onclick=\"quickchart('df-b836a8da-c8c2-44f7-b78c-d6c76b6040ec')\"\n",
              "                title=\"Suggest charts\"\n",
              "                style=\"display:none;\">\n",
              "\n",
              "<svg xmlns=\"http://www.w3.org/2000/svg\" height=\"24px\"viewBox=\"0 0 24 24\"\n",
              "     width=\"24px\">\n",
              "    <g>\n",
              "        <path d=\"M19 3H5c-1.1 0-2 .9-2 2v14c0 1.1.9 2 2 2h14c1.1 0 2-.9 2-2V5c0-1.1-.9-2-2-2zM9 17H7v-7h2v7zm4 0h-2V7h2v10zm4 0h-2v-4h2v4z\"/>\n",
              "    </g>\n",
              "</svg>\n",
              "      </button>\n",
              "\n",
              "<style>\n",
              "  .colab-df-quickchart {\n",
              "      --bg-color: #E8F0FE;\n",
              "      --fill-color: #1967D2;\n",
              "      --hover-bg-color: #E2EBFA;\n",
              "      --hover-fill-color: #174EA6;\n",
              "      --disabled-fill-color: #AAA;\n",
              "      --disabled-bg-color: #DDD;\n",
              "  }\n",
              "\n",
              "  [theme=dark] .colab-df-quickchart {\n",
              "      --bg-color: #3B4455;\n",
              "      --fill-color: #D2E3FC;\n",
              "      --hover-bg-color: #434B5C;\n",
              "      --hover-fill-color: #FFFFFF;\n",
              "      --disabled-bg-color: #3B4455;\n",
              "      --disabled-fill-color: #666;\n",
              "  }\n",
              "\n",
              "  .colab-df-quickchart {\n",
              "    background-color: var(--bg-color);\n",
              "    border: none;\n",
              "    border-radius: 50%;\n",
              "    cursor: pointer;\n",
              "    display: none;\n",
              "    fill: var(--fill-color);\n",
              "    height: 32px;\n",
              "    padding: 0;\n",
              "    width: 32px;\n",
              "  }\n",
              "\n",
              "  .colab-df-quickchart:hover {\n",
              "    background-color: var(--hover-bg-color);\n",
              "    box-shadow: 0 1px 2px rgba(60, 64, 67, 0.3), 0 1px 3px 1px rgba(60, 64, 67, 0.15);\n",
              "    fill: var(--button-hover-fill-color);\n",
              "  }\n",
              "\n",
              "  .colab-df-quickchart-complete:disabled,\n",
              "  .colab-df-quickchart-complete:disabled:hover {\n",
              "    background-color: var(--disabled-bg-color);\n",
              "    fill: var(--disabled-fill-color);\n",
              "    box-shadow: none;\n",
              "  }\n",
              "\n",
              "  .colab-df-spinner {\n",
              "    border: 2px solid var(--fill-color);\n",
              "    border-color: transparent;\n",
              "    border-bottom-color: var(--fill-color);\n",
              "    animation:\n",
              "      spin 1s steps(1) infinite;\n",
              "  }\n",
              "\n",
              "  @keyframes spin {\n",
              "    0% {\n",
              "      border-color: transparent;\n",
              "      border-bottom-color: var(--fill-color);\n",
              "      border-left-color: var(--fill-color);\n",
              "    }\n",
              "    20% {\n",
              "      border-color: transparent;\n",
              "      border-left-color: var(--fill-color);\n",
              "      border-top-color: var(--fill-color);\n",
              "    }\n",
              "    30% {\n",
              "      border-color: transparent;\n",
              "      border-left-color: var(--fill-color);\n",
              "      border-top-color: var(--fill-color);\n",
              "      border-right-color: var(--fill-color);\n",
              "    }\n",
              "    40% {\n",
              "      border-color: transparent;\n",
              "      border-right-color: var(--fill-color);\n",
              "      border-top-color: var(--fill-color);\n",
              "    }\n",
              "    60% {\n",
              "      border-color: transparent;\n",
              "      border-right-color: var(--fill-color);\n",
              "    }\n",
              "    80% {\n",
              "      border-color: transparent;\n",
              "      border-right-color: var(--fill-color);\n",
              "      border-bottom-color: var(--fill-color);\n",
              "    }\n",
              "    90% {\n",
              "      border-color: transparent;\n",
              "      border-bottom-color: var(--fill-color);\n",
              "    }\n",
              "  }\n",
              "</style>\n",
              "\n",
              "      <script>\n",
              "        async function quickchart(key) {\n",
              "          const quickchartButtonEl =\n",
              "            document.querySelector('#' + key + ' button');\n",
              "          quickchartButtonEl.disabled = true;  // To prevent multiple clicks.\n",
              "          quickchartButtonEl.classList.add('colab-df-spinner');\n",
              "          try {\n",
              "            const charts = await google.colab.kernel.invokeFunction(\n",
              "                'suggestCharts', [key], {});\n",
              "          } catch (error) {\n",
              "            console.error('Error during call to suggestCharts:', error);\n",
              "          }\n",
              "          quickchartButtonEl.classList.remove('colab-df-spinner');\n",
              "          quickchartButtonEl.classList.add('colab-df-quickchart-complete');\n",
              "        }\n",
              "        (() => {\n",
              "          let quickchartButtonEl =\n",
              "            document.querySelector('#df-b836a8da-c8c2-44f7-b78c-d6c76b6040ec button');\n",
              "          quickchartButtonEl.style.display =\n",
              "            google.colab.kernel.accessAllowed ? 'block' : 'none';\n",
              "        })();\n",
              "      </script>\n",
              "    </div>\n",
              "\n",
              "    </div>\n",
              "  </div>\n"
            ],
            "application/vnd.google.colaboratory.intrinsic+json": {
              "type": "dataframe",
              "summary": "{\n  \"name\": \"df_ideal[::10]\",\n  \"rows\": 11,\n  \"fields\": [\n    {\n      \"column\": \"threshold\",\n      \"properties\": {\n        \"dtype\": \"number\",\n        \"std\": 0.33166247903554,\n        \"min\": 0.0,\n        \"max\": 1.0,\n        \"num_unique_values\": 11,\n        \"samples\": [\n          0.5,\n          0.0,\n          0.9\n        ],\n        \"semantic_type\": \"\",\n        \"description\": \"\"\n      }\n    },\n    {\n      \"column\": \"tp\",\n      \"properties\": {\n        \"dtype\": \"number\",\n        \"std\": 63,\n        \"min\": 1,\n        \"max\": 171,\n        \"num_unique_values\": 7,\n        \"samples\": [\n          171,\n          147,\n          30\n        ],\n        \"semantic_type\": \"\",\n        \"description\": \"\"\n      }\n    },\n    {\n      \"column\": \"fp\",\n      \"properties\": {\n        \"dtype\": \"number\",\n        \"std\": 44,\n        \"min\": 0,\n        \"max\": 122,\n        \"num_unique_values\": 6,\n        \"samples\": [\n          122,\n          92,\n          0\n        ],\n        \"semantic_type\": \"\",\n        \"description\": \"\"\n      }\n    },\n    {\n      \"column\": \"fn\",\n      \"properties\": {\n        \"dtype\": \"number\",\n        \"std\": 63,\n        \"min\": 0,\n        \"max\": 170,\n        \"num_unique_values\": 7,\n        \"samples\": [\n          0,\n          24,\n          141\n        ],\n        \"semantic_type\": \"\",\n        \"description\": \"\"\n      }\n    },\n    {\n      \"column\": \"tn\",\n      \"properties\": {\n        \"dtype\": \"number\",\n        \"std\": 44,\n        \"min\": 0,\n        \"max\": 122,\n        \"num_unique_values\": 6,\n        \"samples\": [\n          0,\n          30,\n          122\n        ],\n        \"semantic_type\": \"\",\n        \"description\": \"\"\n      }\n    },\n    {\n      \"column\": \"tpr\",\n      \"properties\": {\n        \"dtype\": \"number\",\n        \"std\": 0.37308341590156857,\n        \"min\": 0.005847953216374269,\n        \"max\": 1.0,\n        \"num_unique_values\": 7,\n        \"samples\": [\n          1.0,\n          0.8596491228070176,\n          0.17543859649122806\n        ],\n        \"semantic_type\": \"\",\n        \"description\": \"\"\n      }\n    },\n    {\n      \"column\": \"fpr\",\n      \"properties\": {\n        \"dtype\": \"number\",\n        \"std\": 0.36121586364531566,\n        \"min\": 0.0,\n        \"max\": 1.0,\n        \"num_unique_values\": 6,\n        \"samples\": [\n          1.0,\n          0.7540983606557377,\n          0.0\n        ],\n        \"semantic_type\": \"\",\n        \"description\": \"\"\n      }\n    }\n  ]\n}"
            }
          },
          "metadata": {},
          "execution_count": 59
        }
      ]
    },
    {
      "cell_type": "code",
      "source": [
        "plt.plot(df_ideal.threshold, df_ideal['tpr'], label='TPR')\n",
        "plt.plot(df_ideal.threshold, df_ideal['fpr'], label='FPR')\n",
        "plt.legend()"
      ],
      "metadata": {
        "colab": {
          "base_uri": "https://localhost:8080/",
          "height": 448
        },
        "id": "iHvvcFZTGcyk",
        "outputId": "b4e04214-d66a-420b-82d2-ce23b706b370"
      },
      "execution_count": 60,
      "outputs": [
        {
          "output_type": "execute_result",
          "data": {
            "text/plain": [
              "<matplotlib.legend.Legend at 0x7e00fbe1daf0>"
            ]
          },
          "metadata": {},
          "execution_count": 60
        },
        {
          "output_type": "display_data",
          "data": {
            "text/plain": [
              "<Figure size 640x480 with 1 Axes>"
            ],
            "image/png": "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\n"
          },
          "metadata": {}
        }
      ]
    },
    {
      "cell_type": "markdown",
      "source": [
        "Putting everything together"
      ],
      "metadata": {
        "id": "OZLbN4hRGh72"
      }
    },
    {
      "cell_type": "code",
      "source": [
        "plt.plot(df_scores.threshold, df_scores['tpr'], label='TPR', color='black')\n",
        "plt.plot(df_scores.threshold, df_scores['fpr'], label='FPR', color='blue')\n",
        "\n",
        "plt.plot(df_ideal.threshold, df_ideal['tpr'], label='TPR ideal')\n",
        "plt.plot(df_ideal.threshold, df_ideal['fpr'], label='FPR ideal')\n",
        "\n",
        "# plt.plot(df_rand.threshold, df_rand['tpr'], label='TPR random', color='grey')\n",
        "# plt.plot(df_rand.threshold, df_rand['fpr'], label='FPR random', color='grey')\n",
        "\n",
        "plt.legend()"
      ],
      "metadata": {
        "colab": {
          "base_uri": "https://localhost:8080/",
          "height": 448
        },
        "id": "ACLqV-FrGjBz",
        "outputId": "6cc194fa-5898-48b2-dcbb-ecbcfcd4c290"
      },
      "execution_count": 61,
      "outputs": [
        {
          "output_type": "execute_result",
          "data": {
            "text/plain": [
              "<matplotlib.legend.Legend at 0x7e00fbd82000>"
            ]
          },
          "metadata": {},
          "execution_count": 61
        },
        {
          "output_type": "display_data",
          "data": {
            "text/plain": [
              "<Figure size 640x480 with 1 Axes>"
            ],
            "image/png": "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\n"
          },
          "metadata": {}
        }
      ]
    },
    {
      "cell_type": "code",
      "source": [
        "plt.figure(figsize=(5, 5))\n",
        "\n",
        "plt.plot(df_scores.fpr, df_scores.tpr, label='Model')\n",
        "plt.plot([0, 1], [0, 1], label='Random', linestyle='--')\n",
        "\n",
        "plt.xlabel('FPR')\n",
        "plt.ylabel('TPR')\n",
        "\n",
        "plt.legend()"
      ],
      "metadata": {
        "colab": {
          "base_uri": "https://localhost:8080/",
          "height": 483
        },
        "id": "a8765QkVGoD0",
        "outputId": "cd8d45c0-abd9-4e5c-c1a1-bfe7dee0407d"
      },
      "execution_count": 62,
      "outputs": [
        {
          "output_type": "execute_result",
          "data": {
            "text/plain": [
              "<matplotlib.legend.Legend at 0x7e00fbd1a600>"
            ]
          },
          "metadata": {},
          "execution_count": 62
        },
        {
          "output_type": "display_data",
          "data": {
            "text/plain": [
              "<Figure size 500x500 with 1 Axes>"
            ],
            "image/png": "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\n"
          },
          "metadata": {}
        }
      ]
    },
    {
      "cell_type": "code",
      "source": [
        "from sklearn.metrics import roc_curve\n",
        "fpr, tpr, thresholds = roc_curve(y_val, y_pred)\n",
        "plt.figure(figsize=(5, 5))\n",
        "\n",
        "plt.plot(fpr, tpr, label='Model')\n",
        "plt.plot([0, 1], [0, 1], label='Random', linestyle='--')\n",
        "\n",
        "plt.xlabel('FPR')\n",
        "plt.ylabel('TPR')\n",
        "\n",
        "plt.legend()"
      ],
      "metadata": {
        "colab": {
          "base_uri": "https://localhost:8080/",
          "height": 483
        },
        "id": "KWYojh_gGvkF",
        "outputId": "9c3a3294-f053-4267-d40f-644167bfae3c"
      },
      "execution_count": 63,
      "outputs": [
        {
          "output_type": "execute_result",
          "data": {
            "text/plain": [
              "<matplotlib.legend.Legend at 0x7e00fbd816a0>"
            ]
          },
          "metadata": {},
          "execution_count": 63
        },
        {
          "output_type": "display_data",
          "data": {
            "text/plain": [
              "<Figure size 500x500 with 1 Axes>"
            ],
            "image/png": "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\n"
          },
          "metadata": {}
        }
      ]
    },
    {
      "cell_type": "markdown",
      "source": [
        "# 6 ROC AUC"
      ],
      "metadata": {
        "id": "SNp4ZtGAGrlA"
      }
    },
    {
      "cell_type": "code",
      "source": [
        "from sklearn.metrics import auc\n",
        "auc(fpr, tpr)"
      ],
      "metadata": {
        "colab": {
          "base_uri": "https://localhost:8080/"
        },
        "id": "yERzL63DG3JP",
        "outputId": "85766836-8455-422d-cda5-dc8aa8904e47"
      },
      "execution_count": 64,
      "outputs": [
        {
          "output_type": "execute_result",
          "data": {
            "text/plain": [
              "np.float64(0.8892723612309462)"
            ]
          },
          "metadata": {},
          "execution_count": 64
        }
      ]
    },
    {
      "cell_type": "code",
      "source": [
        "auc(df_scores.fpr, df_scores.tpr)"
      ],
      "metadata": {
        "colab": {
          "base_uri": "https://localhost:8080/"
        },
        "id": "xmleL0z9G73w",
        "outputId": "9d5a7de0-6c6c-4a89-81f1-8b2d30301e89"
      },
      "execution_count": 65,
      "outputs": [
        {
          "output_type": "execute_result",
          "data": {
            "text/plain": [
              "np.float64(0.8891764931454319)"
            ]
          },
          "metadata": {},
          "execution_count": 65
        }
      ]
    },
    {
      "cell_type": "code",
      "source": [
        "auc(df_ideal.fpr, df_ideal.tpr)"
      ],
      "metadata": {
        "colab": {
          "base_uri": "https://localhost:8080/"
        },
        "id": "osl_0kkcG-1O",
        "outputId": "ea1d2ee5-905b-40ac-b430-9318e145089e"
      },
      "execution_count": 66,
      "outputs": [
        {
          "output_type": "execute_result",
          "data": {
            "text/plain": [
              "np.float64(0.9999520659572428)"
            ]
          },
          "metadata": {},
          "execution_count": 66
        }
      ]
    },
    {
      "cell_type": "code",
      "source": [
        "fpr, tpr, thresholds = roc_curve(y_val, y_pred)\n",
        "auc(fpr, tpr)"
      ],
      "metadata": {
        "colab": {
          "base_uri": "https://localhost:8080/"
        },
        "id": "ns5HhxziHDNW",
        "outputId": "4270d758-d9d1-4b4e-8e2b-4a31040f1be7"
      },
      "execution_count": 67,
      "outputs": [
        {
          "output_type": "execute_result",
          "data": {
            "text/plain": [
              "np.float64(0.8892723612309462)"
            ]
          },
          "metadata": {},
          "execution_count": 67
        }
      ]
    },
    {
      "cell_type": "code",
      "source": [
        "from sklearn.metrics import roc_auc_score\n",
        "roc_auc_score(y_val, y_pred)"
      ],
      "metadata": {
        "colab": {
          "base_uri": "https://localhost:8080/"
        },
        "id": "tiftueRcHEif",
        "outputId": "6d06b4cf-dbf9-4130-c4a3-e0d694eca6a0"
      },
      "execution_count": 68,
      "outputs": [
        {
          "output_type": "execute_result",
          "data": {
            "text/plain": [
              "np.float64(0.8892723612309462)"
            ]
          },
          "metadata": {},
          "execution_count": 68
        }
      ]
    },
    {
      "cell_type": "code",
      "source": [
        "neg = y_pred[y_val == 0]\n",
        "pos = y_pred[y_val == 1]\n",
        "import random\n",
        "n = 100000\n",
        "success = 0\n",
        "\n",
        "for i in range(n):\n",
        "    pos_ind = random.randint(0, len(pos) - 1)\n",
        "    neg_ind = random.randint(0, len(neg) - 1)\n",
        "\n",
        "    if pos[pos_ind] > neg[neg_ind]:\n",
        "        success = success + 1\n",
        "\n",
        "success / n"
      ],
      "metadata": {
        "colab": {
          "base_uri": "https://localhost:8080/"
        },
        "id": "k-_B-JjzHHhk",
        "outputId": "9635ee5e-4371-4ea9-997b-b520b82bdc55"
      },
      "execution_count": 69,
      "outputs": [
        {
          "output_type": "execute_result",
          "data": {
            "text/plain": [
              "0.8901"
            ]
          },
          "metadata": {},
          "execution_count": 69
        }
      ]
    },
    {
      "cell_type": "code",
      "source": [
        "n = 50000\n",
        "\n",
        "np.random.seed(1)\n",
        "pos_ind = np.random.randint(0, len(pos), size=n)\n",
        "neg_ind = np.random.randint(0, len(neg), size=n)\n",
        "\n",
        "(pos[pos_ind] > neg[neg_ind]).mean()"
      ],
      "metadata": {
        "colab": {
          "base_uri": "https://localhost:8080/"
        },
        "id": "ECUjv47hHNTP",
        "outputId": "4071fa91-2405-49ee-ece8-17409d6d5729"
      },
      "execution_count": 70,
      "outputs": [
        {
          "output_type": "execute_result",
          "data": {
            "text/plain": [
              "np.float64(0.89318)"
            ]
          },
          "metadata": {},
          "execution_count": 70
        }
      ]
    },
    {
      "cell_type": "markdown",
      "source": [
        "# 7 Cross-Validation"
      ],
      "metadata": {
        "id": "QTa_ZkvrHQaO"
      }
    },
    {
      "cell_type": "code",
      "source": [
        "def train(df_train, y_train, C=1.0):\n",
        "    dicts = df_train[categorical + numerical].to_dict(orient='records')\n",
        "\n",
        "    dv = DictVectorizer(sparse=False)\n",
        "    X_train = dv.fit_transform(dicts)\n",
        "\n",
        "    model = LogisticRegression(C=C, max_iter=1000)\n",
        "    model.fit(X_train, y_train)\n",
        "\n",
        "    return dv, model\n",
        "dv, model = train(df_train, y_train, C=0.001)\n",
        "def predict(df, dv, model):\n",
        "    dicts = df[categorical + numerical].to_dict(orient='records')\n",
        "\n",
        "    X = dv.transform(dicts)\n",
        "    y_pred = model.predict_proba(X)[:, 1]\n",
        "\n",
        "    return y_pred\n",
        "y_pred = predict(df_val, dv, model)\n",
        "from sklearn.model_selection import KFold"
      ],
      "metadata": {
        "id": "tLpuHX7LHSZ3"
      },
      "execution_count": 71,
      "outputs": []
    },
    {
      "cell_type": "code",
      "source": [
        "!pip install tqdm"
      ],
      "metadata": {
        "colab": {
          "base_uri": "https://localhost:8080/"
        },
        "id": "SF4c1RyuHdI-",
        "outputId": "6e8757ad-4368-4c27-a53b-a36ceb046e2f"
      },
      "execution_count": 72,
      "outputs": [
        {
          "output_type": "stream",
          "name": "stdout",
          "text": [
            "Requirement already satisfied: tqdm in /usr/local/lib/python3.12/dist-packages (4.67.1)\n"
          ]
        }
      ]
    },
    {
      "cell_type": "code",
      "source": [
        "from tqdm.auto import tqdm\n",
        "n_splits = 5\n",
        "\n",
        "for C in tqdm([0.001, 0.01, 0.1, 0.5, 1, 5, 10]):\n",
        "    kfold = KFold(n_splits=n_splits, shuffle=True, random_state=1)\n",
        "\n",
        "    scores = []\n",
        "\n",
        "    for train_idx, val_idx in kfold.split(df_full_train):\n",
        "        df_train = df_full_train.iloc[train_idx]\n",
        "        df_val = df_full_train.iloc[val_idx]\n",
        "\n",
        "        y_train = df_train.converted.values\n",
        "        y_val = df_val.converted.values\n",
        "\n",
        "        dv, model = train(df_train, y_train, C=C)\n",
        "        y_pred = predict(df_val, dv, model)\n",
        "\n",
        "        auc = roc_auc_score(y_val, y_pred)\n",
        "        scores.append(auc)\n",
        "\n",
        "    print('C=%s %.3f +- %.3f' % (C, np.mean(scores), np.std(scores)))"
      ],
      "metadata": {
        "colab": {
          "base_uri": "https://localhost:8080/",
          "height": 1000,
          "referenced_widgets": [
            "9992082ea99f421c8b769c15e051ca84",
            "7ed1f831595d42b3a74b7994fa74ce26",
            "f1d0530b085e463bbfc05f3493bf1e21",
            "1b96458bbb6a43cdaed6f2a5375c3dbc",
            "fc9882eb91f141ddb188c855b82b1037",
            "1b7c7ec9365f40858d4899795b71c0c1",
            "6a5dc1e49b234439914929e1dd39d445",
            "30edd4892f0a4ec8a195c7432b405100",
            "413a8cde56544f7ebd7cdd920d51497f",
            "b17c91b6e688480d802732104dd73752",
            "d87e0e6ab74f485ba1e8e30620a0c875"
          ]
        },
        "id": "XsE4ALl2HjvX",
        "outputId": "ee22befb-904f-4e73-ef7c-b7f89265f6ca"
      },
      "execution_count": 74,
      "outputs": [
        {
          "output_type": "display_data",
          "data": {
            "text/plain": [
              "  0%|          | 0/7 [00:00<?, ?it/s]"
            ],
            "application/vnd.jupyter.widget-view+json": {
              "version_major": 2,
              "version_minor": 0,
              "model_id": "9992082ea99f421c8b769c15e051ca84"
            }
          },
          "metadata": {}
        },
        {
          "output_type": "stream",
          "name": "stdout",
          "text": [
            "C=0.001 0.868 +- 0.019\n",
            "C=0.01 0.894 +- 0.021\n"
          ]
        },
        {
          "output_type": "stream",
          "name": "stderr",
          "text": [
            "/usr/local/lib/python3.12/dist-packages/sklearn/linear_model/_logistic.py:465: ConvergenceWarning: lbfgs failed to converge (status=1):\n",
            "STOP: TOTAL NO. OF ITERATIONS REACHED LIMIT.\n",
            "\n",
            "Increase the number of iterations (max_iter) or scale the data as shown in:\n",
            "    https://scikit-learn.org/stable/modules/preprocessing.html\n",
            "Please also refer to the documentation for alternative solver options:\n",
            "    https://scikit-learn.org/stable/modules/linear_model.html#logistic-regression\n",
            "  n_iter_i = _check_optimize_result(\n",
            "/usr/local/lib/python3.12/dist-packages/sklearn/linear_model/_logistic.py:465: ConvergenceWarning: lbfgs failed to converge (status=1):\n",
            "STOP: TOTAL NO. OF ITERATIONS REACHED LIMIT.\n",
            "\n",
            "Increase the number of iterations (max_iter) or scale the data as shown in:\n",
            "    https://scikit-learn.org/stable/modules/preprocessing.html\n",
            "Please also refer to the documentation for alternative solver options:\n",
            "    https://scikit-learn.org/stable/modules/linear_model.html#logistic-regression\n",
            "  n_iter_i = _check_optimize_result(\n",
            "/usr/local/lib/python3.12/dist-packages/sklearn/linear_model/_logistic.py:465: ConvergenceWarning: lbfgs failed to converge (status=1):\n",
            "STOP: TOTAL NO. OF ITERATIONS REACHED LIMIT.\n",
            "\n",
            "Increase the number of iterations (max_iter) or scale the data as shown in:\n",
            "    https://scikit-learn.org/stable/modules/preprocessing.html\n",
            "Please also refer to the documentation for alternative solver options:\n",
            "    https://scikit-learn.org/stable/modules/linear_model.html#logistic-regression\n",
            "  n_iter_i = _check_optimize_result(\n"
          ]
        },
        {
          "output_type": "stream",
          "name": "stdout",
          "text": [
            "C=0.1 0.917 +- 0.016\n"
          ]
        },
        {
          "output_type": "stream",
          "name": "stderr",
          "text": [
            "/usr/local/lib/python3.12/dist-packages/sklearn/linear_model/_logistic.py:465: ConvergenceWarning: lbfgs failed to converge (status=1):\n",
            "STOP: TOTAL NO. OF ITERATIONS REACHED LIMIT.\n",
            "\n",
            "Increase the number of iterations (max_iter) or scale the data as shown in:\n",
            "    https://scikit-learn.org/stable/modules/preprocessing.html\n",
            "Please also refer to the documentation for alternative solver options:\n",
            "    https://scikit-learn.org/stable/modules/linear_model.html#logistic-regression\n",
            "  n_iter_i = _check_optimize_result(\n",
            "/usr/local/lib/python3.12/dist-packages/sklearn/linear_model/_logistic.py:465: ConvergenceWarning: lbfgs failed to converge (status=1):\n",
            "STOP: TOTAL NO. OF ITERATIONS REACHED LIMIT.\n",
            "\n",
            "Increase the number of iterations (max_iter) or scale the data as shown in:\n",
            "    https://scikit-learn.org/stable/modules/preprocessing.html\n",
            "Please also refer to the documentation for alternative solver options:\n",
            "    https://scikit-learn.org/stable/modules/linear_model.html#logistic-regression\n",
            "  n_iter_i = _check_optimize_result(\n",
            "/usr/local/lib/python3.12/dist-packages/sklearn/linear_model/_logistic.py:465: ConvergenceWarning: lbfgs failed to converge (status=1):\n",
            "STOP: TOTAL NO. OF ITERATIONS REACHED LIMIT.\n",
            "\n",
            "Increase the number of iterations (max_iter) or scale the data as shown in:\n",
            "    https://scikit-learn.org/stable/modules/preprocessing.html\n",
            "Please also refer to the documentation for alternative solver options:\n",
            "    https://scikit-learn.org/stable/modules/linear_model.html#logistic-regression\n",
            "  n_iter_i = _check_optimize_result(\n",
            "/usr/local/lib/python3.12/dist-packages/sklearn/linear_model/_logistic.py:465: ConvergenceWarning: lbfgs failed to converge (status=1):\n",
            "STOP: TOTAL NO. OF ITERATIONS REACHED LIMIT.\n",
            "\n",
            "Increase the number of iterations (max_iter) or scale the data as shown in:\n",
            "    https://scikit-learn.org/stable/modules/preprocessing.html\n",
            "Please also refer to the documentation for alternative solver options:\n",
            "    https://scikit-learn.org/stable/modules/linear_model.html#logistic-regression\n",
            "  n_iter_i = _check_optimize_result(\n",
            "/usr/local/lib/python3.12/dist-packages/sklearn/linear_model/_logistic.py:465: ConvergenceWarning: lbfgs failed to converge (status=1):\n",
            "STOP: TOTAL NO. OF ITERATIONS REACHED LIMIT.\n",
            "\n",
            "Increase the number of iterations (max_iter) or scale the data as shown in:\n",
            "    https://scikit-learn.org/stable/modules/preprocessing.html\n",
            "Please also refer to the documentation for alternative solver options:\n",
            "    https://scikit-learn.org/stable/modules/linear_model.html#logistic-regression\n",
            "  n_iter_i = _check_optimize_result(\n"
          ]
        },
        {
          "output_type": "stream",
          "name": "stdout",
          "text": [
            "C=0.5 0.920 +- 0.013\n"
          ]
        },
        {
          "output_type": "stream",
          "name": "stderr",
          "text": [
            "/usr/local/lib/python3.12/dist-packages/sklearn/linear_model/_logistic.py:465: ConvergenceWarning: lbfgs failed to converge (status=1):\n",
            "STOP: TOTAL NO. OF ITERATIONS REACHED LIMIT.\n",
            "\n",
            "Increase the number of iterations (max_iter) or scale the data as shown in:\n",
            "    https://scikit-learn.org/stable/modules/preprocessing.html\n",
            "Please also refer to the documentation for alternative solver options:\n",
            "    https://scikit-learn.org/stable/modules/linear_model.html#logistic-regression\n",
            "  n_iter_i = _check_optimize_result(\n",
            "/usr/local/lib/python3.12/dist-packages/sklearn/linear_model/_logistic.py:465: ConvergenceWarning: lbfgs failed to converge (status=1):\n",
            "STOP: TOTAL NO. OF ITERATIONS REACHED LIMIT.\n",
            "\n",
            "Increase the number of iterations (max_iter) or scale the data as shown in:\n",
            "    https://scikit-learn.org/stable/modules/preprocessing.html\n",
            "Please also refer to the documentation for alternative solver options:\n",
            "    https://scikit-learn.org/stable/modules/linear_model.html#logistic-regression\n",
            "  n_iter_i = _check_optimize_result(\n",
            "/usr/local/lib/python3.12/dist-packages/sklearn/linear_model/_logistic.py:465: ConvergenceWarning: lbfgs failed to converge (status=1):\n",
            "STOP: TOTAL NO. OF ITERATIONS REACHED LIMIT.\n",
            "\n",
            "Increase the number of iterations (max_iter) or scale the data as shown in:\n",
            "    https://scikit-learn.org/stable/modules/preprocessing.html\n",
            "Please also refer to the documentation for alternative solver options:\n",
            "    https://scikit-learn.org/stable/modules/linear_model.html#logistic-regression\n",
            "  n_iter_i = _check_optimize_result(\n",
            "/usr/local/lib/python3.12/dist-packages/sklearn/linear_model/_logistic.py:465: ConvergenceWarning: lbfgs failed to converge (status=1):\n",
            "STOP: TOTAL NO. OF ITERATIONS REACHED LIMIT.\n",
            "\n",
            "Increase the number of iterations (max_iter) or scale the data as shown in:\n",
            "    https://scikit-learn.org/stable/modules/preprocessing.html\n",
            "Please also refer to the documentation for alternative solver options:\n",
            "    https://scikit-learn.org/stable/modules/linear_model.html#logistic-regression\n",
            "  n_iter_i = _check_optimize_result(\n",
            "/usr/local/lib/python3.12/dist-packages/sklearn/linear_model/_logistic.py:465: ConvergenceWarning: lbfgs failed to converge (status=1):\n",
            "STOP: TOTAL NO. OF ITERATIONS REACHED LIMIT.\n",
            "\n",
            "Increase the number of iterations (max_iter) or scale the data as shown in:\n",
            "    https://scikit-learn.org/stable/modules/preprocessing.html\n",
            "Please also refer to the documentation for alternative solver options:\n",
            "    https://scikit-learn.org/stable/modules/linear_model.html#logistic-regression\n",
            "  n_iter_i = _check_optimize_result(\n"
          ]
        },
        {
          "output_type": "stream",
          "name": "stdout",
          "text": [
            "C=1 0.921 +- 0.011\n"
          ]
        },
        {
          "output_type": "stream",
          "name": "stderr",
          "text": [
            "/usr/local/lib/python3.12/dist-packages/sklearn/linear_model/_logistic.py:465: ConvergenceWarning: lbfgs failed to converge (status=1):\n",
            "STOP: TOTAL NO. OF ITERATIONS REACHED LIMIT.\n",
            "\n",
            "Increase the number of iterations (max_iter) or scale the data as shown in:\n",
            "    https://scikit-learn.org/stable/modules/preprocessing.html\n",
            "Please also refer to the documentation for alternative solver options:\n",
            "    https://scikit-learn.org/stable/modules/linear_model.html#logistic-regression\n",
            "  n_iter_i = _check_optimize_result(\n",
            "/usr/local/lib/python3.12/dist-packages/sklearn/linear_model/_logistic.py:465: ConvergenceWarning: lbfgs failed to converge (status=1):\n",
            "STOP: TOTAL NO. OF ITERATIONS REACHED LIMIT.\n",
            "\n",
            "Increase the number of iterations (max_iter) or scale the data as shown in:\n",
            "    https://scikit-learn.org/stable/modules/preprocessing.html\n",
            "Please also refer to the documentation for alternative solver options:\n",
            "    https://scikit-learn.org/stable/modules/linear_model.html#logistic-regression\n",
            "  n_iter_i = _check_optimize_result(\n",
            "/usr/local/lib/python3.12/dist-packages/sklearn/linear_model/_logistic.py:465: ConvergenceWarning: lbfgs failed to converge (status=1):\n",
            "STOP: TOTAL NO. OF ITERATIONS REACHED LIMIT.\n",
            "\n",
            "Increase the number of iterations (max_iter) or scale the data as shown in:\n",
            "    https://scikit-learn.org/stable/modules/preprocessing.html\n",
            "Please also refer to the documentation for alternative solver options:\n",
            "    https://scikit-learn.org/stable/modules/linear_model.html#logistic-regression\n",
            "  n_iter_i = _check_optimize_result(\n",
            "/usr/local/lib/python3.12/dist-packages/sklearn/linear_model/_logistic.py:465: ConvergenceWarning: lbfgs failed to converge (status=1):\n",
            "STOP: TOTAL NO. OF ITERATIONS REACHED LIMIT.\n",
            "\n",
            "Increase the number of iterations (max_iter) or scale the data as shown in:\n",
            "    https://scikit-learn.org/stable/modules/preprocessing.html\n",
            "Please also refer to the documentation for alternative solver options:\n",
            "    https://scikit-learn.org/stable/modules/linear_model.html#logistic-regression\n",
            "  n_iter_i = _check_optimize_result(\n",
            "/usr/local/lib/python3.12/dist-packages/sklearn/linear_model/_logistic.py:465: ConvergenceWarning: lbfgs failed to converge (status=1):\n",
            "STOP: TOTAL NO. OF ITERATIONS REACHED LIMIT.\n",
            "\n",
            "Increase the number of iterations (max_iter) or scale the data as shown in:\n",
            "    https://scikit-learn.org/stable/modules/preprocessing.html\n",
            "Please also refer to the documentation for alternative solver options:\n",
            "    https://scikit-learn.org/stable/modules/linear_model.html#logistic-regression\n",
            "  n_iter_i = _check_optimize_result(\n"
          ]
        },
        {
          "output_type": "stream",
          "name": "stdout",
          "text": [
            "C=5 0.920 +- 0.010\n"
          ]
        },
        {
          "output_type": "stream",
          "name": "stderr",
          "text": [
            "/usr/local/lib/python3.12/dist-packages/sklearn/linear_model/_logistic.py:465: ConvergenceWarning: lbfgs failed to converge (status=1):\n",
            "STOP: TOTAL NO. OF ITERATIONS REACHED LIMIT.\n",
            "\n",
            "Increase the number of iterations (max_iter) or scale the data as shown in:\n",
            "    https://scikit-learn.org/stable/modules/preprocessing.html\n",
            "Please also refer to the documentation for alternative solver options:\n",
            "    https://scikit-learn.org/stable/modules/linear_model.html#logistic-regression\n",
            "  n_iter_i = _check_optimize_result(\n",
            "/usr/local/lib/python3.12/dist-packages/sklearn/linear_model/_logistic.py:465: ConvergenceWarning: lbfgs failed to converge (status=1):\n",
            "STOP: TOTAL NO. OF ITERATIONS REACHED LIMIT.\n",
            "\n",
            "Increase the number of iterations (max_iter) or scale the data as shown in:\n",
            "    https://scikit-learn.org/stable/modules/preprocessing.html\n",
            "Please also refer to the documentation for alternative solver options:\n",
            "    https://scikit-learn.org/stable/modules/linear_model.html#logistic-regression\n",
            "  n_iter_i = _check_optimize_result(\n"
          ]
        },
        {
          "output_type": "stream",
          "name": "stdout",
          "text": [
            "C=10 0.920 +- 0.010\n"
          ]
        }
      ]
    },
    {
      "cell_type": "code",
      "source": [
        "scores"
      ],
      "metadata": {
        "colab": {
          "base_uri": "https://localhost:8080/"
        },
        "id": "HgmA9kcvH0Yw",
        "outputId": "b8ed918c-f91f-4a06-801b-8d09b1df744f"
      },
      "execution_count": 75,
      "outputs": [
        {
          "output_type": "execute_result",
          "data": {
            "text/plain": [
              "[np.float64(0.921462071019132),\n",
              " np.float64(0.9318945969192274),\n",
              " np.float64(0.9060911721010243),\n",
              " np.float64(0.9116594022415941),\n",
              " np.float64(0.9309704380126915)]"
            ]
          },
          "metadata": {},
          "execution_count": 75
        }
      ]
    },
    {
      "cell_type": "code",
      "source": [
        "dv, model = train(df_full_train, df_full_train.converted.values, C=1.0)\n",
        "y_pred = predict(df_test, dv, model)\n",
        "\n",
        "auc = roc_auc_score(y_test, y_pred)\n",
        "auc"
      ],
      "metadata": {
        "colab": {
          "base_uri": "https://localhost:8080/"
        },
        "id": "ZfSsDSMrH2Kg",
        "outputId": "44323418-a54b-4c69-8505-e36234903255"
      },
      "execution_count": 77,
      "outputs": [
        {
          "output_type": "stream",
          "name": "stderr",
          "text": [
            "/usr/local/lib/python3.12/dist-packages/sklearn/linear_model/_logistic.py:465: ConvergenceWarning: lbfgs failed to converge (status=1):\n",
            "STOP: TOTAL NO. OF ITERATIONS REACHED LIMIT.\n",
            "\n",
            "Increase the number of iterations (max_iter) or scale the data as shown in:\n",
            "    https://scikit-learn.org/stable/modules/preprocessing.html\n",
            "Please also refer to the documentation for alternative solver options:\n",
            "    https://scikit-learn.org/stable/modules/linear_model.html#logistic-regression\n",
            "  n_iter_i = _check_optimize_result(\n"
          ]
        },
        {
          "output_type": "execute_result",
          "data": {
            "text/plain": [
              "np.float64(0.9232498722534491)"
            ]
          },
          "metadata": {},
          "execution_count": 77
        }
      ]
=======
>>>>>>> parent of 32d3ccd (使用 Colab 创建而成)
    }
  ]
}