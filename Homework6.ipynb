{
  "nbformat": 4,
  "nbformat_minor": 0,
  "metadata": {
    "colab": {
      "provenance": [],
      "authorship_tag": "ABX9TyO3JAMfK0r5bOxUnqTpNcDL",
      "include_colab_link": true
    },
    "kernelspec": {
      "name": "python3",
      "display_name": "Python 3"
    },
    "language_info": {
      "name": "python"
    }
  },
  "cells": [
    {
      "cell_type": "markdown",
      "metadata": {
        "id": "view-in-github",
        "colab_type": "text"
      },
      "source": [
        "<a href=\"https://colab.research.google.com/github/feiduobaby/good-first-issue/blob/main/Homework6.ipynb\" target=\"_parent\"><img src=\"https://colab.research.google.com/assets/colab-badge.svg\" alt=\"Open In Colab\"/></a>"
      ]
    },
    {
      "cell_type": "code",
      "execution_count": 2,
      "metadata": {
        "colab": {
          "base_uri": "https://localhost:8080/"
        },
        "id": "Ehee898QqTN3",
        "outputId": "3cdab720-c2df-4891-9884-d8d3c4dd3a06"
      },
      "outputs": [
        {
          "output_type": "stream",
          "name": "stdout",
          "text": [
            "--2025-10-31 05:08:10--  https://raw.githubusercontent.com/alexeygrigorev/datasets/master/car_fuel_efficiency.csv\n",
            "Resolving raw.githubusercontent.com (raw.githubusercontent.com)... 185.199.108.133, 185.199.109.133, 185.199.110.133, ...\n",
            "Connecting to raw.githubusercontent.com (raw.githubusercontent.com)|185.199.108.133|:443... connected.\n",
            "HTTP request sent, awaiting response... 200 OK\n",
            "Length: 874188 (854K) [text/plain]\n",
            "Saving to: ‘car_fuel_efficiency.csv’\n",
            "\n",
            "car_fuel_efficiency 100%[===================>] 853.70K  --.-KB/s    in 0.07s   \n",
            "\n",
            "2025-10-31 05:08:10 (12.6 MB/s) - ‘car_fuel_efficiency.csv’ saved [874188/874188]\n",
            "\n"
          ]
        }
      ],
      "source": [
        "!wget https://raw.githubusercontent.com/alexeygrigorev/datasets/master/car_fuel_efficiency.csv"
      ]
    },
    {
      "cell_type": "code",
      "source": [
        "import pandas as pd\n",
        "import numpy as np\n",
        "\n",
        "import seaborn as sns\n",
        "from matplotlib import pyplot as plt\n",
        "%matplotlib inline"
      ],
      "metadata": {
        "id": "VAfyW8P9qpcC"
      },
      "execution_count": 3,
      "outputs": []
    },
    {
      "cell_type": "code",
      "source": [
        "!head car_fuel_efficiency.csv"
      ],
      "metadata": {
        "colab": {
          "base_uri": "https://localhost:8080/"
        },
        "id": "63McreGzrGQv",
        "outputId": "86050b6f-75d7-4ddc-cc23-e2c6ebdcfae5"
      },
      "execution_count": 4,
      "outputs": [
        {
          "output_type": "stream",
          "name": "stdout",
          "text": [
            "engine_displacement,num_cylinders,horsepower,vehicle_weight,acceleration,model_year,origin,fuel_type,drivetrain,num_doors,fuel_efficiency_mpg\r\n",
            "170,3,159,3413.433758606219,17.7,2003,Europe,Gasoline,All-wheel drive,0,13.231728906241411\r\n",
            "130,5,97,3149.6649342200353,17.8,2007,USA,Gasoline,Front-wheel drive,0,13.688217435463793\r\n",
            "170,,78,3079.03899736884,15.1,2018,Europe,Gasoline,Front-wheel drive,0,14.246340998160866\r\n",
            "220,4,,2542.392401828378,20.2,2009,USA,Diesel,All-wheel drive,2,16.91273559598635\r\n",
            "210,1,140,3460.870989989018,14.4,2009,Europe,Gasoline,All-wheel drive,2,12.488369121964562\r\n",
            "190,3,,2484.883986036068,14.7,2008,Europe,Gasoline,All-wheel drive,-1,17.271818372724237\r\n",
            "240,7,127,3006.5422872171457,22.2,2012,USA,Gasoline,Front-wheel drive,1,13.210412112385608\r\n",
            "150,4,239,3638.6577802809,17.3,2020,USA,Diesel,All-wheel drive,1,12.848883861524026\r\n",
            "250,1,174,2714.219309645285,10.3,2016,Asia,Diesel,Front-wheel drive,-1,16.823553726916543\r\n"
          ]
        }
      ]
    },
    {
      "cell_type": "code",
      "source": [
        "df = pd.read_csv('car_fuel_efficiency.csv')"
      ],
      "metadata": {
        "id": "epNCaRd8rKXg"
      },
      "execution_count": 7,
      "outputs": []
    },
    {
      "cell_type": "code",
      "source": [
        "df.columns = df.columns.str.lower()"
      ],
      "metadata": {
        "id": "K-OR58BCrqxv"
      },
      "execution_count": 8,
      "outputs": []
    },
    {
      "cell_type": "code",
      "source": [
        "df.value_counts()"
      ],
      "metadata": {
        "colab": {
          "base_uri": "https://localhost:8080/",
          "height": 683
        },
        "id": "mBJ-dJEkrs1w",
        "outputId": "be8253e4-f2d3-4c1a-8198-ea00bc0802f5"
      },
      "execution_count": 10,
      "outputs": [
        {
          "output_type": "execute_result",
          "data": {
            "text/plain": [
              "engine_displacement  num_cylinders  horsepower  vehicle_weight  acceleration  model_year  origin  fuel_type  drivetrain         num_doors  fuel_efficiency_mpg\n",
              "380                  6.0            134.0       1904.966269     16.4          2022        Europe  Gasoline   All-wheel drive     1.0       20.259049              1\n",
              "30                   3.0            139.0       3169.620573     12.2          2020        Europe  Gasoline   Front-wheel drive   2.0       14.020636              1\n",
              "                     4.0            146.0       2142.496383     18.7          2015        Asia    Diesel     Front-wheel drive   0.0       18.882554              1\n",
              "                     6.0            155.0       2935.186300     20.1          2008        Asia    Diesel     Front-wheel drive   1.0       15.262094              1\n",
              "40                   4.0            103.0       2103.882204     14.5          2003        USA     Diesel     Front-wheel drive   0.0       19.130571              1\n",
              "                                                                                                                                                                 ..\n",
              "50                   2.0            160.0       3541.503022     13.0          2017        USA     Gasoline   Front-wheel drive  -1.0       12.289811              1\n",
              "                                    92.0        2097.599332     13.4          2018        Europe  Gasoline   Front-wheel drive   0.0       19.914258              1\n",
              "40                   6.0            194.0       3703.070061     12.6          2004        Europe  Gasoline   Front-wheel drive   1.0       12.594446              1\n",
              "                     5.0            196.0       2310.681425     16.7          2003        Asia    Gasoline   Front-wheel drive   1.0       18.485111              1\n",
              "                                    157.0       2942.639275     11.2          2007        Europe  Diesel     Front-wheel drive  -1.0       15.742445              1\n",
              "Name: count, Length: 7333, dtype: int64"
            ],
            "text/html": [
              "<div>\n",
              "<style scoped>\n",
              "    .dataframe tbody tr th:only-of-type {\n",
              "        vertical-align: middle;\n",
              "    }\n",
              "\n",
              "    .dataframe tbody tr th {\n",
              "        vertical-align: top;\n",
              "    }\n",
              "\n",
              "    .dataframe thead th {\n",
              "        text-align: right;\n",
              "    }\n",
              "</style>\n",
              "<table border=\"1\" class=\"dataframe\">\n",
              "  <thead>\n",
              "    <tr style=\"text-align: right;\">\n",
              "      <th></th>\n",
              "      <th></th>\n",
              "      <th></th>\n",
              "      <th></th>\n",
              "      <th></th>\n",
              "      <th></th>\n",
              "      <th></th>\n",
              "      <th></th>\n",
              "      <th></th>\n",
              "      <th></th>\n",
              "      <th></th>\n",
              "      <th>count</th>\n",
              "    </tr>\n",
              "    <tr>\n",
              "      <th>engine_displacement</th>\n",
              "      <th>num_cylinders</th>\n",
              "      <th>horsepower</th>\n",
              "      <th>vehicle_weight</th>\n",
              "      <th>acceleration</th>\n",
              "      <th>model_year</th>\n",
              "      <th>origin</th>\n",
              "      <th>fuel_type</th>\n",
              "      <th>drivetrain</th>\n",
              "      <th>num_doors</th>\n",
              "      <th>fuel_efficiency_mpg</th>\n",
              "      <th></th>\n",
              "    </tr>\n",
              "  </thead>\n",
              "  <tbody>\n",
              "    <tr>\n",
              "      <th>380</th>\n",
              "      <th>6.0</th>\n",
              "      <th>134.0</th>\n",
              "      <th>1904.966269</th>\n",
              "      <th>16.4</th>\n",
              "      <th>2022</th>\n",
              "      <th>Europe</th>\n",
              "      <th>Gasoline</th>\n",
              "      <th>All-wheel drive</th>\n",
              "      <th>1.0</th>\n",
              "      <th>20.259049</th>\n",
              "      <td>1</td>\n",
              "    </tr>\n",
              "    <tr>\n",
              "      <th rowspan=\"3\" valign=\"top\">30</th>\n",
              "      <th>3.0</th>\n",
              "      <th>139.0</th>\n",
              "      <th>3169.620573</th>\n",
              "      <th>12.2</th>\n",
              "      <th>2020</th>\n",
              "      <th>Europe</th>\n",
              "      <th>Gasoline</th>\n",
              "      <th>Front-wheel drive</th>\n",
              "      <th>2.0</th>\n",
              "      <th>14.020636</th>\n",
              "      <td>1</td>\n",
              "    </tr>\n",
              "    <tr>\n",
              "      <th>4.0</th>\n",
              "      <th>146.0</th>\n",
              "      <th>2142.496383</th>\n",
              "      <th>18.7</th>\n",
              "      <th>2015</th>\n",
              "      <th>Asia</th>\n",
              "      <th>Diesel</th>\n",
              "      <th>Front-wheel drive</th>\n",
              "      <th>0.0</th>\n",
              "      <th>18.882554</th>\n",
              "      <td>1</td>\n",
              "    </tr>\n",
              "    <tr>\n",
              "      <th>6.0</th>\n",
              "      <th>155.0</th>\n",
              "      <th>2935.186300</th>\n",
              "      <th>20.1</th>\n",
              "      <th>2008</th>\n",
              "      <th>Asia</th>\n",
              "      <th>Diesel</th>\n",
              "      <th>Front-wheel drive</th>\n",
              "      <th>1.0</th>\n",
              "      <th>15.262094</th>\n",
              "      <td>1</td>\n",
              "    </tr>\n",
              "    <tr>\n",
              "      <th>40</th>\n",
              "      <th>4.0</th>\n",
              "      <th>103.0</th>\n",
              "      <th>2103.882204</th>\n",
              "      <th>14.5</th>\n",
              "      <th>2003</th>\n",
              "      <th>USA</th>\n",
              "      <th>Diesel</th>\n",
              "      <th>Front-wheel drive</th>\n",
              "      <th>0.0</th>\n",
              "      <th>19.130571</th>\n",
              "      <td>1</td>\n",
              "    </tr>\n",
              "    <tr>\n",
              "      <th>...</th>\n",
              "      <th>...</th>\n",
              "      <th>...</th>\n",
              "      <th>...</th>\n",
              "      <th>...</th>\n",
              "      <th>...</th>\n",
              "      <th>...</th>\n",
              "      <th>...</th>\n",
              "      <th>...</th>\n",
              "      <th>...</th>\n",
              "      <th>...</th>\n",
              "      <td>...</td>\n",
              "    </tr>\n",
              "    <tr>\n",
              "      <th rowspan=\"2\" valign=\"top\">50</th>\n",
              "      <th rowspan=\"2\" valign=\"top\">2.0</th>\n",
              "      <th>160.0</th>\n",
              "      <th>3541.503022</th>\n",
              "      <th>13.0</th>\n",
              "      <th>2017</th>\n",
              "      <th>USA</th>\n",
              "      <th>Gasoline</th>\n",
              "      <th>Front-wheel drive</th>\n",
              "      <th>-1.0</th>\n",
              "      <th>12.289811</th>\n",
              "      <td>1</td>\n",
              "    </tr>\n",
              "    <tr>\n",
              "      <th>92.0</th>\n",
              "      <th>2097.599332</th>\n",
              "      <th>13.4</th>\n",
              "      <th>2018</th>\n",
              "      <th>Europe</th>\n",
              "      <th>Gasoline</th>\n",
              "      <th>Front-wheel drive</th>\n",
              "      <th>0.0</th>\n",
              "      <th>19.914258</th>\n",
              "      <td>1</td>\n",
              "    </tr>\n",
              "    <tr>\n",
              "      <th rowspan=\"3\" valign=\"top\">40</th>\n",
              "      <th>6.0</th>\n",
              "      <th>194.0</th>\n",
              "      <th>3703.070061</th>\n",
              "      <th>12.6</th>\n",
              "      <th>2004</th>\n",
              "      <th>Europe</th>\n",
              "      <th>Gasoline</th>\n",
              "      <th>Front-wheel drive</th>\n",
              "      <th>1.0</th>\n",
              "      <th>12.594446</th>\n",
              "      <td>1</td>\n",
              "    </tr>\n",
              "    <tr>\n",
              "      <th rowspan=\"2\" valign=\"top\">5.0</th>\n",
              "      <th>196.0</th>\n",
              "      <th>2310.681425</th>\n",
              "      <th>16.7</th>\n",
              "      <th>2003</th>\n",
              "      <th>Asia</th>\n",
              "      <th>Gasoline</th>\n",
              "      <th>Front-wheel drive</th>\n",
              "      <th>1.0</th>\n",
              "      <th>18.485111</th>\n",
              "      <td>1</td>\n",
              "    </tr>\n",
              "    <tr>\n",
              "      <th>157.0</th>\n",
              "      <th>2942.639275</th>\n",
              "      <th>11.2</th>\n",
              "      <th>2007</th>\n",
              "      <th>Europe</th>\n",
              "      <th>Diesel</th>\n",
              "      <th>Front-wheel drive</th>\n",
              "      <th>-1.0</th>\n",
              "      <th>15.742445</th>\n",
              "      <td>1</td>\n",
              "    </tr>\n",
              "  </tbody>\n",
              "</table>\n",
              "<p>7333 rows × 1 columns</p>\n",
              "</div><br><label><b>dtype:</b> int64</label>"
            ]
          },
          "metadata": {},
          "execution_count": 10
        }
      ]
    },
    {
      "cell_type": "code",
      "source": [
        "df.columns[df.isnull().any()]"
      ],
      "metadata": {
        "colab": {
          "base_uri": "https://localhost:8080/"
        },
        "id": "SZhCeFVPufUy",
        "outputId": "d71d65d3-df81-41c8-a26b-a193e0b50d3b"
      },
      "execution_count": 11,
      "outputs": [
        {
          "output_type": "execute_result",
          "data": {
            "text/plain": [
              "Index(['num_cylinders', 'horsepower', 'acceleration', 'num_doors'], dtype='object')"
            ]
          },
          "metadata": {},
          "execution_count": 11
        }
      ]
    },
    {
      "cell_type": "code",
      "source": [
        "df.num_cylinders = pd.to_numeric(df.num_cylinders, errors='coerce').fillna(0)\n",
        "df.horsepower = pd.to_numeric(df.horsepower, errors='coerce').fillna(0)\n",
        "df.acceleration = pd.to_numeric(df.acceleration, errors='coerce').fillna(0)\n",
        "df.num_doors = pd.to_numeric(df.num_doors, errors='coerce').fillna(0.0)"
      ],
      "metadata": {
        "id": "DqeFhj0Ar2qa"
      },
      "execution_count": 13,
      "outputs": []
    },
    {
      "cell_type": "code",
      "source": [
        "from sklearn.model_selection import train_test_split\n",
        "\n",
        "df_full_train, df_test = train_test_split(df, test_size=0.2, random_state=1)\n",
        "df_train, df_val = train_test_split(df_full_train, test_size=0.25, random_state=1)"
      ],
      "metadata": {
        "id": "fDE_o9qAw4AL"
      },
      "execution_count": 15,
      "outputs": []
    }
  ]
}