{
  "nbformat": 4,
  "nbformat_minor": 0,
  "metadata": {
    "colab": {
      "provenance": [],
      "authorship_tag": "ABX9TyObwC0WmMlRubQF3WvzsW8Z",
      "include_colab_link": true
    },
    "kernelspec": {
      "name": "python3",
      "display_name": "Python 3"
    },
    "language_info": {
      "name": "python"
    }
  },
  "cells": [
    {
      "cell_type": "markdown",
      "metadata": {
        "id": "view-in-github",
        "colab_type": "text"
      },
      "source": [
        "<a href=\"https://colab.research.google.com/github/feiduobaby/good-first-issue/blob/main/Homework2.ipynb\" target=\"_parent\"><img src=\"https://colab.research.google.com/assets/colab-badge.svg\" alt=\"Open In Colab\"/></a>"
      ]
    },
    {
      "cell_type": "markdown",
      "source": [
        "## 2 Machine Learning For Regression"
      ],
      "metadata": {
        "id": "1lNfALmH0n78"
      }
    },
    {
      "cell_type": "code",
      "execution_count": 3,
      "metadata": {
        "id": "BAuhV3T_0Lan"
      },
      "outputs": [],
      "source": [
        "import pandas as pd\n",
        "import numpy as np"
      ]
    },
    {
      "cell_type": "markdown",
      "source": [
        "2.2 Data preparation"
      ],
      "metadata": {
        "id": "t4enKEGo04Mu"
      }
    },
    {
      "cell_type": "code",
      "source": [
        "!wget https://raw.githubusercontent.com/alexeygrigorev/datasets/master/car_fuel_efficiency.csv"
      ],
      "metadata": {
        "colab": {
          "base_uri": "https://localhost:8080/"
        },
        "id": "_zX-Xjij0lSg",
        "outputId": "ef021934-2cc8-431c-ca31-6c9bd8734898"
      },
      "execution_count": 4,
      "outputs": [
        {
          "output_type": "stream",
          "name": "stdout",
          "text": [
            "--2025-10-10 07:27:24--  https://raw.githubusercontent.com/alexeygrigorev/datasets/master/car_fuel_efficiency.csv\n",
            "Resolving raw.githubusercontent.com (raw.githubusercontent.com)... 185.199.108.133, 185.199.109.133, 185.199.110.133, ...\n",
            "Connecting to raw.githubusercontent.com (raw.githubusercontent.com)|185.199.108.133|:443... connected.\n",
            "HTTP request sent, awaiting response... 200 OK\n",
            "Length: 874188 (854K) [text/plain]\n",
            "Saving to: ‘car_fuel_efficiency.csv’\n",
            "\n",
            "car_fuel_efficiency 100%[===================>] 853.70K  --.-KB/s    in 0.04s   \n",
            "\n",
            "2025-10-10 07:27:24 (23.8 MB/s) - ‘car_fuel_efficiency.csv’ saved [874188/874188]\n",
            "\n"
          ]
        }
      ]
    },
    {
      "cell_type": "code",
      "source": [
        "df = pd.read_csv('car_fuel_efficiency.csv')\n",
        "df"
      ],
      "metadata": {
        "colab": {
          "base_uri": "https://localhost:8080/",
          "height": 424
        },
        "id": "dJpZ0X7S1Uox",
        "outputId": "fb3f4ccd-4014-41f9-e51f-47af82b37208"
      },
      "execution_count": 5,
      "outputs": [
        {
          "output_type": "execute_result",
          "data": {
            "text/plain": [
              "      engine_displacement  num_cylinders  horsepower  vehicle_weight  \\\n",
              "0                     170            3.0       159.0     3413.433759   \n",
              "1                     130            5.0        97.0     3149.664934   \n",
              "2                     170            NaN        78.0     3079.038997   \n",
              "3                     220            4.0         NaN     2542.392402   \n",
              "4                     210            1.0       140.0     3460.870990   \n",
              "...                   ...            ...         ...             ...   \n",
              "9699                  140            5.0       164.0     2981.107371   \n",
              "9700                  180            NaN       154.0     2439.525729   \n",
              "9701                  220            2.0       138.0     2583.471318   \n",
              "9702                  230            4.0       177.0     2905.527390   \n",
              "9703                  270            3.0       140.0     2908.043477   \n",
              "\n",
              "      acceleration  model_year  origin fuel_type         drivetrain  \\\n",
              "0             17.7        2003  Europe  Gasoline    All-wheel drive   \n",
              "1             17.8        2007     USA  Gasoline  Front-wheel drive   \n",
              "2             15.1        2018  Europe  Gasoline  Front-wheel drive   \n",
              "3             20.2        2009     USA    Diesel    All-wheel drive   \n",
              "4             14.4        2009  Europe  Gasoline    All-wheel drive   \n",
              "...            ...         ...     ...       ...                ...   \n",
              "9699          17.3        2013  Europe    Diesel  Front-wheel drive   \n",
              "9700          15.0        2004     USA  Gasoline    All-wheel drive   \n",
              "9701          15.1        2008     USA    Diesel    All-wheel drive   \n",
              "9702          19.4        2011     USA    Diesel  Front-wheel drive   \n",
              "9703          14.7        2005    Asia    Diesel    All-wheel drive   \n",
              "\n",
              "      num_doors  fuel_efficiency_mpg  \n",
              "0           0.0            13.231729  \n",
              "1           0.0            13.688217  \n",
              "2           0.0            14.246341  \n",
              "3           2.0            16.912736  \n",
              "4           2.0            12.488369  \n",
              "...         ...                  ...  \n",
              "9699        NaN            15.101802  \n",
              "9700        0.0            17.962326  \n",
              "9701       -1.0            17.186587  \n",
              "9702        1.0            15.331551  \n",
              "9703       -1.0            14.884467  \n",
              "\n",
              "[9704 rows x 11 columns]"
            ],
            "text/html": [
              "\n",
              "  <div id=\"df-9370ba2f-f7a0-49e7-bc4d-6b0e386569c1\" class=\"colab-df-container\">\n",
              "    <div>\n",
              "<style scoped>\n",
              "    .dataframe tbody tr th:only-of-type {\n",
              "        vertical-align: middle;\n",
              "    }\n",
              "\n",
              "    .dataframe tbody tr th {\n",
              "        vertical-align: top;\n",
              "    }\n",
              "\n",
              "    .dataframe thead th {\n",
              "        text-align: right;\n",
              "    }\n",
              "</style>\n",
              "<table border=\"1\" class=\"dataframe\">\n",
              "  <thead>\n",
              "    <tr style=\"text-align: right;\">\n",
              "      <th></th>\n",
              "      <th>engine_displacement</th>\n",
              "      <th>num_cylinders</th>\n",
              "      <th>horsepower</th>\n",
              "      <th>vehicle_weight</th>\n",
              "      <th>acceleration</th>\n",
              "      <th>model_year</th>\n",
              "      <th>origin</th>\n",
              "      <th>fuel_type</th>\n",
              "      <th>drivetrain</th>\n",
              "      <th>num_doors</th>\n",
              "      <th>fuel_efficiency_mpg</th>\n",
              "    </tr>\n",
              "  </thead>\n",
              "  <tbody>\n",
              "    <tr>\n",
              "      <th>0</th>\n",
              "      <td>170</td>\n",
              "      <td>3.0</td>\n",
              "      <td>159.0</td>\n",
              "      <td>3413.433759</td>\n",
              "      <td>17.7</td>\n",
              "      <td>2003</td>\n",
              "      <td>Europe</td>\n",
              "      <td>Gasoline</td>\n",
              "      <td>All-wheel drive</td>\n",
              "      <td>0.0</td>\n",
              "      <td>13.231729</td>\n",
              "    </tr>\n",
              "    <tr>\n",
              "      <th>1</th>\n",
              "      <td>130</td>\n",
              "      <td>5.0</td>\n",
              "      <td>97.0</td>\n",
              "      <td>3149.664934</td>\n",
              "      <td>17.8</td>\n",
              "      <td>2007</td>\n",
              "      <td>USA</td>\n",
              "      <td>Gasoline</td>\n",
              "      <td>Front-wheel drive</td>\n",
              "      <td>0.0</td>\n",
              "      <td>13.688217</td>\n",
              "    </tr>\n",
              "    <tr>\n",
              "      <th>2</th>\n",
              "      <td>170</td>\n",
              "      <td>NaN</td>\n",
              "      <td>78.0</td>\n",
              "      <td>3079.038997</td>\n",
              "      <td>15.1</td>\n",
              "      <td>2018</td>\n",
              "      <td>Europe</td>\n",
              "      <td>Gasoline</td>\n",
              "      <td>Front-wheel drive</td>\n",
              "      <td>0.0</td>\n",
              "      <td>14.246341</td>\n",
              "    </tr>\n",
              "    <tr>\n",
              "      <th>3</th>\n",
              "      <td>220</td>\n",
              "      <td>4.0</td>\n",
              "      <td>NaN</td>\n",
              "      <td>2542.392402</td>\n",
              "      <td>20.2</td>\n",
              "      <td>2009</td>\n",
              "      <td>USA</td>\n",
              "      <td>Diesel</td>\n",
              "      <td>All-wheel drive</td>\n",
              "      <td>2.0</td>\n",
              "      <td>16.912736</td>\n",
              "    </tr>\n",
              "    <tr>\n",
              "      <th>4</th>\n",
              "      <td>210</td>\n",
              "      <td>1.0</td>\n",
              "      <td>140.0</td>\n",
              "      <td>3460.870990</td>\n",
              "      <td>14.4</td>\n",
              "      <td>2009</td>\n",
              "      <td>Europe</td>\n",
              "      <td>Gasoline</td>\n",
              "      <td>All-wheel drive</td>\n",
              "      <td>2.0</td>\n",
              "      <td>12.488369</td>\n",
              "    </tr>\n",
              "    <tr>\n",
              "      <th>...</th>\n",
              "      <td>...</td>\n",
              "      <td>...</td>\n",
              "      <td>...</td>\n",
              "      <td>...</td>\n",
              "      <td>...</td>\n",
              "      <td>...</td>\n",
              "      <td>...</td>\n",
              "      <td>...</td>\n",
              "      <td>...</td>\n",
              "      <td>...</td>\n",
              "      <td>...</td>\n",
              "    </tr>\n",
              "    <tr>\n",
              "      <th>9699</th>\n",
              "      <td>140</td>\n",
              "      <td>5.0</td>\n",
              "      <td>164.0</td>\n",
              "      <td>2981.107371</td>\n",
              "      <td>17.3</td>\n",
              "      <td>2013</td>\n",
              "      <td>Europe</td>\n",
              "      <td>Diesel</td>\n",
              "      <td>Front-wheel drive</td>\n",
              "      <td>NaN</td>\n",
              "      <td>15.101802</td>\n",
              "    </tr>\n",
              "    <tr>\n",
              "      <th>9700</th>\n",
              "      <td>180</td>\n",
              "      <td>NaN</td>\n",
              "      <td>154.0</td>\n",
              "      <td>2439.525729</td>\n",
              "      <td>15.0</td>\n",
              "      <td>2004</td>\n",
              "      <td>USA</td>\n",
              "      <td>Gasoline</td>\n",
              "      <td>All-wheel drive</td>\n",
              "      <td>0.0</td>\n",
              "      <td>17.962326</td>\n",
              "    </tr>\n",
              "    <tr>\n",
              "      <th>9701</th>\n",
              "      <td>220</td>\n",
              "      <td>2.0</td>\n",
              "      <td>138.0</td>\n",
              "      <td>2583.471318</td>\n",
              "      <td>15.1</td>\n",
              "      <td>2008</td>\n",
              "      <td>USA</td>\n",
              "      <td>Diesel</td>\n",
              "      <td>All-wheel drive</td>\n",
              "      <td>-1.0</td>\n",
              "      <td>17.186587</td>\n",
              "    </tr>\n",
              "    <tr>\n",
              "      <th>9702</th>\n",
              "      <td>230</td>\n",
              "      <td>4.0</td>\n",
              "      <td>177.0</td>\n",
              "      <td>2905.527390</td>\n",
              "      <td>19.4</td>\n",
              "      <td>2011</td>\n",
              "      <td>USA</td>\n",
              "      <td>Diesel</td>\n",
              "      <td>Front-wheel drive</td>\n",
              "      <td>1.0</td>\n",
              "      <td>15.331551</td>\n",
              "    </tr>\n",
              "    <tr>\n",
              "      <th>9703</th>\n",
              "      <td>270</td>\n",
              "      <td>3.0</td>\n",
              "      <td>140.0</td>\n",
              "      <td>2908.043477</td>\n",
              "      <td>14.7</td>\n",
              "      <td>2005</td>\n",
              "      <td>Asia</td>\n",
              "      <td>Diesel</td>\n",
              "      <td>All-wheel drive</td>\n",
              "      <td>-1.0</td>\n",
              "      <td>14.884467</td>\n",
              "    </tr>\n",
              "  </tbody>\n",
              "</table>\n",
              "<p>9704 rows × 11 columns</p>\n",
              "</div>\n",
              "    <div class=\"colab-df-buttons\">\n",
              "\n",
              "  <div class=\"colab-df-container\">\n",
              "    <button class=\"colab-df-convert\" onclick=\"convertToInteractive('df-9370ba2f-f7a0-49e7-bc4d-6b0e386569c1')\"\n",
              "            title=\"Convert this dataframe to an interactive table.\"\n",
              "            style=\"display:none;\">\n",
              "\n",
              "  <svg xmlns=\"http://www.w3.org/2000/svg\" height=\"24px\" viewBox=\"0 -960 960 960\">\n",
              "    <path d=\"M120-120v-720h720v720H120Zm60-500h600v-160H180v160Zm220 220h160v-160H400v160Zm0 220h160v-160H400v160ZM180-400h160v-160H180v160Zm440 0h160v-160H620v160ZM180-180h160v-160H180v160Zm440 0h160v-160H620v160Z\"/>\n",
              "  </svg>\n",
              "    </button>\n",
              "\n",
              "  <style>\n",
              "    .colab-df-container {\n",
              "      display:flex;\n",
              "      gap: 12px;\n",
              "    }\n",
              "\n",
              "    .colab-df-convert {\n",
              "      background-color: #E8F0FE;\n",
              "      border: none;\n",
              "      border-radius: 50%;\n",
              "      cursor: pointer;\n",
              "      display: none;\n",
              "      fill: #1967D2;\n",
              "      height: 32px;\n",
              "      padding: 0 0 0 0;\n",
              "      width: 32px;\n",
              "    }\n",
              "\n",
              "    .colab-df-convert:hover {\n",
              "      background-color: #E2EBFA;\n",
              "      box-shadow: 0px 1px 2px rgba(60, 64, 67, 0.3), 0px 1px 3px 1px rgba(60, 64, 67, 0.15);\n",
              "      fill: #174EA6;\n",
              "    }\n",
              "\n",
              "    .colab-df-buttons div {\n",
              "      margin-bottom: 4px;\n",
              "    }\n",
              "\n",
              "    [theme=dark] .colab-df-convert {\n",
              "      background-color: #3B4455;\n",
              "      fill: #D2E3FC;\n",
              "    }\n",
              "\n",
              "    [theme=dark] .colab-df-convert:hover {\n",
              "      background-color: #434B5C;\n",
              "      box-shadow: 0px 1px 3px 1px rgba(0, 0, 0, 0.15);\n",
              "      filter: drop-shadow(0px 1px 2px rgba(0, 0, 0, 0.3));\n",
              "      fill: #FFFFFF;\n",
              "    }\n",
              "  </style>\n",
              "\n",
              "    <script>\n",
              "      const buttonEl =\n",
              "        document.querySelector('#df-9370ba2f-f7a0-49e7-bc4d-6b0e386569c1 button.colab-df-convert');\n",
              "      buttonEl.style.display =\n",
              "        google.colab.kernel.accessAllowed ? 'block' : 'none';\n",
              "\n",
              "      async function convertToInteractive(key) {\n",
              "        const element = document.querySelector('#df-9370ba2f-f7a0-49e7-bc4d-6b0e386569c1');\n",
              "        const dataTable =\n",
              "          await google.colab.kernel.invokeFunction('convertToInteractive',\n",
              "                                                    [key], {});\n",
              "        if (!dataTable) return;\n",
              "\n",
              "        const docLinkHtml = 'Like what you see? Visit the ' +\n",
              "          '<a target=\"_blank\" href=https://colab.research.google.com/notebooks/data_table.ipynb>data table notebook</a>'\n",
              "          + ' to learn more about interactive tables.';\n",
              "        element.innerHTML = '';\n",
              "        dataTable['output_type'] = 'display_data';\n",
              "        await google.colab.output.renderOutput(dataTable, element);\n",
              "        const docLink = document.createElement('div');\n",
              "        docLink.innerHTML = docLinkHtml;\n",
              "        element.appendChild(docLink);\n",
              "      }\n",
              "    </script>\n",
              "  </div>\n",
              "\n",
              "\n",
              "    <div id=\"df-b361e325-a6eb-4441-b132-fc969ec62947\">\n",
              "      <button class=\"colab-df-quickchart\" onclick=\"quickchart('df-b361e325-a6eb-4441-b132-fc969ec62947')\"\n",
              "                title=\"Suggest charts\"\n",
              "                style=\"display:none;\">\n",
              "\n",
              "<svg xmlns=\"http://www.w3.org/2000/svg\" height=\"24px\"viewBox=\"0 0 24 24\"\n",
              "     width=\"24px\">\n",
              "    <g>\n",
              "        <path d=\"M19 3H5c-1.1 0-2 .9-2 2v14c0 1.1.9 2 2 2h14c1.1 0 2-.9 2-2V5c0-1.1-.9-2-2-2zM9 17H7v-7h2v7zm4 0h-2V7h2v10zm4 0h-2v-4h2v4z\"/>\n",
              "    </g>\n",
              "</svg>\n",
              "      </button>\n",
              "\n",
              "<style>\n",
              "  .colab-df-quickchart {\n",
              "      --bg-color: #E8F0FE;\n",
              "      --fill-color: #1967D2;\n",
              "      --hover-bg-color: #E2EBFA;\n",
              "      --hover-fill-color: #174EA6;\n",
              "      --disabled-fill-color: #AAA;\n",
              "      --disabled-bg-color: #DDD;\n",
              "  }\n",
              "\n",
              "  [theme=dark] .colab-df-quickchart {\n",
              "      --bg-color: #3B4455;\n",
              "      --fill-color: #D2E3FC;\n",
              "      --hover-bg-color: #434B5C;\n",
              "      --hover-fill-color: #FFFFFF;\n",
              "      --disabled-bg-color: #3B4455;\n",
              "      --disabled-fill-color: #666;\n",
              "  }\n",
              "\n",
              "  .colab-df-quickchart {\n",
              "    background-color: var(--bg-color);\n",
              "    border: none;\n",
              "    border-radius: 50%;\n",
              "    cursor: pointer;\n",
              "    display: none;\n",
              "    fill: var(--fill-color);\n",
              "    height: 32px;\n",
              "    padding: 0;\n",
              "    width: 32px;\n",
              "  }\n",
              "\n",
              "  .colab-df-quickchart:hover {\n",
              "    background-color: var(--hover-bg-color);\n",
              "    box-shadow: 0 1px 2px rgba(60, 64, 67, 0.3), 0 1px 3px 1px rgba(60, 64, 67, 0.15);\n",
              "    fill: var(--button-hover-fill-color);\n",
              "  }\n",
              "\n",
              "  .colab-df-quickchart-complete:disabled,\n",
              "  .colab-df-quickchart-complete:disabled:hover {\n",
              "    background-color: var(--disabled-bg-color);\n",
              "    fill: var(--disabled-fill-color);\n",
              "    box-shadow: none;\n",
              "  }\n",
              "\n",
              "  .colab-df-spinner {\n",
              "    border: 2px solid var(--fill-color);\n",
              "    border-color: transparent;\n",
              "    border-bottom-color: var(--fill-color);\n",
              "    animation:\n",
              "      spin 1s steps(1) infinite;\n",
              "  }\n",
              "\n",
              "  @keyframes spin {\n",
              "    0% {\n",
              "      border-color: transparent;\n",
              "      border-bottom-color: var(--fill-color);\n",
              "      border-left-color: var(--fill-color);\n",
              "    }\n",
              "    20% {\n",
              "      border-color: transparent;\n",
              "      border-left-color: var(--fill-color);\n",
              "      border-top-color: var(--fill-color);\n",
              "    }\n",
              "    30% {\n",
              "      border-color: transparent;\n",
              "      border-left-color: var(--fill-color);\n",
              "      border-top-color: var(--fill-color);\n",
              "      border-right-color: var(--fill-color);\n",
              "    }\n",
              "    40% {\n",
              "      border-color: transparent;\n",
              "      border-right-color: var(--fill-color);\n",
              "      border-top-color: var(--fill-color);\n",
              "    }\n",
              "    60% {\n",
              "      border-color: transparent;\n",
              "      border-right-color: var(--fill-color);\n",
              "    }\n",
              "    80% {\n",
              "      border-color: transparent;\n",
              "      border-right-color: var(--fill-color);\n",
              "      border-bottom-color: var(--fill-color);\n",
              "    }\n",
              "    90% {\n",
              "      border-color: transparent;\n",
              "      border-bottom-color: var(--fill-color);\n",
              "    }\n",
              "  }\n",
              "</style>\n",
              "\n",
              "      <script>\n",
              "        async function quickchart(key) {\n",
              "          const quickchartButtonEl =\n",
              "            document.querySelector('#' + key + ' button');\n",
              "          quickchartButtonEl.disabled = true;  // To prevent multiple clicks.\n",
              "          quickchartButtonEl.classList.add('colab-df-spinner');\n",
              "          try {\n",
              "            const charts = await google.colab.kernel.invokeFunction(\n",
              "                'suggestCharts', [key], {});\n",
              "          } catch (error) {\n",
              "            console.error('Error during call to suggestCharts:', error);\n",
              "          }\n",
              "          quickchartButtonEl.classList.remove('colab-df-spinner');\n",
              "          quickchartButtonEl.classList.add('colab-df-quickchart-complete');\n",
              "        }\n",
              "        (() => {\n",
              "          let quickchartButtonEl =\n",
              "            document.querySelector('#df-b361e325-a6eb-4441-b132-fc969ec62947 button');\n",
              "          quickchartButtonEl.style.display =\n",
              "            google.colab.kernel.accessAllowed ? 'block' : 'none';\n",
              "        })();\n",
              "      </script>\n",
              "    </div>\n",
              "\n",
              "  <div id=\"id_d5b3cf29-ff55-4ed8-8360-6786eb21933e\">\n",
              "    <style>\n",
              "      .colab-df-generate {\n",
              "        background-color: #E8F0FE;\n",
              "        border: none;\n",
              "        border-radius: 50%;\n",
              "        cursor: pointer;\n",
              "        display: none;\n",
              "        fill: #1967D2;\n",
              "        height: 32px;\n",
              "        padding: 0 0 0 0;\n",
              "        width: 32px;\n",
              "      }\n",
              "\n",
              "      .colab-df-generate:hover {\n",
              "        background-color: #E2EBFA;\n",
              "        box-shadow: 0px 1px 2px rgba(60, 64, 67, 0.3), 0px 1px 3px 1px rgba(60, 64, 67, 0.15);\n",
              "        fill: #174EA6;\n",
              "      }\n",
              "\n",
              "      [theme=dark] .colab-df-generate {\n",
              "        background-color: #3B4455;\n",
              "        fill: #D2E3FC;\n",
              "      }\n",
              "\n",
              "      [theme=dark] .colab-df-generate:hover {\n",
              "        background-color: #434B5C;\n",
              "        box-shadow: 0px 1px 3px 1px rgba(0, 0, 0, 0.15);\n",
              "        filter: drop-shadow(0px 1px 2px rgba(0, 0, 0, 0.3));\n",
              "        fill: #FFFFFF;\n",
              "      }\n",
              "    </style>\n",
              "    <button class=\"colab-df-generate\" onclick=\"generateWithVariable('df')\"\n",
              "            title=\"Generate code using this dataframe.\"\n",
              "            style=\"display:none;\">\n",
              "\n",
              "  <svg xmlns=\"http://www.w3.org/2000/svg\" height=\"24px\"viewBox=\"0 0 24 24\"\n",
              "       width=\"24px\">\n",
              "    <path d=\"M7,19H8.4L18.45,9,17,7.55,7,17.6ZM5,21V16.75L18.45,3.32a2,2,0,0,1,2.83,0l1.4,1.43a1.91,1.91,0,0,1,.58,1.4,1.91,1.91,0,0,1-.58,1.4L9.25,21ZM18.45,9,17,7.55Zm-12,3A5.31,5.31,0,0,0,4.9,8.1,5.31,5.31,0,0,0,1,6.5,5.31,5.31,0,0,0,4.9,4.9,5.31,5.31,0,0,0,6.5,1,5.31,5.31,0,0,0,8.1,4.9,5.31,5.31,0,0,0,12,6.5,5.46,5.46,0,0,0,6.5,12Z\"/>\n",
              "  </svg>\n",
              "    </button>\n",
              "    <script>\n",
              "      (() => {\n",
              "      const buttonEl =\n",
              "        document.querySelector('#id_d5b3cf29-ff55-4ed8-8360-6786eb21933e button.colab-df-generate');\n",
              "      buttonEl.style.display =\n",
              "        google.colab.kernel.accessAllowed ? 'block' : 'none';\n",
              "\n",
              "      buttonEl.onclick = () => {\n",
              "        google.colab.notebook.generateWithVariable('df');\n",
              "      }\n",
              "      })();\n",
              "    </script>\n",
              "  </div>\n",
              "\n",
              "    </div>\n",
              "  </div>\n"
            ],
            "application/vnd.google.colaboratory.intrinsic+json": {
              "type": "dataframe",
              "variable_name": "df",
              "summary": "{\n  \"name\": \"df\",\n  \"rows\": 9704,\n  \"fields\": [\n    {\n      \"column\": \"engine_displacement\",\n      \"properties\": {\n        \"dtype\": \"number\",\n        \"std\": 49,\n        \"min\": 10,\n        \"max\": 380,\n        \"num_unique_values\": 36,\n        \"samples\": [\n          30,\n          260,\n          90\n        ],\n        \"semantic_type\": \"\",\n        \"description\": \"\"\n      }\n    },\n    {\n      \"column\": \"num_cylinders\",\n      \"properties\": {\n        \"dtype\": \"number\",\n        \"std\": 1.9993225843926064,\n        \"min\": 0.0,\n        \"max\": 13.0,\n        \"num_unique_values\": 14,\n        \"samples\": [\n          9.0,\n          10.0,\n          3.0\n        ],\n        \"semantic_type\": \"\",\n        \"description\": \"\"\n      }\n    },\n    {\n      \"column\": \"horsepower\",\n      \"properties\": {\n        \"dtype\": \"number\",\n        \"std\": 29.879555200339446,\n        \"min\": 37.0,\n        \"max\": 271.0,\n        \"num_unique_values\": 192,\n        \"samples\": [\n          128.0,\n          82.0,\n          167.0\n        ],\n        \"semantic_type\": \"\",\n        \"description\": \"\"\n      }\n    },\n    {\n      \"column\": \"vehicle_weight\",\n      \"properties\": {\n        \"dtype\": \"number\",\n        \"std\": 497.8948600311838,\n        \"min\": 952.6817606436496,\n        \"max\": 4739.077089392099,\n        \"num_unique_values\": 9704,\n        \"samples\": [\n          2535.8875912388694,\n          2741.1704843893167,\n          2471.8802372627765\n        ],\n        \"semantic_type\": \"\",\n        \"description\": \"\"\n      }\n    },\n    {\n      \"column\": \"acceleration\",\n      \"properties\": {\n        \"dtype\": \"number\",\n        \"std\": 2.510339293937879,\n        \"min\": 6.0,\n        \"max\": 24.3,\n        \"num_unique_values\": 162,\n        \"samples\": [\n          7.3,\n          20.3,\n          19.8\n        ],\n        \"semantic_type\": \"\",\n        \"description\": \"\"\n      }\n    },\n    {\n      \"column\": \"model_year\",\n      \"properties\": {\n        \"dtype\": \"number\",\n        \"std\": 6,\n        \"min\": 2000,\n        \"max\": 2023,\n        \"num_unique_values\": 24,\n        \"samples\": [\n          2005,\n          2002,\n          2003\n        ],\n        \"semantic_type\": \"\",\n        \"description\": \"\"\n      }\n    },\n    {\n      \"column\": \"origin\",\n      \"properties\": {\n        \"dtype\": \"category\",\n        \"num_unique_values\": 3,\n        \"samples\": [\n          \"Europe\",\n          \"USA\",\n          \"Asia\"\n        ],\n        \"semantic_type\": \"\",\n        \"description\": \"\"\n      }\n    },\n    {\n      \"column\": \"fuel_type\",\n      \"properties\": {\n        \"dtype\": \"category\",\n        \"num_unique_values\": 2,\n        \"samples\": [\n          \"Diesel\",\n          \"Gasoline\"\n        ],\n        \"semantic_type\": \"\",\n        \"description\": \"\"\n      }\n    },\n    {\n      \"column\": \"drivetrain\",\n      \"properties\": {\n        \"dtype\": \"category\",\n        \"num_unique_values\": 2,\n        \"samples\": [\n          \"Front-wheel drive\",\n          \"All-wheel drive\"\n        ],\n        \"semantic_type\": \"\",\n        \"description\": \"\"\n      }\n    },\n    {\n      \"column\": \"num_doors\",\n      \"properties\": {\n        \"dtype\": \"number\",\n        \"std\": 1.048162111427726,\n        \"min\": -4.0,\n        \"max\": 4.0,\n        \"num_unique_values\": 9,\n        \"samples\": [\n          -4.0,\n          2.0\n        ],\n        \"semantic_type\": \"\",\n        \"description\": \"\"\n      }\n    },\n    {\n      \"column\": \"fuel_efficiency_mpg\",\n      \"properties\": {\n        \"dtype\": \"number\",\n        \"std\": 2.5564677028974288,\n        \"min\": 6.200970533392815,\n        \"max\": 25.96722204888372,\n        \"num_unique_values\": 9704,\n        \"samples\": [\n          16.642943419221385,\n          16.298377150953442\n        ],\n        \"semantic_type\": \"\",\n        \"description\": \"\"\n      }\n    }\n  ]\n}"
            }
          },
          "metadata": {},
          "execution_count": 5
        }
      ]
    },
    {
      "cell_type": "code",
      "source": [
        "df.columns = df.columns.str.lower().str.replace(' ', '_')"
      ],
      "metadata": {
        "id": "02rwsyXD1Ywq"
      },
      "execution_count": 6,
      "outputs": []
    },
    {
      "cell_type": "code",
      "source": [
        "strings = list(df.dtypes[df.dtypes == 'object'].index)\n",
        "strings"
      ],
      "metadata": {
        "colab": {
          "base_uri": "https://localhost:8080/"
        },
        "id": "L2LfKmOc1xiO",
        "outputId": "ff1696ba-6e3f-4580-e7ac-fe341c1d4cba"
      },
      "execution_count": 7,
      "outputs": [
        {
          "output_type": "execute_result",
          "data": {
            "text/plain": [
              "['origin', 'fuel_type', 'drivetrain']"
            ]
          },
          "metadata": {},
          "execution_count": 7
        }
      ]
    },
    {
      "cell_type": "code",
      "source": [
        "for col in strings:\n",
        "    df[col] = df[col].str.lower().str.replace(' ', '_')"
      ],
      "metadata": {
        "id": "gCDTvk9811Zj"
      },
      "execution_count": 8,
      "outputs": []
    },
    {
      "cell_type": "code",
      "source": [
        "df.dtypes"
      ],
      "metadata": {
        "colab": {
          "base_uri": "https://localhost:8080/",
          "height": 429
        },
        "id": "OXVGt8FB16je",
        "outputId": "27a9f393-242a-4924-c9ba-4fc5ec09a2e9"
      },
      "execution_count": 9,
      "outputs": [
        {
          "output_type": "execute_result",
          "data": {
            "text/plain": [
              "engine_displacement      int64\n",
              "num_cylinders          float64\n",
              "horsepower             float64\n",
              "vehicle_weight         float64\n",
              "acceleration           float64\n",
              "model_year               int64\n",
              "origin                  object\n",
              "fuel_type               object\n",
              "drivetrain              object\n",
              "num_doors              float64\n",
              "fuel_efficiency_mpg    float64\n",
              "dtype: object"
            ],
            "text/html": [
              "<div>\n",
              "<style scoped>\n",
              "    .dataframe tbody tr th:only-of-type {\n",
              "        vertical-align: middle;\n",
              "    }\n",
              "\n",
              "    .dataframe tbody tr th {\n",
              "        vertical-align: top;\n",
              "    }\n",
              "\n",
              "    .dataframe thead th {\n",
              "        text-align: right;\n",
              "    }\n",
              "</style>\n",
              "<table border=\"1\" class=\"dataframe\">\n",
              "  <thead>\n",
              "    <tr style=\"text-align: right;\">\n",
              "      <th></th>\n",
              "      <th>0</th>\n",
              "    </tr>\n",
              "  </thead>\n",
              "  <tbody>\n",
              "    <tr>\n",
              "      <th>engine_displacement</th>\n",
              "      <td>int64</td>\n",
              "    </tr>\n",
              "    <tr>\n",
              "      <th>num_cylinders</th>\n",
              "      <td>float64</td>\n",
              "    </tr>\n",
              "    <tr>\n",
              "      <th>horsepower</th>\n",
              "      <td>float64</td>\n",
              "    </tr>\n",
              "    <tr>\n",
              "      <th>vehicle_weight</th>\n",
              "      <td>float64</td>\n",
              "    </tr>\n",
              "    <tr>\n",
              "      <th>acceleration</th>\n",
              "      <td>float64</td>\n",
              "    </tr>\n",
              "    <tr>\n",
              "      <th>model_year</th>\n",
              "      <td>int64</td>\n",
              "    </tr>\n",
              "    <tr>\n",
              "      <th>origin</th>\n",
              "      <td>object</td>\n",
              "    </tr>\n",
              "    <tr>\n",
              "      <th>fuel_type</th>\n",
              "      <td>object</td>\n",
              "    </tr>\n",
              "    <tr>\n",
              "      <th>drivetrain</th>\n",
              "      <td>object</td>\n",
              "    </tr>\n",
              "    <tr>\n",
              "      <th>num_doors</th>\n",
              "      <td>float64</td>\n",
              "    </tr>\n",
              "    <tr>\n",
              "      <th>fuel_efficiency_mpg</th>\n",
              "      <td>float64</td>\n",
              "    </tr>\n",
              "  </tbody>\n",
              "</table>\n",
              "</div><br><label><b>dtype:</b> object</label>"
            ]
          },
          "metadata": {},
          "execution_count": 9
        }
      ]
    },
    {
      "cell_type": "markdown",
      "source": [
        "2.3 Exploratory data analysis"
      ],
      "metadata": {
        "id": "Y-DSM3JV19BV"
      }
    },
    {
      "cell_type": "code",
      "source": [
        "for col in df.columns:\n",
        "    print(col)\n",
        "    print(df[col].unique()[:5])\n",
        "    print(df[col].nunique())\n",
        "    print()"
      ],
      "metadata": {
        "colab": {
          "base_uri": "https://localhost:8080/"
        },
        "id": "_nffpQaT2JRs",
        "outputId": "fa9df180-c201-4713-cfaa-f716c24ef95f"
      },
      "execution_count": 10,
      "outputs": [
        {
          "output_type": "stream",
          "name": "stdout",
          "text": [
            "engine_displacement\n",
            "[170 130 220 210 190]\n",
            "36\n",
            "\n",
            "num_cylinders\n",
            "[ 3.  5. nan  4.  1.]\n",
            "14\n",
            "\n",
            "horsepower\n",
            "[159.  97.  78.  nan 140.]\n",
            "192\n",
            "\n",
            "vehicle_weight\n",
            "[3413.43375861 3149.66493422 3079.03899737 2542.39240183 3460.87098999]\n",
            "9704\n",
            "\n",
            "acceleration\n",
            "[17.7 17.8 15.1 20.2 14.4]\n",
            "162\n",
            "\n",
            "model_year\n",
            "[2003 2007 2018 2009 2008]\n",
            "24\n",
            "\n",
            "origin\n",
            "['europe' 'usa' 'asia']\n",
            "3\n",
            "\n",
            "fuel_type\n",
            "['gasoline' 'diesel']\n",
            "2\n",
            "\n",
            "drivetrain\n",
            "['all-wheel_drive' 'front-wheel_drive']\n",
            "2\n",
            "\n",
            "num_doors\n",
            "[ 0.  2. -1.  1. nan]\n",
            "9\n",
            "\n",
            "fuel_efficiency_mpg\n",
            "[13.23172891 13.68821744 14.246341   16.9127356  12.48836912]\n",
            "9704\n",
            "\n"
          ]
        }
      ]
    },
    {
      "cell_type": "code",
      "source": [
        "df = df[['engine_displacement','horsepower','vehicle_weight','model_year','fuel_efficiency_mpg']]\n",
        "df"
      ],
      "metadata": {
        "colab": {
          "base_uri": "https://localhost:8080/",
          "height": 424
        },
        "id": "IKwsWsxo3aAA",
        "outputId": "ed34fc69-eb8d-4ab7-c86c-b82fc536febb"
      },
      "execution_count": 14,
      "outputs": [
        {
          "output_type": "execute_result",
          "data": {
            "text/plain": [
              "      engine_displacement  horsepower  vehicle_weight  model_year  \\\n",
              "0                     170       159.0     3413.433759        2003   \n",
              "1                     130        97.0     3149.664934        2007   \n",
              "2                     170        78.0     3079.038997        2018   \n",
              "3                     220         NaN     2542.392402        2009   \n",
              "4                     210       140.0     3460.870990        2009   \n",
              "...                   ...         ...             ...         ...   \n",
              "9699                  140       164.0     2981.107371        2013   \n",
              "9700                  180       154.0     2439.525729        2004   \n",
              "9701                  220       138.0     2583.471318        2008   \n",
              "9702                  230       177.0     2905.527390        2011   \n",
              "9703                  270       140.0     2908.043477        2005   \n",
              "\n",
              "      fuel_efficiency_mpg  \n",
              "0               13.231729  \n",
              "1               13.688217  \n",
              "2               14.246341  \n",
              "3               16.912736  \n",
              "4               12.488369  \n",
              "...                   ...  \n",
              "9699            15.101802  \n",
              "9700            17.962326  \n",
              "9701            17.186587  \n",
              "9702            15.331551  \n",
              "9703            14.884467  \n",
              "\n",
              "[9704 rows x 5 columns]"
            ],
            "text/html": [
              "\n",
              "  <div id=\"df-4470464d-7e9b-45d5-85c2-7c979b03fc60\" class=\"colab-df-container\">\n",
              "    <div>\n",
              "<style scoped>\n",
              "    .dataframe tbody tr th:only-of-type {\n",
              "        vertical-align: middle;\n",
              "    }\n",
              "\n",
              "    .dataframe tbody tr th {\n",
              "        vertical-align: top;\n",
              "    }\n",
              "\n",
              "    .dataframe thead th {\n",
              "        text-align: right;\n",
              "    }\n",
              "</style>\n",
              "<table border=\"1\" class=\"dataframe\">\n",
              "  <thead>\n",
              "    <tr style=\"text-align: right;\">\n",
              "      <th></th>\n",
              "      <th>engine_displacement</th>\n",
              "      <th>horsepower</th>\n",
              "      <th>vehicle_weight</th>\n",
              "      <th>model_year</th>\n",
              "      <th>fuel_efficiency_mpg</th>\n",
              "    </tr>\n",
              "  </thead>\n",
              "  <tbody>\n",
              "    <tr>\n",
              "      <th>0</th>\n",
              "      <td>170</td>\n",
              "      <td>159.0</td>\n",
              "      <td>3413.433759</td>\n",
              "      <td>2003</td>\n",
              "      <td>13.231729</td>\n",
              "    </tr>\n",
              "    <tr>\n",
              "      <th>1</th>\n",
              "      <td>130</td>\n",
              "      <td>97.0</td>\n",
              "      <td>3149.664934</td>\n",
              "      <td>2007</td>\n",
              "      <td>13.688217</td>\n",
              "    </tr>\n",
              "    <tr>\n",
              "      <th>2</th>\n",
              "      <td>170</td>\n",
              "      <td>78.0</td>\n",
              "      <td>3079.038997</td>\n",
              "      <td>2018</td>\n",
              "      <td>14.246341</td>\n",
              "    </tr>\n",
              "    <tr>\n",
              "      <th>3</th>\n",
              "      <td>220</td>\n",
              "      <td>NaN</td>\n",
              "      <td>2542.392402</td>\n",
              "      <td>2009</td>\n",
              "      <td>16.912736</td>\n",
              "    </tr>\n",
              "    <tr>\n",
              "      <th>4</th>\n",
              "      <td>210</td>\n",
              "      <td>140.0</td>\n",
              "      <td>3460.870990</td>\n",
              "      <td>2009</td>\n",
              "      <td>12.488369</td>\n",
              "    </tr>\n",
              "    <tr>\n",
              "      <th>...</th>\n",
              "      <td>...</td>\n",
              "      <td>...</td>\n",
              "      <td>...</td>\n",
              "      <td>...</td>\n",
              "      <td>...</td>\n",
              "    </tr>\n",
              "    <tr>\n",
              "      <th>9699</th>\n",
              "      <td>140</td>\n",
              "      <td>164.0</td>\n",
              "      <td>2981.107371</td>\n",
              "      <td>2013</td>\n",
              "      <td>15.101802</td>\n",
              "    </tr>\n",
              "    <tr>\n",
              "      <th>9700</th>\n",
              "      <td>180</td>\n",
              "      <td>154.0</td>\n",
              "      <td>2439.525729</td>\n",
              "      <td>2004</td>\n",
              "      <td>17.962326</td>\n",
              "    </tr>\n",
              "    <tr>\n",
              "      <th>9701</th>\n",
              "      <td>220</td>\n",
              "      <td>138.0</td>\n",
              "      <td>2583.471318</td>\n",
              "      <td>2008</td>\n",
              "      <td>17.186587</td>\n",
              "    </tr>\n",
              "    <tr>\n",
              "      <th>9702</th>\n",
              "      <td>230</td>\n",
              "      <td>177.0</td>\n",
              "      <td>2905.527390</td>\n",
              "      <td>2011</td>\n",
              "      <td>15.331551</td>\n",
              "    </tr>\n",
              "    <tr>\n",
              "      <th>9703</th>\n",
              "      <td>270</td>\n",
              "      <td>140.0</td>\n",
              "      <td>2908.043477</td>\n",
              "      <td>2005</td>\n",
              "      <td>14.884467</td>\n",
              "    </tr>\n",
              "  </tbody>\n",
              "</table>\n",
              "<p>9704 rows × 5 columns</p>\n",
              "</div>\n",
              "    <div class=\"colab-df-buttons\">\n",
              "\n",
              "  <div class=\"colab-df-container\">\n",
              "    <button class=\"colab-df-convert\" onclick=\"convertToInteractive('df-4470464d-7e9b-45d5-85c2-7c979b03fc60')\"\n",
              "            title=\"Convert this dataframe to an interactive table.\"\n",
              "            style=\"display:none;\">\n",
              "\n",
              "  <svg xmlns=\"http://www.w3.org/2000/svg\" height=\"24px\" viewBox=\"0 -960 960 960\">\n",
              "    <path d=\"M120-120v-720h720v720H120Zm60-500h600v-160H180v160Zm220 220h160v-160H400v160Zm0 220h160v-160H400v160ZM180-400h160v-160H180v160Zm440 0h160v-160H620v160ZM180-180h160v-160H180v160Zm440 0h160v-160H620v160Z\"/>\n",
              "  </svg>\n",
              "    </button>\n",
              "\n",
              "  <style>\n",
              "    .colab-df-container {\n",
              "      display:flex;\n",
              "      gap: 12px;\n",
              "    }\n",
              "\n",
              "    .colab-df-convert {\n",
              "      background-color: #E8F0FE;\n",
              "      border: none;\n",
              "      border-radius: 50%;\n",
              "      cursor: pointer;\n",
              "      display: none;\n",
              "      fill: #1967D2;\n",
              "      height: 32px;\n",
              "      padding: 0 0 0 0;\n",
              "      width: 32px;\n",
              "    }\n",
              "\n",
              "    .colab-df-convert:hover {\n",
              "      background-color: #E2EBFA;\n",
              "      box-shadow: 0px 1px 2px rgba(60, 64, 67, 0.3), 0px 1px 3px 1px rgba(60, 64, 67, 0.15);\n",
              "      fill: #174EA6;\n",
              "    }\n",
              "\n",
              "    .colab-df-buttons div {\n",
              "      margin-bottom: 4px;\n",
              "    }\n",
              "\n",
              "    [theme=dark] .colab-df-convert {\n",
              "      background-color: #3B4455;\n",
              "      fill: #D2E3FC;\n",
              "    }\n",
              "\n",
              "    [theme=dark] .colab-df-convert:hover {\n",
              "      background-color: #434B5C;\n",
              "      box-shadow: 0px 1px 3px 1px rgba(0, 0, 0, 0.15);\n",
              "      filter: drop-shadow(0px 1px 2px rgba(0, 0, 0, 0.3));\n",
              "      fill: #FFFFFF;\n",
              "    }\n",
              "  </style>\n",
              "\n",
              "    <script>\n",
              "      const buttonEl =\n",
              "        document.querySelector('#df-4470464d-7e9b-45d5-85c2-7c979b03fc60 button.colab-df-convert');\n",
              "      buttonEl.style.display =\n",
              "        google.colab.kernel.accessAllowed ? 'block' : 'none';\n",
              "\n",
              "      async function convertToInteractive(key) {\n",
              "        const element = document.querySelector('#df-4470464d-7e9b-45d5-85c2-7c979b03fc60');\n",
              "        const dataTable =\n",
              "          await google.colab.kernel.invokeFunction('convertToInteractive',\n",
              "                                                    [key], {});\n",
              "        if (!dataTable) return;\n",
              "\n",
              "        const docLinkHtml = 'Like what you see? Visit the ' +\n",
              "          '<a target=\"_blank\" href=https://colab.research.google.com/notebooks/data_table.ipynb>data table notebook</a>'\n",
              "          + ' to learn more about interactive tables.';\n",
              "        element.innerHTML = '';\n",
              "        dataTable['output_type'] = 'display_data';\n",
              "        await google.colab.output.renderOutput(dataTable, element);\n",
              "        const docLink = document.createElement('div');\n",
              "        docLink.innerHTML = docLinkHtml;\n",
              "        element.appendChild(docLink);\n",
              "      }\n",
              "    </script>\n",
              "  </div>\n",
              "\n",
              "\n",
              "    <div id=\"df-b91b8f99-161d-4d10-84fa-730ef56bfa6e\">\n",
              "      <button class=\"colab-df-quickchart\" onclick=\"quickchart('df-b91b8f99-161d-4d10-84fa-730ef56bfa6e')\"\n",
              "                title=\"Suggest charts\"\n",
              "                style=\"display:none;\">\n",
              "\n",
              "<svg xmlns=\"http://www.w3.org/2000/svg\" height=\"24px\"viewBox=\"0 0 24 24\"\n",
              "     width=\"24px\">\n",
              "    <g>\n",
              "        <path d=\"M19 3H5c-1.1 0-2 .9-2 2v14c0 1.1.9 2 2 2h14c1.1 0 2-.9 2-2V5c0-1.1-.9-2-2-2zM9 17H7v-7h2v7zm4 0h-2V7h2v10zm4 0h-2v-4h2v4z\"/>\n",
              "    </g>\n",
              "</svg>\n",
              "      </button>\n",
              "\n",
              "<style>\n",
              "  .colab-df-quickchart {\n",
              "      --bg-color: #E8F0FE;\n",
              "      --fill-color: #1967D2;\n",
              "      --hover-bg-color: #E2EBFA;\n",
              "      --hover-fill-color: #174EA6;\n",
              "      --disabled-fill-color: #AAA;\n",
              "      --disabled-bg-color: #DDD;\n",
              "  }\n",
              "\n",
              "  [theme=dark] .colab-df-quickchart {\n",
              "      --bg-color: #3B4455;\n",
              "      --fill-color: #D2E3FC;\n",
              "      --hover-bg-color: #434B5C;\n",
              "      --hover-fill-color: #FFFFFF;\n",
              "      --disabled-bg-color: #3B4455;\n",
              "      --disabled-fill-color: #666;\n",
              "  }\n",
              "\n",
              "  .colab-df-quickchart {\n",
              "    background-color: var(--bg-color);\n",
              "    border: none;\n",
              "    border-radius: 50%;\n",
              "    cursor: pointer;\n",
              "    display: none;\n",
              "    fill: var(--fill-color);\n",
              "    height: 32px;\n",
              "    padding: 0;\n",
              "    width: 32px;\n",
              "  }\n",
              "\n",
              "  .colab-df-quickchart:hover {\n",
              "    background-color: var(--hover-bg-color);\n",
              "    box-shadow: 0 1px 2px rgba(60, 64, 67, 0.3), 0 1px 3px 1px rgba(60, 64, 67, 0.15);\n",
              "    fill: var(--button-hover-fill-color);\n",
              "  }\n",
              "\n",
              "  .colab-df-quickchart-complete:disabled,\n",
              "  .colab-df-quickchart-complete:disabled:hover {\n",
              "    background-color: var(--disabled-bg-color);\n",
              "    fill: var(--disabled-fill-color);\n",
              "    box-shadow: none;\n",
              "  }\n",
              "\n",
              "  .colab-df-spinner {\n",
              "    border: 2px solid var(--fill-color);\n",
              "    border-color: transparent;\n",
              "    border-bottom-color: var(--fill-color);\n",
              "    animation:\n",
              "      spin 1s steps(1) infinite;\n",
              "  }\n",
              "\n",
              "  @keyframes spin {\n",
              "    0% {\n",
              "      border-color: transparent;\n",
              "      border-bottom-color: var(--fill-color);\n",
              "      border-left-color: var(--fill-color);\n",
              "    }\n",
              "    20% {\n",
              "      border-color: transparent;\n",
              "      border-left-color: var(--fill-color);\n",
              "      border-top-color: var(--fill-color);\n",
              "    }\n",
              "    30% {\n",
              "      border-color: transparent;\n",
              "      border-left-color: var(--fill-color);\n",
              "      border-top-color: var(--fill-color);\n",
              "      border-right-color: var(--fill-color);\n",
              "    }\n",
              "    40% {\n",
              "      border-color: transparent;\n",
              "      border-right-color: var(--fill-color);\n",
              "      border-top-color: var(--fill-color);\n",
              "    }\n",
              "    60% {\n",
              "      border-color: transparent;\n",
              "      border-right-color: var(--fill-color);\n",
              "    }\n",
              "    80% {\n",
              "      border-color: transparent;\n",
              "      border-right-color: var(--fill-color);\n",
              "      border-bottom-color: var(--fill-color);\n",
              "    }\n",
              "    90% {\n",
              "      border-color: transparent;\n",
              "      border-bottom-color: var(--fill-color);\n",
              "    }\n",
              "  }\n",
              "</style>\n",
              "\n",
              "      <script>\n",
              "        async function quickchart(key) {\n",
              "          const quickchartButtonEl =\n",
              "            document.querySelector('#' + key + ' button');\n",
              "          quickchartButtonEl.disabled = true;  // To prevent multiple clicks.\n",
              "          quickchartButtonEl.classList.add('colab-df-spinner');\n",
              "          try {\n",
              "            const charts = await google.colab.kernel.invokeFunction(\n",
              "                'suggestCharts', [key], {});\n",
              "          } catch (error) {\n",
              "            console.error('Error during call to suggestCharts:', error);\n",
              "          }\n",
              "          quickchartButtonEl.classList.remove('colab-df-spinner');\n",
              "          quickchartButtonEl.classList.add('colab-df-quickchart-complete');\n",
              "        }\n",
              "        (() => {\n",
              "          let quickchartButtonEl =\n",
              "            document.querySelector('#df-b91b8f99-161d-4d10-84fa-730ef56bfa6e button');\n",
              "          quickchartButtonEl.style.display =\n",
              "            google.colab.kernel.accessAllowed ? 'block' : 'none';\n",
              "        })();\n",
              "      </script>\n",
              "    </div>\n",
              "\n",
              "  <div id=\"id_341304b2-42c9-419b-8468-23ee82533192\">\n",
              "    <style>\n",
              "      .colab-df-generate {\n",
              "        background-color: #E8F0FE;\n",
              "        border: none;\n",
              "        border-radius: 50%;\n",
              "        cursor: pointer;\n",
              "        display: none;\n",
              "        fill: #1967D2;\n",
              "        height: 32px;\n",
              "        padding: 0 0 0 0;\n",
              "        width: 32px;\n",
              "      }\n",
              "\n",
              "      .colab-df-generate:hover {\n",
              "        background-color: #E2EBFA;\n",
              "        box-shadow: 0px 1px 2px rgba(60, 64, 67, 0.3), 0px 1px 3px 1px rgba(60, 64, 67, 0.15);\n",
              "        fill: #174EA6;\n",
              "      }\n",
              "\n",
              "      [theme=dark] .colab-df-generate {\n",
              "        background-color: #3B4455;\n",
              "        fill: #D2E3FC;\n",
              "      }\n",
              "\n",
              "      [theme=dark] .colab-df-generate:hover {\n",
              "        background-color: #434B5C;\n",
              "        box-shadow: 0px 1px 3px 1px rgba(0, 0, 0, 0.15);\n",
              "        filter: drop-shadow(0px 1px 2px rgba(0, 0, 0, 0.3));\n",
              "        fill: #FFFFFF;\n",
              "      }\n",
              "    </style>\n",
              "    <button class=\"colab-df-generate\" onclick=\"generateWithVariable('df')\"\n",
              "            title=\"Generate code using this dataframe.\"\n",
              "            style=\"display:none;\">\n",
              "\n",
              "  <svg xmlns=\"http://www.w3.org/2000/svg\" height=\"24px\"viewBox=\"0 0 24 24\"\n",
              "       width=\"24px\">\n",
              "    <path d=\"M7,19H8.4L18.45,9,17,7.55,7,17.6ZM5,21V16.75L18.45,3.32a2,2,0,0,1,2.83,0l1.4,1.43a1.91,1.91,0,0,1,.58,1.4,1.91,1.91,0,0,1-.58,1.4L9.25,21ZM18.45,9,17,7.55Zm-12,3A5.31,5.31,0,0,0,4.9,8.1,5.31,5.31,0,0,0,1,6.5,5.31,5.31,0,0,0,4.9,4.9,5.31,5.31,0,0,0,6.5,1,5.31,5.31,0,0,0,8.1,4.9,5.31,5.31,0,0,0,12,6.5,5.46,5.46,0,0,0,6.5,12Z\"/>\n",
              "  </svg>\n",
              "    </button>\n",
              "    <script>\n",
              "      (() => {\n",
              "      const buttonEl =\n",
              "        document.querySelector('#id_341304b2-42c9-419b-8468-23ee82533192 button.colab-df-generate');\n",
              "      buttonEl.style.display =\n",
              "        google.colab.kernel.accessAllowed ? 'block' : 'none';\n",
              "\n",
              "      buttonEl.onclick = () => {\n",
              "        google.colab.notebook.generateWithVariable('df');\n",
              "      }\n",
              "      })();\n",
              "    </script>\n",
              "  </div>\n",
              "\n",
              "    </div>\n",
              "  </div>\n"
            ],
            "application/vnd.google.colaboratory.intrinsic+json": {
              "type": "dataframe",
              "variable_name": "df",
              "summary": "{\n  \"name\": \"df\",\n  \"rows\": 9704,\n  \"fields\": [\n    {\n      \"column\": \"engine_displacement\",\n      \"properties\": {\n        \"dtype\": \"number\",\n        \"std\": 49,\n        \"min\": 10,\n        \"max\": 380,\n        \"num_unique_values\": 36,\n        \"samples\": [\n          30,\n          260,\n          90\n        ],\n        \"semantic_type\": \"\",\n        \"description\": \"\"\n      }\n    },\n    {\n      \"column\": \"horsepower\",\n      \"properties\": {\n        \"dtype\": \"number\",\n        \"std\": 29.879555200339446,\n        \"min\": 37.0,\n        \"max\": 271.0,\n        \"num_unique_values\": 192,\n        \"samples\": [\n          128.0,\n          82.0,\n          167.0\n        ],\n        \"semantic_type\": \"\",\n        \"description\": \"\"\n      }\n    },\n    {\n      \"column\": \"vehicle_weight\",\n      \"properties\": {\n        \"dtype\": \"number\",\n        \"std\": 497.8948600311838,\n        \"min\": 952.6817606436496,\n        \"max\": 4739.077089392099,\n        \"num_unique_values\": 9704,\n        \"samples\": [\n          2535.8875912388694,\n          2741.1704843893167,\n          2471.8802372627765\n        ],\n        \"semantic_type\": \"\",\n        \"description\": \"\"\n      }\n    },\n    {\n      \"column\": \"model_year\",\n      \"properties\": {\n        \"dtype\": \"number\",\n        \"std\": 6,\n        \"min\": 2000,\n        \"max\": 2023,\n        \"num_unique_values\": 24,\n        \"samples\": [\n          2005,\n          2002,\n          2003\n        ],\n        \"semantic_type\": \"\",\n        \"description\": \"\"\n      }\n    },\n    {\n      \"column\": \"fuel_efficiency_mpg\",\n      \"properties\": {\n        \"dtype\": \"number\",\n        \"std\": 2.5564677028974288,\n        \"min\": 6.200970533392815,\n        \"max\": 25.96722204888372,\n        \"num_unique_values\": 9704,\n        \"samples\": [\n          16.642943419221385,\n          16.298377150953442,\n          18.59182197290521\n        ],\n        \"semantic_type\": \"\",\n        \"description\": \"\"\n      }\n    }\n  ]\n}"
            }
          },
          "metadata": {},
          "execution_count": 14
        }
      ]
    },
    {
      "cell_type": "code",
      "source": [
        "df.columns[df.isnull().any()]"
      ],
      "metadata": {
        "colab": {
          "base_uri": "https://localhost:8080/"
        },
        "id": "T19Be-Qn3cTy",
        "outputId": "d36f057b-75a1-4594-f513-ac8003271700"
      },
      "execution_count": 13,
      "outputs": [
        {
          "output_type": "execute_result",
          "data": {
            "text/plain": [
              "Index(['horsepower'], dtype='object')"
            ]
          },
          "metadata": {},
          "execution_count": 13
        }
      ]
    },
    {
      "cell_type": "code",
      "source": [
        "df['horsepower'].median()"
      ],
      "metadata": {
        "colab": {
          "base_uri": "https://localhost:8080/"
        },
        "id": "RqVqzKt9HUn1",
        "outputId": "470d644a-4ec6-4659-e48a-f7ca9be0eb38"
      },
      "execution_count": 15,
      "outputs": [
        {
          "output_type": "execute_result",
          "data": {
            "text/plain": [
              "149.0"
            ]
          },
          "metadata": {},
          "execution_count": 15
        }
      ]
    },
    {
      "cell_type": "code",
      "source": [
        "import matplotlib.pyplot as plt\n",
        "import seaborn as sns\n",
        "\n",
        "%matplotlib inline"
      ],
      "metadata": {
        "id": "L-Krfkk-KYJr"
      },
      "execution_count": 16,
      "outputs": []
    },
    {
      "cell_type": "markdown",
      "source": [
        "2.3 setting up the validation work"
      ],
      "metadata": {
        "id": "Rnf2-c6aLxZh"
      }
    },
    {
      "cell_type": "code",
      "source": [
        "n = len(df)\n",
        "\n",
        "n_val = int(n*0.2)\n",
        "n_test = int(n*0.2)\n",
        "n_train = n - n_val - n_test\n",
        "n"
      ],
      "metadata": {
        "colab": {
          "base_uri": "https://localhost:8080/"
        },
        "id": "zD8qAy3WKj70",
        "outputId": "58ae2ed8-4873-41a6-d902-0f304fb3c9c5"
      },
      "execution_count": 17,
      "outputs": [
        {
          "output_type": "execute_result",
          "data": {
            "text/plain": [
              "9704"
            ]
          },
          "metadata": {},
          "execution_count": 17
        }
      ]
    },
    {
      "cell_type": "code",
      "source": [
        "n_val, n_test, n_train"
      ],
      "metadata": {
        "colab": {
          "base_uri": "https://localhost:8080/"
        },
        "id": "dJfEfzzdMe5z",
        "outputId": "3c1f15af-4781-41c2-fe3d-ad0171a22a43"
      },
      "execution_count": 18,
      "outputs": [
        {
          "output_type": "execute_result",
          "data": {
            "text/plain": [
              "(1940, 1940, 5824)"
            ]
          },
          "metadata": {},
          "execution_count": 18
        }
      ]
    },
    {
      "cell_type": "code",
      "source": [
        "df.iloc[[10, 0, 3, 5]]"
      ],
      "metadata": {
        "colab": {
          "base_uri": "https://localhost:8080/",
          "height": 175
        },
        "id": "pC887TpyMpEk",
        "outputId": "b894a3df-c85e-4bd3-e720-f21fe1f39b50"
      },
      "execution_count": 19,
      "outputs": [
        {
          "output_type": "execute_result",
          "data": {
            "text/plain": [
              "    engine_displacement  horsepower  vehicle_weight  model_year  \\\n",
              "10                  230       100.0     3111.810181        2014   \n",
              "0                   170       159.0     3413.433759        2003   \n",
              "3                   220         NaN     2542.392402        2009   \n",
              "5                   190         NaN     2484.883986        2008   \n",
              "\n",
              "    fuel_efficiency_mpg  \n",
              "10            13.386605  \n",
              "0             13.231729  \n",
              "3             16.912736  \n",
              "5             17.271818  "
            ],
            "text/html": [
              "\n",
              "  <div id=\"df-a3da261a-785a-45a7-8274-d838a13ec905\" class=\"colab-df-container\">\n",
              "    <div>\n",
              "<style scoped>\n",
              "    .dataframe tbody tr th:only-of-type {\n",
              "        vertical-align: middle;\n",
              "    }\n",
              "\n",
              "    .dataframe tbody tr th {\n",
              "        vertical-align: top;\n",
              "    }\n",
              "\n",
              "    .dataframe thead th {\n",
              "        text-align: right;\n",
              "    }\n",
              "</style>\n",
              "<table border=\"1\" class=\"dataframe\">\n",
              "  <thead>\n",
              "    <tr style=\"text-align: right;\">\n",
              "      <th></th>\n",
              "      <th>engine_displacement</th>\n",
              "      <th>horsepower</th>\n",
              "      <th>vehicle_weight</th>\n",
              "      <th>model_year</th>\n",
              "      <th>fuel_efficiency_mpg</th>\n",
              "    </tr>\n",
              "  </thead>\n",
              "  <tbody>\n",
              "    <tr>\n",
              "      <th>10</th>\n",
              "      <td>230</td>\n",
              "      <td>100.0</td>\n",
              "      <td>3111.810181</td>\n",
              "      <td>2014</td>\n",
              "      <td>13.386605</td>\n",
              "    </tr>\n",
              "    <tr>\n",
              "      <th>0</th>\n",
              "      <td>170</td>\n",
              "      <td>159.0</td>\n",
              "      <td>3413.433759</td>\n",
              "      <td>2003</td>\n",
              "      <td>13.231729</td>\n",
              "    </tr>\n",
              "    <tr>\n",
              "      <th>3</th>\n",
              "      <td>220</td>\n",
              "      <td>NaN</td>\n",
              "      <td>2542.392402</td>\n",
              "      <td>2009</td>\n",
              "      <td>16.912736</td>\n",
              "    </tr>\n",
              "    <tr>\n",
              "      <th>5</th>\n",
              "      <td>190</td>\n",
              "      <td>NaN</td>\n",
              "      <td>2484.883986</td>\n",
              "      <td>2008</td>\n",
              "      <td>17.271818</td>\n",
              "    </tr>\n",
              "  </tbody>\n",
              "</table>\n",
              "</div>\n",
              "    <div class=\"colab-df-buttons\">\n",
              "\n",
              "  <div class=\"colab-df-container\">\n",
              "    <button class=\"colab-df-convert\" onclick=\"convertToInteractive('df-a3da261a-785a-45a7-8274-d838a13ec905')\"\n",
              "            title=\"Convert this dataframe to an interactive table.\"\n",
              "            style=\"display:none;\">\n",
              "\n",
              "  <svg xmlns=\"http://www.w3.org/2000/svg\" height=\"24px\" viewBox=\"0 -960 960 960\">\n",
              "    <path d=\"M120-120v-720h720v720H120Zm60-500h600v-160H180v160Zm220 220h160v-160H400v160Zm0 220h160v-160H400v160ZM180-400h160v-160H180v160Zm440 0h160v-160H620v160ZM180-180h160v-160H180v160Zm440 0h160v-160H620v160Z\"/>\n",
              "  </svg>\n",
              "    </button>\n",
              "\n",
              "  <style>\n",
              "    .colab-df-container {\n",
              "      display:flex;\n",
              "      gap: 12px;\n",
              "    }\n",
              "\n",
              "    .colab-df-convert {\n",
              "      background-color: #E8F0FE;\n",
              "      border: none;\n",
              "      border-radius: 50%;\n",
              "      cursor: pointer;\n",
              "      display: none;\n",
              "      fill: #1967D2;\n",
              "      height: 32px;\n",
              "      padding: 0 0 0 0;\n",
              "      width: 32px;\n",
              "    }\n",
              "\n",
              "    .colab-df-convert:hover {\n",
              "      background-color: #E2EBFA;\n",
              "      box-shadow: 0px 1px 2px rgba(60, 64, 67, 0.3), 0px 1px 3px 1px rgba(60, 64, 67, 0.15);\n",
              "      fill: #174EA6;\n",
              "    }\n",
              "\n",
              "    .colab-df-buttons div {\n",
              "      margin-bottom: 4px;\n",
              "    }\n",
              "\n",
              "    [theme=dark] .colab-df-convert {\n",
              "      background-color: #3B4455;\n",
              "      fill: #D2E3FC;\n",
              "    }\n",
              "\n",
              "    [theme=dark] .colab-df-convert:hover {\n",
              "      background-color: #434B5C;\n",
              "      box-shadow: 0px 1px 3px 1px rgba(0, 0, 0, 0.15);\n",
              "      filter: drop-shadow(0px 1px 2px rgba(0, 0, 0, 0.3));\n",
              "      fill: #FFFFFF;\n",
              "    }\n",
              "  </style>\n",
              "\n",
              "    <script>\n",
              "      const buttonEl =\n",
              "        document.querySelector('#df-a3da261a-785a-45a7-8274-d838a13ec905 button.colab-df-convert');\n",
              "      buttonEl.style.display =\n",
              "        google.colab.kernel.accessAllowed ? 'block' : 'none';\n",
              "\n",
              "      async function convertToInteractive(key) {\n",
              "        const element = document.querySelector('#df-a3da261a-785a-45a7-8274-d838a13ec905');\n",
              "        const dataTable =\n",
              "          await google.colab.kernel.invokeFunction('convertToInteractive',\n",
              "                                                    [key], {});\n",
              "        if (!dataTable) return;\n",
              "\n",
              "        const docLinkHtml = 'Like what you see? Visit the ' +\n",
              "          '<a target=\"_blank\" href=https://colab.research.google.com/notebooks/data_table.ipynb>data table notebook</a>'\n",
              "          + ' to learn more about interactive tables.';\n",
              "        element.innerHTML = '';\n",
              "        dataTable['output_type'] = 'display_data';\n",
              "        await google.colab.output.renderOutput(dataTable, element);\n",
              "        const docLink = document.createElement('div');\n",
              "        docLink.innerHTML = docLinkHtml;\n",
              "        element.appendChild(docLink);\n",
              "      }\n",
              "    </script>\n",
              "  </div>\n",
              "\n",
              "\n",
              "    <div id=\"df-6a532e2d-6868-496d-b5ab-31ac37ac4f1e\">\n",
              "      <button class=\"colab-df-quickchart\" onclick=\"quickchart('df-6a532e2d-6868-496d-b5ab-31ac37ac4f1e')\"\n",
              "                title=\"Suggest charts\"\n",
              "                style=\"display:none;\">\n",
              "\n",
              "<svg xmlns=\"http://www.w3.org/2000/svg\" height=\"24px\"viewBox=\"0 0 24 24\"\n",
              "     width=\"24px\">\n",
              "    <g>\n",
              "        <path d=\"M19 3H5c-1.1 0-2 .9-2 2v14c0 1.1.9 2 2 2h14c1.1 0 2-.9 2-2V5c0-1.1-.9-2-2-2zM9 17H7v-7h2v7zm4 0h-2V7h2v10zm4 0h-2v-4h2v4z\"/>\n",
              "    </g>\n",
              "</svg>\n",
              "      </button>\n",
              "\n",
              "<style>\n",
              "  .colab-df-quickchart {\n",
              "      --bg-color: #E8F0FE;\n",
              "      --fill-color: #1967D2;\n",
              "      --hover-bg-color: #E2EBFA;\n",
              "      --hover-fill-color: #174EA6;\n",
              "      --disabled-fill-color: #AAA;\n",
              "      --disabled-bg-color: #DDD;\n",
              "  }\n",
              "\n",
              "  [theme=dark] .colab-df-quickchart {\n",
              "      --bg-color: #3B4455;\n",
              "      --fill-color: #D2E3FC;\n",
              "      --hover-bg-color: #434B5C;\n",
              "      --hover-fill-color: #FFFFFF;\n",
              "      --disabled-bg-color: #3B4455;\n",
              "      --disabled-fill-color: #666;\n",
              "  }\n",
              "\n",
              "  .colab-df-quickchart {\n",
              "    background-color: var(--bg-color);\n",
              "    border: none;\n",
              "    border-radius: 50%;\n",
              "    cursor: pointer;\n",
              "    display: none;\n",
              "    fill: var(--fill-color);\n",
              "    height: 32px;\n",
              "    padding: 0;\n",
              "    width: 32px;\n",
              "  }\n",
              "\n",
              "  .colab-df-quickchart:hover {\n",
              "    background-color: var(--hover-bg-color);\n",
              "    box-shadow: 0 1px 2px rgba(60, 64, 67, 0.3), 0 1px 3px 1px rgba(60, 64, 67, 0.15);\n",
              "    fill: var(--button-hover-fill-color);\n",
              "  }\n",
              "\n",
              "  .colab-df-quickchart-complete:disabled,\n",
              "  .colab-df-quickchart-complete:disabled:hover {\n",
              "    background-color: var(--disabled-bg-color);\n",
              "    fill: var(--disabled-fill-color);\n",
              "    box-shadow: none;\n",
              "  }\n",
              "\n",
              "  .colab-df-spinner {\n",
              "    border: 2px solid var(--fill-color);\n",
              "    border-color: transparent;\n",
              "    border-bottom-color: var(--fill-color);\n",
              "    animation:\n",
              "      spin 1s steps(1) infinite;\n",
              "  }\n",
              "\n",
              "  @keyframes spin {\n",
              "    0% {\n",
              "      border-color: transparent;\n",
              "      border-bottom-color: var(--fill-color);\n",
              "      border-left-color: var(--fill-color);\n",
              "    }\n",
              "    20% {\n",
              "      border-color: transparent;\n",
              "      border-left-color: var(--fill-color);\n",
              "      border-top-color: var(--fill-color);\n",
              "    }\n",
              "    30% {\n",
              "      border-color: transparent;\n",
              "      border-left-color: var(--fill-color);\n",
              "      border-top-color: var(--fill-color);\n",
              "      border-right-color: var(--fill-color);\n",
              "    }\n",
              "    40% {\n",
              "      border-color: transparent;\n",
              "      border-right-color: var(--fill-color);\n",
              "      border-top-color: var(--fill-color);\n",
              "    }\n",
              "    60% {\n",
              "      border-color: transparent;\n",
              "      border-right-color: var(--fill-color);\n",
              "    }\n",
              "    80% {\n",
              "      border-color: transparent;\n",
              "      border-right-color: var(--fill-color);\n",
              "      border-bottom-color: var(--fill-color);\n",
              "    }\n",
              "    90% {\n",
              "      border-color: transparent;\n",
              "      border-bottom-color: var(--fill-color);\n",
              "    }\n",
              "  }\n",
              "</style>\n",
              "\n",
              "      <script>\n",
              "        async function quickchart(key) {\n",
              "          const quickchartButtonEl =\n",
              "            document.querySelector('#' + key + ' button');\n",
              "          quickchartButtonEl.disabled = true;  // To prevent multiple clicks.\n",
              "          quickchartButtonEl.classList.add('colab-df-spinner');\n",
              "          try {\n",
              "            const charts = await google.colab.kernel.invokeFunction(\n",
              "                'suggestCharts', [key], {});\n",
              "          } catch (error) {\n",
              "            console.error('Error during call to suggestCharts:', error);\n",
              "          }\n",
              "          quickchartButtonEl.classList.remove('colab-df-spinner');\n",
              "          quickchartButtonEl.classList.add('colab-df-quickchart-complete');\n",
              "        }\n",
              "        (() => {\n",
              "          let quickchartButtonEl =\n",
              "            document.querySelector('#df-6a532e2d-6868-496d-b5ab-31ac37ac4f1e button');\n",
              "          quickchartButtonEl.style.display =\n",
              "            google.colab.kernel.accessAllowed ? 'block' : 'none';\n",
              "        })();\n",
              "      </script>\n",
              "    </div>\n",
              "\n",
              "    </div>\n",
              "  </div>\n"
            ],
            "application/vnd.google.colaboratory.intrinsic+json": {
              "type": "dataframe",
              "summary": "{\n  \"name\": \"df\",\n  \"rows\": 4,\n  \"fields\": [\n    {\n      \"column\": \"engine_displacement\",\n      \"properties\": {\n        \"dtype\": \"number\",\n        \"std\": 27,\n        \"min\": 170,\n        \"max\": 230,\n        \"num_unique_values\": 4,\n        \"samples\": [\n          170,\n          190,\n          230\n        ],\n        \"semantic_type\": \"\",\n        \"description\": \"\"\n      }\n    },\n    {\n      \"column\": \"horsepower\",\n      \"properties\": {\n        \"dtype\": \"number\",\n        \"std\": 41.71930009000631,\n        \"min\": 100.0,\n        \"max\": 159.0,\n        \"num_unique_values\": 2,\n        \"samples\": [\n          159.0,\n          100.0\n        ],\n        \"semantic_type\": \"\",\n        \"description\": \"\"\n      }\n    },\n    {\n      \"column\": \"vehicle_weight\",\n      \"properties\": {\n        \"dtype\": \"number\",\n        \"std\": 450.2290886942514,\n        \"min\": 2484.883986036068,\n        \"max\": 3413.433758606219,\n        \"num_unique_values\": 4,\n        \"samples\": [\n          3413.433758606219,\n          2484.883986036068\n        ],\n        \"semantic_type\": \"\",\n        \"description\": \"\"\n      }\n    },\n    {\n      \"column\": \"model_year\",\n      \"properties\": {\n        \"dtype\": \"number\",\n        \"std\": 4,\n        \"min\": 2003,\n        \"max\": 2014,\n        \"num_unique_values\": 4,\n        \"samples\": [\n          2003,\n          2008\n        ],\n        \"semantic_type\": \"\",\n        \"description\": \"\"\n      }\n    },\n    {\n      \"column\": \"fuel_efficiency_mpg\",\n      \"properties\": {\n        \"dtype\": \"number\",\n        \"std\": 2.190006458082484,\n        \"min\": 13.231728906241411,\n        \"max\": 17.271818372724237,\n        \"num_unique_values\": 4,\n        \"samples\": [\n          13.231728906241411,\n          17.271818372724237\n        ],\n        \"semantic_type\": \"\",\n        \"description\": \"\"\n      }\n    }\n  ]\n}"
            }
          },
          "metadata": {},
          "execution_count": 19
        }
      ]
    },
    {
      "cell_type": "code",
      "source": [
        "df_train = df.iloc[:n_train]\n",
        "df_val = df.iloc[n_train:n_train+n_val]\n",
        "df_test = df.iloc[n_train+n_val:]"
      ],
      "metadata": {
        "id": "3u-UR36Hvphi"
      },
      "execution_count": null,
      "outputs": []
    },
    {
      "cell_type": "code",
      "source": [
        "idx = np.arange(n)\n",
        "np.random.seed(42)\n",
        "np.random.shuffle(idx)\n",
        "df_train = df.iloc[idx[:n_train]]\n",
        "df_val = df.iloc[idx[n_train:n_train+n_val]]\n",
        "df_test = df.iloc[idx[n_train+n_val:]]\n",
        "df_train.head()"
      ],
      "metadata": {
        "colab": {
          "base_uri": "https://localhost:8080/",
          "height": 206
        },
        "id": "QcJMdH1Tvxj9",
        "outputId": "9ce7f012-5834-4907-f7f6-b34a669234db"
      },
      "execution_count": 21,
      "outputs": [
        {
          "output_type": "execute_result",
          "data": {
            "text/plain": [
              "      engine_displacement  horsepower  vehicle_weight  model_year  \\\n",
              "483                   220       144.0     2535.887591        2009   \n",
              "7506                  160       141.0     2741.170484        2019   \n",
              "8795                  230       155.0     2471.880237        2017   \n",
              "1688                  150       206.0     3748.164469        2015   \n",
              "6217                  300       111.0     2135.716359        2006   \n",
              "\n",
              "      fuel_efficiency_mpg  \n",
              "483             16.642943  \n",
              "7506            16.298377  \n",
              "8795            18.591822  \n",
              "1688            11.818843  \n",
              "6217            19.402209  "
            ],
            "text/html": [
              "\n",
              "  <div id=\"df-f9803d7d-00d8-4f00-8d52-e37a2f3aaf33\" class=\"colab-df-container\">\n",
              "    <div>\n",
              "<style scoped>\n",
              "    .dataframe tbody tr th:only-of-type {\n",
              "        vertical-align: middle;\n",
              "    }\n",
              "\n",
              "    .dataframe tbody tr th {\n",
              "        vertical-align: top;\n",
              "    }\n",
              "\n",
              "    .dataframe thead th {\n",
              "        text-align: right;\n",
              "    }\n",
              "</style>\n",
              "<table border=\"1\" class=\"dataframe\">\n",
              "  <thead>\n",
              "    <tr style=\"text-align: right;\">\n",
              "      <th></th>\n",
              "      <th>engine_displacement</th>\n",
              "      <th>horsepower</th>\n",
              "      <th>vehicle_weight</th>\n",
              "      <th>model_year</th>\n",
              "      <th>fuel_efficiency_mpg</th>\n",
              "    </tr>\n",
              "  </thead>\n",
              "  <tbody>\n",
              "    <tr>\n",
              "      <th>483</th>\n",
              "      <td>220</td>\n",
              "      <td>144.0</td>\n",
              "      <td>2535.887591</td>\n",
              "      <td>2009</td>\n",
              "      <td>16.642943</td>\n",
              "    </tr>\n",
              "    <tr>\n",
              "      <th>7506</th>\n",
              "      <td>160</td>\n",
              "      <td>141.0</td>\n",
              "      <td>2741.170484</td>\n",
              "      <td>2019</td>\n",
              "      <td>16.298377</td>\n",
              "    </tr>\n",
              "    <tr>\n",
              "      <th>8795</th>\n",
              "      <td>230</td>\n",
              "      <td>155.0</td>\n",
              "      <td>2471.880237</td>\n",
              "      <td>2017</td>\n",
              "      <td>18.591822</td>\n",
              "    </tr>\n",
              "    <tr>\n",
              "      <th>1688</th>\n",
              "      <td>150</td>\n",
              "      <td>206.0</td>\n",
              "      <td>3748.164469</td>\n",
              "      <td>2015</td>\n",
              "      <td>11.818843</td>\n",
              "    </tr>\n",
              "    <tr>\n",
              "      <th>6217</th>\n",
              "      <td>300</td>\n",
              "      <td>111.0</td>\n",
              "      <td>2135.716359</td>\n",
              "      <td>2006</td>\n",
              "      <td>19.402209</td>\n",
              "    </tr>\n",
              "  </tbody>\n",
              "</table>\n",
              "</div>\n",
              "    <div class=\"colab-df-buttons\">\n",
              "\n",
              "  <div class=\"colab-df-container\">\n",
              "    <button class=\"colab-df-convert\" onclick=\"convertToInteractive('df-f9803d7d-00d8-4f00-8d52-e37a2f3aaf33')\"\n",
              "            title=\"Convert this dataframe to an interactive table.\"\n",
              "            style=\"display:none;\">\n",
              "\n",
              "  <svg xmlns=\"http://www.w3.org/2000/svg\" height=\"24px\" viewBox=\"0 -960 960 960\">\n",
              "    <path d=\"M120-120v-720h720v720H120Zm60-500h600v-160H180v160Zm220 220h160v-160H400v160Zm0 220h160v-160H400v160ZM180-400h160v-160H180v160Zm440 0h160v-160H620v160ZM180-180h160v-160H180v160Zm440 0h160v-160H620v160Z\"/>\n",
              "  </svg>\n",
              "    </button>\n",
              "\n",
              "  <style>\n",
              "    .colab-df-container {\n",
              "      display:flex;\n",
              "      gap: 12px;\n",
              "    }\n",
              "\n",
              "    .colab-df-convert {\n",
              "      background-color: #E8F0FE;\n",
              "      border: none;\n",
              "      border-radius: 50%;\n",
              "      cursor: pointer;\n",
              "      display: none;\n",
              "      fill: #1967D2;\n",
              "      height: 32px;\n",
              "      padding: 0 0 0 0;\n",
              "      width: 32px;\n",
              "    }\n",
              "\n",
              "    .colab-df-convert:hover {\n",
              "      background-color: #E2EBFA;\n",
              "      box-shadow: 0px 1px 2px rgba(60, 64, 67, 0.3), 0px 1px 3px 1px rgba(60, 64, 67, 0.15);\n",
              "      fill: #174EA6;\n",
              "    }\n",
              "\n",
              "    .colab-df-buttons div {\n",
              "      margin-bottom: 4px;\n",
              "    }\n",
              "\n",
              "    [theme=dark] .colab-df-convert {\n",
              "      background-color: #3B4455;\n",
              "      fill: #D2E3FC;\n",
              "    }\n",
              "\n",
              "    [theme=dark] .colab-df-convert:hover {\n",
              "      background-color: #434B5C;\n",
              "      box-shadow: 0px 1px 3px 1px rgba(0, 0, 0, 0.15);\n",
              "      filter: drop-shadow(0px 1px 2px rgba(0, 0, 0, 0.3));\n",
              "      fill: #FFFFFF;\n",
              "    }\n",
              "  </style>\n",
              "\n",
              "    <script>\n",
              "      const buttonEl =\n",
              "        document.querySelector('#df-f9803d7d-00d8-4f00-8d52-e37a2f3aaf33 button.colab-df-convert');\n",
              "      buttonEl.style.display =\n",
              "        google.colab.kernel.accessAllowed ? 'block' : 'none';\n",
              "\n",
              "      async function convertToInteractive(key) {\n",
              "        const element = document.querySelector('#df-f9803d7d-00d8-4f00-8d52-e37a2f3aaf33');\n",
              "        const dataTable =\n",
              "          await google.colab.kernel.invokeFunction('convertToInteractive',\n",
              "                                                    [key], {});\n",
              "        if (!dataTable) return;\n",
              "\n",
              "        const docLinkHtml = 'Like what you see? Visit the ' +\n",
              "          '<a target=\"_blank\" href=https://colab.research.google.com/notebooks/data_table.ipynb>data table notebook</a>'\n",
              "          + ' to learn more about interactive tables.';\n",
              "        element.innerHTML = '';\n",
              "        dataTable['output_type'] = 'display_data';\n",
              "        await google.colab.output.renderOutput(dataTable, element);\n",
              "        const docLink = document.createElement('div');\n",
              "        docLink.innerHTML = docLinkHtml;\n",
              "        element.appendChild(docLink);\n",
              "      }\n",
              "    </script>\n",
              "  </div>\n",
              "\n",
              "\n",
              "    <div id=\"df-4c8f11ef-ef79-4f7a-af24-600639d06151\">\n",
              "      <button class=\"colab-df-quickchart\" onclick=\"quickchart('df-4c8f11ef-ef79-4f7a-af24-600639d06151')\"\n",
              "                title=\"Suggest charts\"\n",
              "                style=\"display:none;\">\n",
              "\n",
              "<svg xmlns=\"http://www.w3.org/2000/svg\" height=\"24px\"viewBox=\"0 0 24 24\"\n",
              "     width=\"24px\">\n",
              "    <g>\n",
              "        <path d=\"M19 3H5c-1.1 0-2 .9-2 2v14c0 1.1.9 2 2 2h14c1.1 0 2-.9 2-2V5c0-1.1-.9-2-2-2zM9 17H7v-7h2v7zm4 0h-2V7h2v10zm4 0h-2v-4h2v4z\"/>\n",
              "    </g>\n",
              "</svg>\n",
              "      </button>\n",
              "\n",
              "<style>\n",
              "  .colab-df-quickchart {\n",
              "      --bg-color: #E8F0FE;\n",
              "      --fill-color: #1967D2;\n",
              "      --hover-bg-color: #E2EBFA;\n",
              "      --hover-fill-color: #174EA6;\n",
              "      --disabled-fill-color: #AAA;\n",
              "      --disabled-bg-color: #DDD;\n",
              "  }\n",
              "\n",
              "  [theme=dark] .colab-df-quickchart {\n",
              "      --bg-color: #3B4455;\n",
              "      --fill-color: #D2E3FC;\n",
              "      --hover-bg-color: #434B5C;\n",
              "      --hover-fill-color: #FFFFFF;\n",
              "      --disabled-bg-color: #3B4455;\n",
              "      --disabled-fill-color: #666;\n",
              "  }\n",
              "\n",
              "  .colab-df-quickchart {\n",
              "    background-color: var(--bg-color);\n",
              "    border: none;\n",
              "    border-radius: 50%;\n",
              "    cursor: pointer;\n",
              "    display: none;\n",
              "    fill: var(--fill-color);\n",
              "    height: 32px;\n",
              "    padding: 0;\n",
              "    width: 32px;\n",
              "  }\n",
              "\n",
              "  .colab-df-quickchart:hover {\n",
              "    background-color: var(--hover-bg-color);\n",
              "    box-shadow: 0 1px 2px rgba(60, 64, 67, 0.3), 0 1px 3px 1px rgba(60, 64, 67, 0.15);\n",
              "    fill: var(--button-hover-fill-color);\n",
              "  }\n",
              "\n",
              "  .colab-df-quickchart-complete:disabled,\n",
              "  .colab-df-quickchart-complete:disabled:hover {\n",
              "    background-color: var(--disabled-bg-color);\n",
              "    fill: var(--disabled-fill-color);\n",
              "    box-shadow: none;\n",
              "  }\n",
              "\n",
              "  .colab-df-spinner {\n",
              "    border: 2px solid var(--fill-color);\n",
              "    border-color: transparent;\n",
              "    border-bottom-color: var(--fill-color);\n",
              "    animation:\n",
              "      spin 1s steps(1) infinite;\n",
              "  }\n",
              "\n",
              "  @keyframes spin {\n",
              "    0% {\n",
              "      border-color: transparent;\n",
              "      border-bottom-color: var(--fill-color);\n",
              "      border-left-color: var(--fill-color);\n",
              "    }\n",
              "    20% {\n",
              "      border-color: transparent;\n",
              "      border-left-color: var(--fill-color);\n",
              "      border-top-color: var(--fill-color);\n",
              "    }\n",
              "    30% {\n",
              "      border-color: transparent;\n",
              "      border-left-color: var(--fill-color);\n",
              "      border-top-color: var(--fill-color);\n",
              "      border-right-color: var(--fill-color);\n",
              "    }\n",
              "    40% {\n",
              "      border-color: transparent;\n",
              "      border-right-color: var(--fill-color);\n",
              "      border-top-color: var(--fill-color);\n",
              "    }\n",
              "    60% {\n",
              "      border-color: transparent;\n",
              "      border-right-color: var(--fill-color);\n",
              "    }\n",
              "    80% {\n",
              "      border-color: transparent;\n",
              "      border-right-color: var(--fill-color);\n",
              "      border-bottom-color: var(--fill-color);\n",
              "    }\n",
              "    90% {\n",
              "      border-color: transparent;\n",
              "      border-bottom-color: var(--fill-color);\n",
              "    }\n",
              "  }\n",
              "</style>\n",
              "\n",
              "      <script>\n",
              "        async function quickchart(key) {\n",
              "          const quickchartButtonEl =\n",
              "            document.querySelector('#' + key + ' button');\n",
              "          quickchartButtonEl.disabled = true;  // To prevent multiple clicks.\n",
              "          quickchartButtonEl.classList.add('colab-df-spinner');\n",
              "          try {\n",
              "            const charts = await google.colab.kernel.invokeFunction(\n",
              "                'suggestCharts', [key], {});\n",
              "          } catch (error) {\n",
              "            console.error('Error during call to suggestCharts:', error);\n",
              "          }\n",
              "          quickchartButtonEl.classList.remove('colab-df-spinner');\n",
              "          quickchartButtonEl.classList.add('colab-df-quickchart-complete');\n",
              "        }\n",
              "        (() => {\n",
              "          let quickchartButtonEl =\n",
              "            document.querySelector('#df-4c8f11ef-ef79-4f7a-af24-600639d06151 button');\n",
              "          quickchartButtonEl.style.display =\n",
              "            google.colab.kernel.accessAllowed ? 'block' : 'none';\n",
              "        })();\n",
              "      </script>\n",
              "    </div>\n",
              "\n",
              "    </div>\n",
              "  </div>\n"
            ],
            "application/vnd.google.colaboratory.intrinsic+json": {
              "type": "dataframe",
              "variable_name": "df_train",
              "summary": "{\n  \"name\": \"df_train\",\n  \"rows\": 5824,\n  \"fields\": [\n    {\n      \"column\": \"engine_displacement\",\n      \"properties\": {\n        \"dtype\": \"number\",\n        \"std\": 49,\n        \"min\": 10,\n        \"max\": 380,\n        \"num_unique_values\": 36,\n        \"samples\": [\n          10,\n          200,\n          100\n        ],\n        \"semantic_type\": \"\",\n        \"description\": \"\"\n      }\n    },\n    {\n      \"column\": \"horsepower\",\n      \"properties\": {\n        \"dtype\": \"number\",\n        \"std\": 29.610498104437468,\n        \"min\": 46.0,\n        \"max\": 246.0,\n        \"num_unique_values\": 181,\n        \"samples\": [\n          146.0,\n          113.0,\n          95.0\n        ],\n        \"semantic_type\": \"\",\n        \"description\": \"\"\n      }\n    },\n    {\n      \"column\": \"vehicle_weight\",\n      \"properties\": {\n        \"dtype\": \"number\",\n        \"std\": 497.85699759648054,\n        \"min\": 952.6817606436496,\n        \"max\": 4610.973228623097,\n        \"num_unique_values\": 5824,\n        \"samples\": [\n          2683.218165433716,\n          2751.671007934503,\n          2931.6967348489643\n        ],\n        \"semantic_type\": \"\",\n        \"description\": \"\"\n      }\n    },\n    {\n      \"column\": \"model_year\",\n      \"properties\": {\n        \"dtype\": \"number\",\n        \"std\": 6,\n        \"min\": 2000,\n        \"max\": 2023,\n        \"num_unique_values\": 24,\n        \"samples\": [\n          2020,\n          2022,\n          2009\n        ],\n        \"semantic_type\": \"\",\n        \"description\": \"\"\n      }\n    },\n    {\n      \"column\": \"fuel_efficiency_mpg\",\n      \"properties\": {\n        \"dtype\": \"number\",\n        \"std\": 2.558076910254169,\n        \"min\": 6.846255872165621,\n        \"max\": 25.96722204888372,\n        \"num_unique_values\": 5824,\n        \"samples\": [\n          17.132171951302205,\n          15.138153956355245,\n          15.051958573773703\n        ],\n        \"semantic_type\": \"\",\n        \"description\": \"\"\n      }\n    }\n  ]\n}"
            }
          },
          "metadata": {},
          "execution_count": 21
        }
      ]
    },
    {
      "cell_type": "code",
      "source": [
        "len(df_train), len(df_val), len(df_test)"
      ],
      "metadata": {
        "colab": {
          "base_uri": "https://localhost:8080/"
        },
        "id": "9T9lp7Ymv7IW",
        "outputId": "f77632b1-309c-4dd3-a18f-da234b839b12"
      },
      "execution_count": 22,
      "outputs": [
        {
          "output_type": "execute_result",
          "data": {
            "text/plain": [
              "(5824, 1940, 1940)"
            ]
          },
          "metadata": {},
          "execution_count": 22
        }
      ]
    },
    {
      "cell_type": "code",
      "source": [
        "df_train = df_train.reset_index(drop=True)\n",
        "df_val = df_val.reset_index(drop=True)\n",
        "df_test = df_test.reset_index(drop=True)\n",
        "y_train = np.log1p(df_train.fuel_efficiency_mpg.values)\n",
        "y_val = np.log1p(df_val.fuel_efficiency_mpg.values)\n",
        "y_test = np.log1p(df_test.fuel_efficiency_mpg.values)\n",
        "del df_train['fuel_efficiency_mpg']\n",
        "del df_val['fuel_efficiency_mpg']\n",
        "del df_test['fuel_efficiency_mpg']\n",
        "len(y_train)"
      ],
      "metadata": {
        "colab": {
          "base_uri": "https://localhost:8080/"
        },
        "id": "3DPm_oi6v1cH",
        "outputId": "f26a9d4e-08c5-4c40-8fb0-f12c0a1af8e5"
      },
      "execution_count": 23,
      "outputs": [
        {
          "output_type": "execute_result",
          "data": {
            "text/plain": [
              "5824"
            ]
          },
          "metadata": {},
          "execution_count": 23
        }
      ]
    },
    {
      "cell_type": "code",
      "source": [
        "df_train.iloc[10]"
      ],
      "metadata": {
        "colab": {
          "base_uri": "https://localhost:8080/",
          "height": 210
        },
        "id": "RGCwasH0zV7L",
        "outputId": "31defc62-0e64-45ef-c33d-855761597d9e"
      },
      "execution_count": 24,
      "outputs": [
        {
          "output_type": "execute_result",
          "data": {
            "text/plain": [
              "engine_displacement     240.000000\n",
              "horsepower              159.000000\n",
              "vehicle_weight         2916.987921\n",
              "model_year             2001.000000\n",
              "Name: 10, dtype: float64"
            ],
            "text/html": [
              "<div>\n",
              "<style scoped>\n",
              "    .dataframe tbody tr th:only-of-type {\n",
              "        vertical-align: middle;\n",
              "    }\n",
              "\n",
              "    .dataframe tbody tr th {\n",
              "        vertical-align: top;\n",
              "    }\n",
              "\n",
              "    .dataframe thead th {\n",
              "        text-align: right;\n",
              "    }\n",
              "</style>\n",
              "<table border=\"1\" class=\"dataframe\">\n",
              "  <thead>\n",
              "    <tr style=\"text-align: right;\">\n",
              "      <th></th>\n",
              "      <th>10</th>\n",
              "    </tr>\n",
              "  </thead>\n",
              "  <tbody>\n",
              "    <tr>\n",
              "      <th>engine_displacement</th>\n",
              "      <td>240.000000</td>\n",
              "    </tr>\n",
              "    <tr>\n",
              "      <th>horsepower</th>\n",
              "      <td>159.000000</td>\n",
              "    </tr>\n",
              "    <tr>\n",
              "      <th>vehicle_weight</th>\n",
              "      <td>2916.987921</td>\n",
              "    </tr>\n",
              "    <tr>\n",
              "      <th>model_year</th>\n",
              "      <td>2001.000000</td>\n",
              "    </tr>\n",
              "  </tbody>\n",
              "</table>\n",
              "</div><br><label><b>dtype:</b> float64</label>"
            ]
          },
          "metadata": {},
          "execution_count": 24
        }
      ]
    },
    {
      "cell_type": "code",
      "source": [
        "xi = [453, 11, 86]\n",
        "w0 = 7.17\n",
        "w = [0.01, 0.04, 0.002]\n",
        "def linear_regression(xi):\n",
        "    n = len(xi)\n",
        "\n",
        "    pred = w0\n",
        "\n",
        "    for j in range(n):\n",
        "        pred = pred + w[j] * xi[j]\n",
        "\n",
        "    return pred\n",
        "xi = [453, 11, 86]\n",
        "w0 = 7.17\n",
        "w = [0.01, 0.04, 0.002]\n",
        "linear_regression(xi)"
      ],
      "metadata": {
        "colab": {
          "base_uri": "https://localhost:8080/"
        },
        "id": "zbIXJSELzgsx",
        "outputId": "ee66961c-afed-413c-8697-65bd7272d182"
      },
      "execution_count": 26,
      "outputs": [
        {
          "output_type": "execute_result",
          "data": {
            "text/plain": [
              "12.312"
            ]
          },
          "metadata": {},
          "execution_count": 26
        }
      ]
    },
    {
      "cell_type": "code",
      "source": [
        "np.expm1(12.312)"
      ],
      "metadata": {
        "colab": {
          "base_uri": "https://localhost:8080/"
        },
        "id": "xAEW-obzzvYr",
        "outputId": "f2dcf6f1-2521-4d0e-c283-a8706a6dff39"
      },
      "execution_count": 27,
      "outputs": [
        {
          "output_type": "execute_result",
          "data": {
            "text/plain": [
              "np.float64(222347.2221101062)"
            ]
          },
          "metadata": {},
          "execution_count": 27
        }
      ]
    },
    {
      "cell_type": "code",
      "source": [
        "np.log1p(222347.2221101062)"
      ],
      "metadata": {
        "colab": {
          "base_uri": "https://localhost:8080/"
        },
        "id": "rlBa7l58zwZ2",
        "outputId": "9c2494f8-b09c-46b7-e9fd-fa2b82e084bb"
      },
      "execution_count": 28,
      "outputs": [
        {
          "output_type": "execute_result",
          "data": {
            "text/plain": [
              "np.float64(12.312)"
            ]
          },
          "metadata": {},
          "execution_count": 28
        }
      ]
    },
    {
      "cell_type": "code",
      "source": [
        "def dot(xi, w):\n",
        "    n = len(xi)\n",
        "\n",
        "    res = 0.0\n",
        "\n",
        "    for j in range(n):\n",
        "        res = res + xi[j] * w[j]\n",
        "\n",
        "    return res\n",
        "def linear_regression(xi):\n",
        "    return w0 + dot(xi, w)\n",
        "w_new = [w0] + w\n",
        "w_new"
      ],
      "metadata": {
        "colab": {
          "base_uri": "https://localhost:8080/"
        },
        "id": "m-4PWC7lz3zd",
        "outputId": "0897a81e-6ba6-4e43-b70c-1267138c068d"
      },
      "execution_count": 29,
      "outputs": [
        {
          "output_type": "execute_result",
          "data": {
            "text/plain": [
              "[7.17, 0.01, 0.04, 0.002]"
            ]
          },
          "metadata": {},
          "execution_count": 29
        }
      ]
    },
    {
      "cell_type": "code",
      "source": [
        "def linear_regression(xi):\n",
        "    xi = [1] + xi\n",
        "    return dot(xi, w_new)\n",
        "linear_regression(xi)"
      ],
      "metadata": {
        "colab": {
          "base_uri": "https://localhost:8080/"
        },
        "id": "XQUi4EDQz7LP",
        "outputId": "9e3c9b16-2622-4fe1-be4c-5f63e819b8de"
      },
      "execution_count": 30,
      "outputs": [
        {
          "output_type": "execute_result",
          "data": {
            "text/plain": [
              "12.312"
            ]
          },
          "metadata": {},
          "execution_count": 30
        }
      ]
    },
    {
      "cell_type": "code",
      "source": [
        "w0 = 7.17\n",
        "w = [0.01, 0.04, 0.002]\n",
        "w_new = [w0] + w\n",
        "x1  = [1, 148, 24, 1385]\n",
        "x2  = [1, 132, 25, 2031]\n",
        "x10 = [1, 453, 11, 86]\n",
        "\n",
        "X = [x1, x2, x10]\n",
        "X = np.array(X)\n",
        "X"
      ],
      "metadata": {
        "colab": {
          "base_uri": "https://localhost:8080/"
        },
        "id": "jKlCe3Ufz9sT",
        "outputId": "c7ee2858-3a04-470f-ccc9-2690364bf178"
      },
      "execution_count": 31,
      "outputs": [
        {
          "output_type": "execute_result",
          "data": {
            "text/plain": [
              "array([[   1,  148,   24, 1385],\n",
              "       [   1,  132,   25, 2031],\n",
              "       [   1,  453,   11,   86]])"
            ]
          },
          "metadata": {},
          "execution_count": 31
        }
      ]
    },
    {
      "cell_type": "code",
      "source": [
        "def linear_regression(X):\n",
        "    return X.dot(w_new)\n",
        "linear_regression(X)"
      ],
      "metadata": {
        "colab": {
          "base_uri": "https://localhost:8080/"
        },
        "id": "fGxIM5Qk0ANB",
        "outputId": "80d97191-5378-4925-8cf6-75486a09ed6f"
      },
      "execution_count": 32,
      "outputs": [
        {
          "output_type": "execute_result",
          "data": {
            "text/plain": [
              "array([12.38 , 13.552, 12.312])"
            ]
          },
          "metadata": {},
          "execution_count": 32
        }
      ]
    },
    {
      "cell_type": "code",
      "source": [
        "def train_linear_regression(X, y):\n",
        "    pass\n",
        "X = [\n",
        "    [148, 24, 1385],\n",
        "    [132, 25, 2031],\n",
        "    [453, 11, 86],\n",
        "    [158, 24, 185],\n",
        "    [172, 25, 201],\n",
        "    [413, 11, 86],\n",
        "    [38,  54, 185],\n",
        "    [142, 25, 431],\n",
        "    [453, 31, 86],\n",
        "]\n",
        "\n",
        "X = np.array(X)\n",
        "X"
      ],
      "metadata": {
        "colab": {
          "base_uri": "https://localhost:8080/"
        },
        "id": "RyP832Jk0ELi",
        "outputId": "dc58b40d-26ef-4fd2-d595-a1f79e2521c4"
      },
      "execution_count": 33,
      "outputs": [
        {
          "output_type": "execute_result",
          "data": {
            "text/plain": [
              "array([[ 148,   24, 1385],\n",
              "       [ 132,   25, 2031],\n",
              "       [ 453,   11,   86],\n",
              "       [ 158,   24,  185],\n",
              "       [ 172,   25,  201],\n",
              "       [ 413,   11,   86],\n",
              "       [  38,   54,  185],\n",
              "       [ 142,   25,  431],\n",
              "       [ 453,   31,   86]])"
            ]
          },
          "metadata": {},
          "execution_count": 33
        }
      ]
    },
    {
      "cell_type": "code",
      "source": [
        "ones = np.ones(X.shape[0])\n",
        "ones"
      ],
      "metadata": {
        "colab": {
          "base_uri": "https://localhost:8080/"
        },
        "id": "6X2FNB8y0HVR",
        "outputId": "74218bf8-2d44-4e1f-ded9-b64fccd89278"
      },
      "execution_count": 34,
      "outputs": [
        {
          "output_type": "execute_result",
          "data": {
            "text/plain": [
              "array([1., 1., 1., 1., 1., 1., 1., 1., 1.])"
            ]
          },
          "metadata": {},
          "execution_count": 34
        }
      ]
    },
    {
      "cell_type": "code",
      "source": [
        "X = np.column_stack([ones, X])\n",
        "y = [10000, 20000, 15000, 20050, 10000, 20000, 15000, 25000, 12000]\n",
        "XTX = X.T.dot(X)\n",
        "XTX_inv = np.linalg.inv(XTX)\n",
        "w_full = XTX_inv.dot(X.T).dot(y)\n",
        "\n",
        "\n",
        "w0 = w_full[0]\n",
        "w = w_full[1:]\n",
        "w0, w"
      ],
      "metadata": {
        "colab": {
          "base_uri": "https://localhost:8080/"
        },
        "id": "826G-WFk0Ko7",
        "outputId": "0df32ce9-fa7f-48e5-9b42-c6cc122de88a"
      },
      "execution_count": 35,
      "outputs": [
        {
          "output_type": "execute_result",
          "data": {
            "text/plain": [
              "(np.float64(25844.754055766753),\n",
              " array([ -16.08906468, -199.47254894,   -1.22802883]))"
            ]
          },
          "metadata": {},
          "execution_count": 35
        }
      ]
    },
    {
      "cell_type": "code",
      "source": [
        "def train_linear_regression(X, y):\n",
        "    ones = np.ones(X.shape[0])\n",
        "    X = np.column_stack([ones, X])\n",
        "\n",
        "    XTX = X.T.dot(X)\n",
        "    XTX_inv = np.linalg.inv(XTX)\n",
        "    w_full = XTX_inv.dot(X.T).dot(y)\n",
        "\n",
        "    return w_full[0], w_full[1:]\n"
      ],
      "metadata": {
        "id": "G2UZbmFl0OTP"
      },
      "execution_count": 36,
      "outputs": []
    },
    {
      "cell_type": "code",
      "source": [
        "df_train.columns"
      ],
      "metadata": {
        "colab": {
          "base_uri": "https://localhost:8080/"
        },
        "id": "yq5BZeHU0qyU",
        "outputId": "d8e0c850-c5b6-4e4a-99fb-dfb9dd3fcba6"
      },
      "execution_count": 37,
      "outputs": [
        {
          "output_type": "execute_result",
          "data": {
            "text/plain": [
              "Index(['engine_displacement', 'horsepower', 'vehicle_weight', 'model_year'], dtype='object')"
            ]
          },
          "metadata": {},
          "execution_count": 37
        }
      ]
    },
    {
      "cell_type": "code",
      "source": [
        "base = ['horsepower']\n",
        "\n",
        "X_train = df_train[base].fillna(0).values\n",
        "\n",
        "#mean = df['horsepower'].mean()\n",
        "#X_train = df_train[base].fillna(mean).values\n",
        "\n",
        "w0, w = train_linear_regression(X_train, y_train)\n",
        "\n",
        "y_pred = w0 + X_train.dot(w)"
      ],
      "metadata": {
        "id": "8q5U9Dfv0ttT"
      },
      "execution_count": 61,
      "outputs": []
    },
    {
      "cell_type": "code",
      "source": [
        "w0"
      ],
      "metadata": {
        "colab": {
          "base_uri": "https://localhost:8080/"
        },
        "id": "WWNv5w8l1X8E",
        "outputId": "701d13aa-ff82-4720-b776-581c71ca428a"
      },
      "execution_count": 62,
      "outputs": [
        {
          "output_type": "execute_result",
          "data": {
            "text/plain": [
              "np.float64(2.7181994253960067)"
            ]
          },
          "metadata": {},
          "execution_count": 62
        }
      ]
    },
    {
      "cell_type": "code",
      "source": [
        "w"
      ],
      "metadata": {
        "colab": {
          "base_uri": "https://localhost:8080/"
        },
        "id": "kVJ2MvR31ZrL",
        "outputId": "674fdb89-1c35-4336-d740-cf6a5d646a11"
      },
      "execution_count": 63,
      "outputs": [
        {
          "output_type": "execute_result",
          "data": {
            "text/plain": [
              "array([0.00027519])"
            ]
          },
          "metadata": {},
          "execution_count": 63
        }
      ]
    },
    {
      "cell_type": "code",
      "source": [
        "\n",
        "sns.histplot(y_pred, color='red', alpha=0.5, bins=50)\n",
        "sns.histplot(y_train, color='blue', alpha=0.5, bins=50)"
      ],
      "metadata": {
        "colab": {
          "base_uri": "https://localhost:8080/",
          "height": 448
        },
        "id": "8JNF_5b_1cac",
        "outputId": "23dd356a-bf6e-40c4-a02b-f13590f92deb"
      },
      "execution_count": 64,
      "outputs": [
        {
          "output_type": "execute_result",
          "data": {
            "text/plain": [
              "<Axes: ylabel='Count'>"
            ]
          },
          "metadata": {},
          "execution_count": 64
        },
        {
          "output_type": "display_data",
          "data": {
            "text/plain": [
              "<Figure size 640x480 with 1 Axes>"
            ],
            "image/png": "[encoded data removed]"
          },
          "metadata": {}
        }
      ]
    },
    {
      "cell_type": "markdown",
      "source": [
        "2.4 RMSE"
      ],
      "metadata": {
        "id": "-Bfm3uxf2OWk"
      }
    },
    {
      "cell_type": "code",
      "source": [
        "def rmse(y, y_pred):\n",
        "    se = (y - y_pred) ** 2\n",
        "    mse = se.mean()\n",
        "    return round(np.sqrt(mse), 2)\n",
        "rmse(y_train, y_pred)"
      ],
      "metadata": {
        "colab": {
          "base_uri": "https://localhost:8080/"
        },
        "id": "KP7ZKKvz2Wc5",
        "outputId": "0666df07-ac6b-4313-f5b3-798681453435"
      },
      "execution_count": 65,
      "outputs": [
        {
          "output_type": "execute_result",
          "data": {
            "text/plain": [
              "np.float64(0.17)"
            ]
          },
          "metadata": {},
          "execution_count": 65
        }
      ]
    },
    {
      "cell_type": "markdown",
      "source": [
        "2.5 Validation"
      ],
      "metadata": {
        "id": "Tg8DMbMw2yC1"
      }
    },
    {
      "cell_type": "code",
      "source": [
        "def prepare_X(df):\n",
        "    df_num = df[base]\n",
        "    df_num = df_num.fillna(0)\n",
        "    X = df_num.values\n",
        "    return X\n",
        "X_train = prepare_X(df_train)\n",
        "w0, w = train_linear_regression(X_train, y_train)\n",
        "\n",
        "X_val = prepare_X(df_val)\n",
        "y_pred = w0 + X_val.dot(w)\n",
        "rmse(y_val, y_pred)"
      ],
      "metadata": {
        "colab": {
          "base_uri": "https://localhost:8080/"
        },
        "id": "3k96rxmV23bA",
        "outputId": "c4c78888-b68c-472d-b81d-716c6e752c59"
      },
      "execution_count": 66,
      "outputs": [
        {
          "output_type": "execute_result",
          "data": {
            "text/plain": [
              "np.float64(0.17)"
            ]
          },
          "metadata": {},
          "execution_count": 66
        }
      ]
    },
    {
      "cell_type": "markdown",
      "source": [
        "2.6 Simple Feature Engineering"
      ],
      "metadata": {
        "id": "hFq16Jxv3KtL"
      }
    },
    {
      "cell_type": "code",
      "source": [
        "def prepare_X(df):\n",
        "    df = df.copy()\n",
        "\n",
        "    df['age'] = 2017 - df['model_year']\n",
        "    features = base + ['age']\n",
        "\n",
        "    df_num = df[features]\n",
        "    df_num = df_num.fillna(0)\n",
        "    X = df_num.values\n",
        "\n",
        "    return X\n",
        "X_train = prepare_X(df_train)\n",
        "w0, w = train_linear_regression(X_train, y_train)\n",
        "\n",
        "X_val = prepare_X(df_val)\n",
        "y_pred = w0 + X_val.dot(w)\n",
        "rmse(y_val, y_pred)"
      ],
      "metadata": {
        "colab": {
          "base_uri": "https://localhost:8080/"
        },
        "id": "hSN8Hjly3PsD",
        "outputId": "59196c33-2e4a-40ac-e59e-aa4450dae333"
      },
      "execution_count": null,
      "outputs": [
        {
          "output_type": "execute_result",
          "data": {
            "text/plain": [
              "np.float64(0.16368255554826822)"
            ]
          },
          "metadata": {},
          "execution_count": 65
        }
      ]
    },
    {
      "cell_type": "code",
      "source": [
        "sns.histplot(y_pred, label='prediction', color='red', alpha=0.5, bins=50)\n",
        "sns.histplot(y_val, label='target', color='blue',  alpha=0.5, bins=50)\n",
        "plt.legend()"
      ],
      "metadata": {
        "colab": {
          "base_uri": "https://localhost:8080/",
          "height": 448
        },
        "id": "fnQXGiW73cE0",
        "outputId": "35ee8b9b-ac69-4caa-fa2f-8dacce9b0a3f"
      },
      "execution_count": 67,
      "outputs": [
        {
          "output_type": "execute_result",
          "data": {
            "text/plain": [
              "<matplotlib.legend.Legend at 0x78810d39b4a0>"
            ]
          },
          "metadata": {},
          "execution_count": 67
        },
        {
          "output_type": "display_data",
          "data": {
            "text/plain": [
              "<Figure size 640x480 with 1 Axes>"
            ],
            "image/png": "[encoded data removed]"
          },
          "metadata": {}
        }
      ]
    },
    {
      "cell_type": "code",
      "source": [
        "df_train.columns\n"
      ],
      "metadata": {
        "colab": {
          "base_uri": "https://localhost:8080/"
        },
        "id": "pnf3E2aJpoF4",
        "outputId": "3e057683-614b-4414-8b3a-7d44b3e04146"
      },
      "execution_count": 71,
      "outputs": [
        {
          "output_type": "execute_result",
          "data": {
            "text/plain": [
              "Index(['engine_displacement', 'horsepower', 'vehicle_weight', 'model_year'], dtype='object')"
            ]
          },
          "metadata": {},
          "execution_count": 71
        }
      ]
    },
    {
      "cell_type": "code",
      "source": [
        "df.columns"
      ],
      "metadata": {
        "colab": {
          "base_uri": "https://localhost:8080/"
        },
        "id": "CWYwZME9pw4a",
        "outputId": "f110e496-9e18-4ba9-8879-2bfeac08a74d"
      },
      "execution_count": 70,
      "outputs": [
        {
          "output_type": "execute_result",
          "data": {
            "text/plain": [
              "Index(['engine_displacement', 'horsepower', 'vehicle_weight', 'model_year',\n",
              "       'fuel_efficiency_mpg'],\n",
              "      dtype='object')"
            ]
          },
          "metadata": {},
          "execution_count": 70
        }
      ]
    },
    {
      "cell_type": "markdown",
      "source": [
        "2.7 Categorical Variables"
      ],
      "metadata": {
        "id": "RnvXpR6z3jwr"
      }
    },
    {
      "cell_type": "code",
      "source": [
        "categorical_columns = ['engine_displacement',\n",
        "                       'horsepower','vehicle_weight',\n",
        "                       'model_year']\n",
        "\n",
        "categorical = {}\n",
        "\n",
        "for c in categorical_columns:\n",
        "    categorical[c] = list(df_train[c].value_counts().head().index)\n",
        "def prepare_X(df):\n",
        "    df = df.copy()\n",
        "\n",
        "    df['age'] = 2017 - df['model_year']\n",
        "    features = base + ['age']\n",
        "\n",
        "\n",
        "    for name, values in categorical.items():\n",
        "        for value in values:\n",
        "            df['%s_%s' % (name, value)] = (df[name] == value).astype(int)\n",
        "            features.append('%s_%s' % (name, value))\n",
        "\n",
        "    df_num = df[features]\n",
        "    df_num = df_num.fillna(0)\n",
        "    X = df_num.values\n",
        "\n",
        "    return X\n",
        "X_train = prepare_X(df_train)\n",
        "w0, w = train_linear_regression(X_train, y_train)\n",
        "\n",
        "X_val = prepare_X(df_val)\n",
        "y_pred = w0 + X_val.dot(w)\n",
        "rmse(y_val, y_pred)"
      ],
      "metadata": {
        "colab": {
          "base_uri": "https://localhost:8080/"
        },
        "id": "J0zNkaOJ3sEQ",
        "outputId": "e57f4f30-83f0-403c-b540-511314de464e"
      },
      "execution_count": 76,
      "outputs": [
        {
          "output_type": "execute_result",
          "data": {
            "text/plain": [
              "np.float64(0.17)"
            ]
          },
          "metadata": {},
          "execution_count": 76
        }
      ]
    },
    {
      "cell_type": "code",
      "source": [
        "w0, w"
      ],
      "metadata": {
        "colab": {
          "base_uri": "https://localhost:8080/"
        },
        "id": "koA7BDbuwwpG",
        "outputId": "05c11108-00d0-47af-877d-40b70211faa7"
      },
      "execution_count": 77,
      "outputs": [
        {
          "output_type": "execute_result",
          "data": {
            "text/plain": [
              "(np.float64(2.717390902698889),\n",
              " array([ 2.76575648e-04, -3.28949708e-04,  1.01818578e-02, -2.50372487e-04,\n",
              "         9.81149767e-03,  2.35412939e-02, -1.66596463e-03, -2.20239036e-02,\n",
              "        -1.23323381e-02,  3.91359762e-03,  8.72294064e-03,  3.74347061e-02,\n",
              "        -2.33634295e-02,  6.94247002e-02,  2.78451590e-02, -2.37388276e-01,\n",
              "        -8.32926554e-02,  3.51913115e-03, -1.50438717e-02,  2.11285597e-03,\n",
              "        -1.23416521e-02,  1.81023096e-04]))"
            ]
          },
          "metadata": {},
          "execution_count": 77
        }
      ]
    },
    {
      "cell_type": "markdown",
      "source": [
        "2.8 Regularization"
      ],
      "metadata": {
        "id": "v9f52u1Jw68R"
      }
    },
    {
      "cell_type": "code",
      "source": [
        "X = [\n",
        "    [4, 4, 4],\n",
        "    [3, 5, 5],\n",
        "    [5, 1, 1],\n",
        "    [5, 4, 4],\n",
        "    [7, 5, 5],\n",
        "    [4, 5, 5.000001],\n",
        "]\n",
        "\n",
        "X = np.array(X)\n",
        "X"
      ],
      "metadata": {
        "colab": {
          "base_uri": "https://localhost:8080/"
        },
        "id": "jVszgDoMw5At",
        "outputId": "91281af5-fd8f-4292-aa9a-c2f486615489"
      },
      "execution_count": 82,
      "outputs": [
        {
          "output_type": "execute_result",
          "data": {
            "text/plain": [
              "array([[4.      , 4.      , 4.      ],\n",
              "       [3.      , 5.      , 5.      ],\n",
              "       [5.      , 1.      , 1.      ],\n",
              "       [5.      , 4.      , 4.      ],\n",
              "       [7.      , 5.      , 5.      ],\n",
              "       [4.      , 5.      , 5.000001]])"
            ]
          },
          "metadata": {},
          "execution_count": 82
        }
      ]
    },
    {
      "cell_type": "code",
      "source": [
        "y= [1, 2, 3, 1, 2, 3]"
      ],
      "metadata": {
        "id": "4SGme6x9xPG4"
      },
      "execution_count": 79,
      "outputs": []
    },
    {
      "cell_type": "code",
      "source": [
        "XTX = X.T.dot(X)\n",
        "XTX"
      ],
      "metadata": {
        "colab": {
          "base_uri": "https://localhost:8080/"
        },
        "id": "Ny3qaRvzxSY8",
        "outputId": "010dff38-b4ce-4761-e42f-129186a391de"
      },
      "execution_count": 83,
      "outputs": [
        {
          "output_type": "execute_result",
          "data": {
            "text/plain": [
              "array([[140.      , 111.      , 111.000004],\n",
              "       [111.      , 108.      , 108.000005],\n",
              "       [111.000004, 108.000005, 108.00001 ]])"
            ]
          },
          "metadata": {},
          "execution_count": 83
        }
      ]
    },
    {
      "cell_type": "code",
      "source": [
        "XTX_inv = np.linalg.inv(XTX)\n",
        "XTX_inv"
      ],
      "metadata": {
        "colab": {
          "base_uri": "https://localhost:8080/"
        },
        "id": "ogRUrqCWxXzY",
        "outputId": "67fbbcd6-b9f0-4615-d301-c8d8ebbe95de"
      },
      "execution_count": 84,
      "outputs": [
        {
          "output_type": "execute_result",
          "data": {
            "text/plain": [
              "array([[ 4.13029882e-02, -6.18460955e+04,  6.18460502e+04],\n",
              "       [-6.18460947e+04,  1.40737501e+12, -1.40737488e+12],\n",
              "       [ 6.18460493e+04, -1.40737488e+12,  1.40737475e+12]])"
            ]
          },
          "metadata": {},
          "execution_count": 84
        }
      ]
    },
    {
      "cell_type": "code",
      "source": [
        "XTX_inv.dot(X.T).dot(y)"
      ],
      "metadata": {
        "colab": {
          "base_uri": "https://localhost:8080/"
        },
        "id": "7Kh6nGoKzBKd",
        "outputId": "252011d9-fb96-449a-e97d-33627028eb2b"
      },
      "execution_count": 85,
      "outputs": [
        {
          "output_type": "execute_result",
          "data": {
            "text/plain": [
              "array([ 4.14130492e-01, -1.76437236e+06,  1.76437228e+06])"
            ]
          },
          "metadata": {},
          "execution_count": 85
        }
      ]
    },
    {
      "cell_type": "code",
      "source": [
        "XTX = [\n",
        "    [1, 2, 2],\n",
        "    [2, 1, 1.0000001],\n",
        "    [2, 1.0000001, 1]\n",
        "]\n",
        "\n",
        "XTX = np.array(XTX)"
      ],
      "metadata": {
        "id": "40hwzwsdzQEm"
      },
      "execution_count": 86,
      "outputs": []
    },
    {
      "cell_type": "code",
      "source": [
        "np.linalg.inv(XTX)"
      ],
      "metadata": {
        "colab": {
          "base_uri": "https://localhost:8080/"
        },
        "id": "h9xlx0MczRzh",
        "outputId": "86e407e0-7f87-4cdd-f622-63fafa535725"
      },
      "execution_count": 87,
      "outputs": [
        {
          "output_type": "execute_result",
          "data": {
            "text/plain": [
              "array([[-3.33333356e-01,  3.33333339e-01,  3.33333339e-01],\n",
              "       [ 3.33333339e-01, -5.00000008e+06,  4.99999991e+06],\n",
              "       [ 3.33333339e-01,  4.99999991e+06, -5.00000008e+06]])"
            ]
          },
          "metadata": {},
          "execution_count": 87
        }
      ]
    },
    {
      "cell_type": "code",
      "source": [
        "XTX = XTX + 0.01 * np.eye(3)\n",
        "np.linalg.inv(XTX)"
      ],
      "metadata": {
        "colab": {
          "base_uri": "https://localhost:8080/"
        },
        "id": "RsrxgX8GzYB_",
        "outputId": "3f8f3462-472c-427b-e532-8facf917e7d4"
      },
      "execution_count": 88,
      "outputs": [
        {
          "output_type": "execute_result",
          "data": {
            "text/plain": [
              "array([[ -0.33668908,   0.33501399,   0.33501399],\n",
              "       [  0.33501399,  49.91590897, -50.08509104],\n",
              "       [  0.33501399, -50.08509104,  49.91590897]])"
            ]
          },
          "metadata": {},
          "execution_count": 88
        }
      ]
    },
    {
      "cell_type": "code",
      "source": [
        "def train_linear_regression_reg(X, y, r=0.001):\n",
        "    ones = np.ones(X.shape[0])\n",
        "    X = np.column_stack([ones, X])\n",
        "\n",
        "    XTX = X.T.dot(X)\n",
        "    XTX = XTX + r * np.eye(XTX.shape[0])\n",
        "\n",
        "    XTX_inv = np.linalg.inv(XTX)\n",
        "    w_full = XTX_inv.dot(X.T).dot(y)\n",
        "\n",
        "    return w_full[0], w_full[1:]\n",
        "X_train = prepare_X(df_train)\n",
        "w0, w = train_linear_regression_reg(X_train, y_train, r=0.01)\n",
        "\n",
        "X_val = prepare_X(df_val)\n",
        "y_pred = w0 + X_val.dot(w)\n",
        "rmse(y_val, y_pred)"
      ],
      "metadata": {
        "colab": {
          "base_uri": "https://localhost:8080/"
        },
        "id": "kbKYDe_TzZ25",
        "outputId": "5e2ba5e8-a92d-4ac9-df5f-d6de619a94c9"
      },
      "execution_count": 89,
      "outputs": [
        {
          "output_type": "execute_result",
          "data": {
            "text/plain": [
              "np.float64(0.17)"
            ]
          },
          "metadata": {},
          "execution_count": 89
        }
      ]
    },
    {
      "cell_type": "markdown",
      "source": [
        "2.9 Turing the model"
      ],
      "metadata": {
        "id": "o5nJUAYGzfLJ"
      }
    },
    {
      "cell_type": "code",
      "source": [
        "for r in [0.0, 0.01, 0.1, 1, 5, 10, 100]:\n",
        "    X_train = prepare_X(df_train)\n",
        "    w0, w = train_linear_regression_reg(X_train, y_train, r=r)\n",
        "\n",
        "    X_val = prepare_X(df_val)\n",
        "    y_pred = w0 + X_val.dot(w)\n",
        "    score = rmse(y_val, y_pred)\n",
        "\n",
        "    print(r, w0, round(score,2))"
      ],
      "metadata": {
        "colab": {
          "base_uri": "https://localhost:8080/"
        },
        "id": "UWtxc_f5zelb",
        "outputId": "7f314397-daf0-4940-d8a4-f8434b23f474"
      },
      "execution_count": 90,
      "outputs": [
        {
          "output_type": "stream",
          "name": "stdout",
          "text": [
            "0.0 2.717390902698889 0.17\n",
            "1e-05 2.7173908519085073 0.17\n",
            "0.0001 2.717390394795162 0.17\n",
            "0.001 2.7173858236749293 0.17\n",
            "0.1 2.716883144972633 0.17\n",
            "1 2.712325003208064 0.17\n",
            "10 2.6677337623044357 0.17\n"
          ]
        }
      ]
    }
  ]
}